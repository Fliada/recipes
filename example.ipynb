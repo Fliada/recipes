{
 "cells": [
  {
   "cell_type": "code",
   "execution_count": 442,
   "metadata": {
    "collapsed": true
   },
   "outputs": [],
   "source": [
    "import requests\n",
    "from bs4 import BeautifulSoup\n",
    "import sqlite3\n",
    "import re\n",
    "import time\n",
    "from selenium import webdriver\n",
    "from selenium.webdriver.common.by import By\n",
    "from selenium.webdriver.chrome.options import Options\n",
    "from selenium.webdriver import Keys\n",
    "from selenium.webdriver.support import expected_conditions as EC\n",
    "from selenium.webdriver.support.ui import WebDriverWait\n",
    "from selenium.webdriver.common.action_chains import ActionChains\n",
    "from selenium.webdriver.common.by import By\n",
    "from selenium.webdriver.support.ui import WebDriverWait\n",
    "from selenium.webdriver.support import expected_conditions as EC"
   ]
  },
  {
   "cell_type": "code",
   "execution_count": 443,
   "outputs": [],
   "source": [
    "from bs4 import BeautifulSoup\n",
    "import re\n",
    "from uuid import uuid4"
   ],
   "metadata": {
    "collapsed": false
   }
  },
  {
   "cell_type": "code",
   "execution_count": 444,
   "outputs": [],
   "source": [
    "class Crawler:\n",
    "\n",
    "    def get_html(self):\n",
    "        pass\n",
    "\n",
    "    def get_card_info(self):\n",
    "        pass\n",
    "\n",
    "    def get_links(self, page):\n",
    "        pass"
   ],
   "metadata": {
    "collapsed": false
   }
  },
  {
   "cell_type": "code",
   "execution_count": 445,
   "outputs": [],
   "source": [
    "class CrawlerEda(Crawler):\n",
    "\n",
    "    def get_html(self, page):\n",
    "        chrome_options = Options()\n",
    "        chrome_options.add_argument(\"--disable-extensions\")\n",
    "        chrome_options.add_argument(\"--disable-popup-blocking\")\n",
    "\n",
    "        browser = webdriver.Chrome(options=chrome_options)\n",
    "        url = f\"https://eda.ru/recepty?page={page}\"\n",
    "        #browser.implicitly_wait(30)\n",
    "        browser.get(url)\n",
    "        wait = WebDriverWait(browser, 10)\n",
    "        soup = BeautifulSoup(browser.page_source, 'html.parser')\n",
    "        return soup\n",
    "\n",
    "    def get_card_info(self, number):\n",
    "        chrome_options = Options()\n",
    "        chrome_options.add_argument(\"--disable-extensions\")\n",
    "        chrome_options.add_argument(\"--disable-popup-blocking\")\n",
    "\n",
    "        browser = webdriver.Chrome(options=chrome_options)\n",
    "        action = ActionChains(browser)\n",
    "        count = 0\n",
    "\n",
    "        #linker = linkers[number]['link']\n",
    "        #browser.get(linker)\n",
    "        wait = WebDriverWait(browser, 10)\n",
    "        soup_card = BeautifulSoup(browser.page_source, 'html.parser')\n",
    "        return soup_card\n",
    "\n",
    "    def get_links(self, page):\n",
    "        links = []\n",
    "        for i in range(1, page):\n",
    "            html = CrawlerEda().get_html(i)\n",
    "            links += ParserEda(html).get_cards()\n",
    "        return links"
   ],
   "metadata": {
    "collapsed": false
   }
  },
  {
   "cell_type": "code",
   "execution_count": 446,
   "outputs": [],
   "source": [
    "class Parser:\n",
    "\n",
    "    def __init__(self, html):\n",
    "        self.html = html\n",
    "\n",
    "    def get_cards(self):\n",
    "        pass"
   ],
   "metadata": {
    "collapsed": false
   }
  },
  {
   "cell_type": "code",
   "execution_count": 447,
   "outputs": [],
   "source": [
    "class ParserEda(Parser):\n",
    "\n",
    "    def get_cards(self):\n",
    "        for recipe in self.html.findAll('div', class_='emotion-1f6ych6'):\n",
    "            try:\n",
    "                link = \"https://eda.ru\"+recipe.find('a', class_='emotion-12sjte8').get('href')\n",
    "                photo = \"https://eda.ru\"+recipe.find('img', class_='emotion-1bi124x').get('src')\n",
    "                print(link)\n",
    "            except AttributeError:\n",
    "                print(\"There's no item with that code\")\n",
    "        return Link(0, link, photo)\n"
   ],
   "metadata": {
    "collapsed": false
   }
  },
  {
   "cell_type": "code",
   "execution_count": 448,
   "outputs": [],
   "source": [
    "class Recipe:\n",
    "    def __init__(self, key, name_dish, count_portion, cook_time, ingredients, manual):\n",
    "        self.id = key\n",
    "        self.name_dish = name_dish\n",
    "        self.count_portion = count_portion\n",
    "        self.cook_time = cook_time\n",
    "        self.ingredients = ingredients\n",
    "        self.manual = manual"
   ],
   "metadata": {
    "collapsed": false
   }
  },
  {
   "cell_type": "code",
   "execution_count": 449,
   "outputs": [],
   "source": [
    "class Ingredient:\n",
    "    def __init__(self, key, name_ingr):\n",
    "        self.id = key\n",
    "        self.name_ingr = name_ingr"
   ],
   "metadata": {
    "collapsed": false
   }
  },
  {
   "cell_type": "code",
   "execution_count": 450,
   "outputs": [],
   "source": [
    "class Calories:\n",
    "    def __init__(self, key, calories, proteins, fats, carbohydrates):\n",
    "        self.id = key\n",
    "        self.calories = calories\n",
    "        self.proteins = proteins\n",
    "        self.fats = fats\n",
    "        self.carbohydrates = carbohydrates"
   ],
   "metadata": {
    "collapsed": false
   }
  },
  {
   "cell_type": "code",
   "execution_count": 451,
   "outputs": [],
   "source": [
    "class Link:\n",
    "    def __init__(self, key, link, photo):\n",
    "        self.id = key\n",
    "        self.link = link\n",
    "        self.photo = photo"
   ],
   "metadata": {
    "collapsed": false
   }
  },
  {
   "cell_type": "code",
   "execution_count": 452,
   "outputs": [],
   "source": [
    "class DBHelper:\n",
    "\n",
    "    def __init__(self, db_name = \"recipe.db\"):\n",
    "        self.dbname = f\"sqlite3:/{db_name}\"\n",
    "        self.conn = sqlite3.connect(db_name)\n",
    "\n",
    "    def simple_create_table(self, table_name, primary_key, params):\n",
    "        for i in len(params) - 1:\n",
    "            column = params[i] + \" TEXT, \"\n",
    "        column += params[len(params)] + \" TEXT \"\n",
    "        new_table = f\"CREATE TABLE IF NOT EXISTS {table_name} ({primary_key} TEXT PRIMARY KEY , {column})\"\n",
    "        self.conn.execute(new_table)\n",
    "        self.conn.commit()\n",
    "\n",
    "    def create_table(self, table_name, primary_key, foreign_table_name, foreign_col, another_foreign_col, params):\n",
    "        for i in len(params) - 1:\n",
    "            column = params[i] + \" TEXT, \"\n",
    "        column += params[len(params)] + \" TEXT \"\n",
    "\n",
    "        foreign_key = f\"FOREIGN KEY ({foreign_col})  REFERENCES {foreign_table_name} ({another_foreign_col})\"\n",
    "\n",
    "        new_table = f\"CREATE TABLE IF NOT EXISTS {table_name} ({primary_key} TEXT PRIMARY KEY , {column}, {foreign_key})\"\n",
    "        self.conn.execute(new_table)\n",
    "        self.conn.commit()\n",
    "\n",
    "    def insert(self, table_name, args):\n",
    "        for i in len(args) - 1:\n",
    "            arguments = args[i] + \", \"\n",
    "        arguments += args[len(args)]\n",
    "\n",
    "        new_insert = f\"INSERT INTO {table_name} VALUES ({arguments})\"\n",
    "        self.conn.execute(new_insert)\n",
    "        self.conn.commit()\n",
    "\n",
    "    #def print_info(self):\n",
    "\n",
    "\n",
    "    #def update(self, flat_id, updates):\n",
    "\n",
    "\n",
    "    #def delete(self, flat_id):\n"
   ],
   "metadata": {
    "collapsed": false
   }
  },
  {
   "cell_type": "code",
   "execution_count": 453,
   "outputs": [],
   "source": [
    "links = CrawlerEda().get_links(2)"
   ],
   "metadata": {
    "collapsed": false
   }
  },
  {
   "cell_type": "code",
   "execution_count": 455,
   "outputs": [],
   "source": [
    "\n",
    "linkers = []\n",
    "for i in range(1, 2):\n",
    "    html = CrawlerEda().get_html(i)\n",
    "    linkers += ParserEda(html).get_cards()"
   ],
   "metadata": {
    "collapsed": false
   }
  },
  {
   "cell_type": "code",
   "execution_count": 458,
   "outputs": [],
   "source": [
    "html = CrawlerEda().get_html(1)\n",
    "print(html)"
   ],
   "metadata": {
    "collapsed": false
   }
  }
 ],
 "metadata": {
  "kernelspec": {
   "display_name": "Python 3",
   "language": "python",
   "name": "python3"
  },
  "language_info": {
   "codemirror_mode": {
    "name": "ipython",
    "version": 2
   },
   "file_extension": ".py",
   "mimetype": "text/x-python",
   "name": "python",
   "nbconvert_exporter": "python",
   "pygments_lexer": "ipython2",
   "version": "2.7.6"
  }
 },
 "nbformat": 4,
 "nbformat_minor": 0
}
