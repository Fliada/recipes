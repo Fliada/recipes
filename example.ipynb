{
 "cells": [
  {
   "cell_type": "code",
   "execution_count": 1,
   "metadata": {
    "collapsed": true,
    "ExecuteTime": {
     "end_time": "2023-06-29T21:58:48.010259Z",
     "start_time": "2023-06-29T21:58:47.787949300Z"
    }
   },
   "outputs": [],
   "source": [
    "import requests\n",
    "from bs4 import BeautifulSoup\n",
    "import sqlite3\n",
    "import re\n",
    "import time\n",
    "from selenium import webdriver\n",
    "from selenium.webdriver.common.by import By\n",
    "from selenium.webdriver.chrome.options import Options\n",
    "from selenium.webdriver import Keys\n",
    "from selenium.webdriver.support import expected_conditions as EC\n",
    "from selenium.webdriver.support.ui import WebDriverWait\n",
    "from selenium.webdriver.common.action_chains import ActionChains\n",
    "from selenium.webdriver.common.by import By\n",
    "from selenium.webdriver.support.ui import WebDriverWait\n",
    "from selenium.webdriver.support import expected_conditions as EC"
   ]
  },
  {
   "cell_type": "code",
   "execution_count": 2,
   "outputs": [],
   "source": [
    "from bs4 import BeautifulSoup\n",
    "import re\n",
    "from uuid import uuid4"
   ],
   "metadata": {
    "collapsed": false,
    "ExecuteTime": {
     "end_time": "2023-06-29T21:58:48.024392800Z",
     "start_time": "2023-06-29T21:58:48.012253Z"
    }
   }
  },
  {
   "cell_type": "code",
   "execution_count": 3,
   "outputs": [],
   "source": [
    "class Crawler:\n",
    "\n",
    "    def get_html(self):\n",
    "        pass\n",
    "\n",
    "    def get_card_info(self):\n",
    "        pass\n",
    "\n",
    "    def get_links(self, page):\n",
    "        pass"
   ],
   "metadata": {
    "collapsed": false,
    "ExecuteTime": {
     "end_time": "2023-06-29T21:58:48.050621400Z",
     "start_time": "2023-06-29T21:58:48.028394100Z"
    }
   }
  },
  {
   "cell_type": "code",
   "execution_count": 44,
   "outputs": [],
   "source": [
    "class CrawlerEda(Crawler):\n",
    "\n",
    "    def get_html(self, page):\n",
    "        chrome_options = Options()\n",
    "        chrome_options.add_argument(\"--disable-extensions\")\n",
    "        chrome_options.add_argument(\"--disable-popup-blocking\")\n",
    "\n",
    "        browser = webdriver.Chrome(options=chrome_options)\n",
    "        url = f\"https://eda.ru/recepty?page={page}\"\n",
    "        #browser.implicitly_wait(30)\n",
    "        browser.get(url)\n",
    "        wait = WebDriverWait(browser, 10)\n",
    "        soup = BeautifulSoup(browser.page_source, 'html.parser')\n",
    "        return soup\n",
    "\n",
    "    def get_card_info(self, number):\n",
    "        chrome_options = Options()\n",
    "        chrome_options.add_argument(\"--disable-extensions\")\n",
    "        chrome_options.add_argument(\"--disable-popup-blocking\")\n",
    "\n",
    "        browser = webdriver.Chrome(options=chrome_options)\n",
    "        action = ActionChains(browser)\n",
    "        count = 0\n",
    "\n",
    "        #linker = linkers[number]['link']\n",
    "        #browser.get(linker)\n",
    "        wait = WebDriverWait(browser, 10)\n",
    "        soup_card = BeautifulSoup(browser.page_source, 'html.parser')\n",
    "        return soup_card\n",
    "\n",
    "    def get_links(self,first_page, last_page):\n",
    "        links = []\n",
    "        for i in range(first_page, last_page):\n",
    "            html = CrawlerEda().get_html(i)\n",
    "            links.extend(ParserEda(html).get_cards())\n",
    "            #print(links)\n",
    "        return links"
   ],
   "metadata": {
    "collapsed": false,
    "ExecuteTime": {
     "end_time": "2023-06-30T06:37:19.904119600Z",
     "start_time": "2023-06-30T06:37:19.877505100Z"
    }
   }
  },
  {
   "cell_type": "code",
   "execution_count": 5,
   "outputs": [],
   "source": [
    "class Parser:\n",
    "\n",
    "    def __init__(self, html):\n",
    "        self.html = html\n",
    "\n",
    "    def get_cards(self):\n",
    "        pass"
   ],
   "metadata": {
    "collapsed": false,
    "ExecuteTime": {
     "end_time": "2023-06-29T21:58:48.071111Z",
     "start_time": "2023-06-29T21:58:48.057598100Z"
    }
   }
  },
  {
   "cell_type": "code",
   "execution_count": 43,
   "outputs": [],
   "source": [
    "class ParserEda(Parser):\n",
    "\n",
    "    def get_cards(self):\n",
    "        linkers = []\n",
    "        for recipe in self.html.findAll('div', class_='emotion-1f6ych6'):\n",
    "            try:\n",
    "                link = \"https://eda.ru\"+recipe.find('a', class_='emotion-12sjte8').get('href')\n",
    "                photo = str(recipe.find('img', class_='emotion-1bi124x').get('src')).replace('c180x180', 'c500x500')\n",
    "                #print(link)\n",
    "                #print(photo)\n",
    "                linkers.append(Link(re.findall(r'\\b\\d+\\b', link)[0], link, photo))\n",
    "            except AttributeError:\n",
    "                print(\"There's no item with that code\")\n",
    "        #print(len(linkers))\n",
    "        return linkers\n"
   ],
   "metadata": {
    "collapsed": false,
    "ExecuteTime": {
     "end_time": "2023-06-30T06:30:25.317849200Z",
     "start_time": "2023-06-30T06:30:25.311849800Z"
    }
   }
  },
  {
   "cell_type": "code",
   "execution_count": 7,
   "outputs": [],
   "source": [
    "class Recipe:\n",
    "    def __init__(self, key, name_dish, count_portion, cook_time, ingredients, manual):\n",
    "        self.id = key\n",
    "        self.name_dish = name_dish\n",
    "        self.count_portion = count_portion\n",
    "        self.cook_time = cook_time\n",
    "        self.ingredients = ingredients\n",
    "        self.manual = manual"
   ],
   "metadata": {
    "collapsed": false,
    "ExecuteTime": {
     "end_time": "2023-06-29T21:58:48.109109300Z",
     "start_time": "2023-06-29T21:58:48.090110600Z"
    }
   }
  },
  {
   "cell_type": "code",
   "execution_count": 8,
   "outputs": [],
   "source": [
    "class Ingredient:\n",
    "    def __init__(self, key, name_ingr):\n",
    "        self.id = key\n",
    "        self.name_ingr = name_ingr"
   ],
   "metadata": {
    "collapsed": false,
    "ExecuteTime": {
     "end_time": "2023-06-29T21:58:48.116728300Z",
     "start_time": "2023-06-29T21:58:48.106110200Z"
    }
   }
  },
  {
   "cell_type": "code",
   "execution_count": 9,
   "outputs": [],
   "source": [
    "class Calories:\n",
    "    def __init__(self, key, calories, proteins, fats, carbohydrates):\n",
    "        self.id = key\n",
    "        self.calories = calories\n",
    "        self.proteins = proteins\n",
    "        self.fats = fats\n",
    "        self.carbohydrates = carbohydrates"
   ],
   "metadata": {
    "collapsed": false,
    "ExecuteTime": {
     "end_time": "2023-06-29T21:58:48.143727500Z",
     "start_time": "2023-06-29T21:58:48.120728800Z"
    }
   }
  },
  {
   "cell_type": "code",
   "execution_count": 10,
   "outputs": [],
   "source": [
    "class Link:\n",
    "    def __init__(self, key, link, photo):\n",
    "        self.id = key\n",
    "        self.link = link\n",
    "        self.photo = photo"
   ],
   "metadata": {
    "collapsed": false,
    "ExecuteTime": {
     "end_time": "2023-06-29T21:58:48.154732900Z",
     "start_time": "2023-06-29T21:58:48.135729600Z"
    }
   }
  },
  {
   "cell_type": "code",
   "execution_count": 46,
   "outputs": [],
   "source": [
    "class DBHelper:\n",
    "\n",
    "    def __init__(self, db_name = \"recipe.db\"):\n",
    "        self.dbname = f\"sqlite3:/{db_name}\"\n",
    "        self.conn = sqlite3.connect(db_name)\n",
    "\n",
    "    def simple_create_table(self, table_name, primary_key, params):\n",
    "        column = \"\"\n",
    "        for i in range(len(params) - 1):\n",
    "            column = str(params[i]) + \" TEXT, \"\n",
    "        column += str(params[len(params) - 1]) + \" TEXT \"\n",
    "        new_table = f\"CREATE TABLE IF NOT EXISTS {table_name} ({primary_key} TEXT PRIMARY KEY , {column})\"\n",
    "        self.conn.execute(new_table)\n",
    "        self.conn.commit()\n",
    "\n",
    "    def create_table(self, table_name, primary_key, foreign_table_name, foreign_col, another_foreign_col, params):\n",
    "        column = \"\"\n",
    "        for i in len(params) - 1:\n",
    "            column += params[i] + \" TEXT, \"\n",
    "        column += params[len(params)] + \" TEXT \"\n",
    "\n",
    "        foreign_key = f\"FOREIGN KEY ({foreign_col})  REFERENCES {foreign_table_name} ({another_foreign_col})\"\n",
    "\n",
    "        new_table = f\"CREATE TABLE IF NOT EXISTS {table_name} ({primary_key} TEXT PRIMARY KEY , {column}, {foreign_key})\"\n",
    "        self.conn.execute(new_table)\n",
    "        self.conn.commit()\n",
    "\n",
    "    def insert(self, table_name, primary_key, args):\n",
    "        arguments = \"'\"\n",
    "        for i in range(len(args) - 1):\n",
    "            arguments += args[i] + \"', '\"\n",
    "        arguments += args[len(args) - 1] + \"'\"\n",
    "        #print(arguments)\n",
    "\n",
    "        new_insert = f\"INSERT INTO {table_name} SELECT * FROM (SELECT {arguments}) AS tmp \" \\\n",
    "                     f\"WHERE NOT EXISTS ( SELECT {primary_key} FROM {table_name} WHERE {primary_key} = '{args[0]}'\" \\\n",
    "                     f\") LIMIT 1\"\n",
    "        self.conn.execute(new_insert)\n",
    "        self.conn.commit()\n",
    "\n",
    "    def print_info(self, table_name):\n",
    "        new_get = f\"SELECT * FROM {table_name}\"\n",
    "        cursor = self.conn.execute(new_get)\n",
    "        return [row[0] for row in cursor]\n",
    "\n",
    "    #def update(self, flat_id, updates):\n",
    "\n",
    "\n",
    "    #def delete(self, flat_id):\n"
   ],
   "metadata": {
    "collapsed": false,
    "ExecuteTime": {
     "end_time": "2023-06-30T07:18:13.335432Z",
     "start_time": "2023-06-30T07:18:13.272716900Z"
    }
   }
  },
  {
   "cell_type": "code",
   "execution_count": 12,
   "outputs": [
    {
     "ename": "TypeError",
     "evalue": "object of type 'NoneType' has no len()",
     "output_type": "error",
     "traceback": [
      "\u001B[1;31m---------------------------------------------------------------------------\u001B[0m",
      "\u001B[1;31mTypeError\u001B[0m                                 Traceback (most recent call last)",
      "Cell \u001B[1;32mIn[12], line 1\u001B[0m\n\u001B[1;32m----> 1\u001B[0m linkers \u001B[38;5;241m=\u001B[39m \u001B[43mCrawlerEda\u001B[49m\u001B[43m(\u001B[49m\u001B[43m)\u001B[49m\u001B[38;5;241;43m.\u001B[39;49m\u001B[43mget_links\u001B[49m\u001B[43m(\u001B[49m\u001B[38;5;241;43m5\u001B[39;49m\u001B[43m)\u001B[49m\n\u001B[0;32m      2\u001B[0m \u001B[38;5;28mprint\u001B[39m(\u001B[38;5;28mlen\u001B[39m(linkers))\n\u001B[0;32m      3\u001B[0m \u001B[38;5;28;01mfor\u001B[39;00m i \u001B[38;5;129;01min\u001B[39;00m linkers:\n",
      "Cell \u001B[1;32mIn[4], line 34\u001B[0m, in \u001B[0;36mCrawlerEda.get_links\u001B[1;34m(self, page)\u001B[0m\n\u001B[0;32m     32\u001B[0m links \u001B[38;5;241m=\u001B[39m []\n\u001B[0;32m     33\u001B[0m \u001B[38;5;28;01mfor\u001B[39;00m i \u001B[38;5;129;01min\u001B[39;00m \u001B[38;5;28mrange\u001B[39m(\u001B[38;5;241m1\u001B[39m, page):\n\u001B[1;32m---> 34\u001B[0m     html \u001B[38;5;241m=\u001B[39m \u001B[43mCrawlerEda\u001B[49m\u001B[43m(\u001B[49m\u001B[43m)\u001B[49m\u001B[38;5;241;43m.\u001B[39;49m\u001B[43mget_html\u001B[49m\u001B[43m(\u001B[49m\u001B[43mi\u001B[49m\u001B[43m)\u001B[49m\n\u001B[0;32m     35\u001B[0m     links\u001B[38;5;241m.\u001B[39mextend(ParserEda(html)\u001B[38;5;241m.\u001B[39mget_cards())\n\u001B[0;32m     36\u001B[0m     \u001B[38;5;28mprint\u001B[39m(links)\n",
      "Cell \u001B[1;32mIn[4], line 13\u001B[0m, in \u001B[0;36mCrawlerEda.get_html\u001B[1;34m(self, page)\u001B[0m\n\u001B[0;32m     11\u001B[0m browser\u001B[38;5;241m.\u001B[39mget(url)\n\u001B[0;32m     12\u001B[0m wait \u001B[38;5;241m=\u001B[39m WebDriverWait(browser, \u001B[38;5;241m10\u001B[39m)\n\u001B[1;32m---> 13\u001B[0m soup \u001B[38;5;241m=\u001B[39m \u001B[43mBeautifulSoup\u001B[49m\u001B[43m(\u001B[49m\u001B[43mbrowser\u001B[49m\u001B[38;5;241;43m.\u001B[39;49m\u001B[43mpage_source\u001B[49m\u001B[43m,\u001B[49m\u001B[43m \u001B[49m\u001B[38;5;124;43m'\u001B[39;49m\u001B[38;5;124;43mhtml.parser\u001B[39;49m\u001B[38;5;124;43m'\u001B[39;49m\u001B[43m)\u001B[49m\n\u001B[0;32m     14\u001B[0m \u001B[38;5;28;01mreturn\u001B[39;00m soup\n",
      "File \u001B[1;32m~\\AppData\\Local\\Programs\\Python\\Python39\\lib\\site-packages\\bs4\\__init__.py:315\u001B[0m, in \u001B[0;36mBeautifulSoup.__init__\u001B[1;34m(self, markup, features, builder, parse_only, from_encoding, exclude_encodings, element_classes, **kwargs)\u001B[0m\n\u001B[0;32m    313\u001B[0m \u001B[38;5;28;01mif\u001B[39;00m \u001B[38;5;28mhasattr\u001B[39m(markup, \u001B[38;5;124m'\u001B[39m\u001B[38;5;124mread\u001B[39m\u001B[38;5;124m'\u001B[39m):        \u001B[38;5;66;03m# It's a file-type object.\u001B[39;00m\n\u001B[0;32m    314\u001B[0m     markup \u001B[38;5;241m=\u001B[39m markup\u001B[38;5;241m.\u001B[39mread()\n\u001B[1;32m--> 315\u001B[0m \u001B[38;5;28;01melif\u001B[39;00m \u001B[38;5;28;43mlen\u001B[39;49m\u001B[43m(\u001B[49m\u001B[43mmarkup\u001B[49m\u001B[43m)\u001B[49m \u001B[38;5;241m<\u001B[39m\u001B[38;5;241m=\u001B[39m \u001B[38;5;241m256\u001B[39m \u001B[38;5;129;01mand\u001B[39;00m (\n\u001B[0;32m    316\u001B[0m         (\u001B[38;5;28misinstance\u001B[39m(markup, \u001B[38;5;28mbytes\u001B[39m) \u001B[38;5;129;01mand\u001B[39;00m \u001B[38;5;129;01mnot\u001B[39;00m \u001B[38;5;124mb\u001B[39m\u001B[38;5;124m'\u001B[39m\u001B[38;5;124m<\u001B[39m\u001B[38;5;124m'\u001B[39m \u001B[38;5;129;01min\u001B[39;00m markup)\n\u001B[0;32m    317\u001B[0m         \u001B[38;5;129;01mor\u001B[39;00m (\u001B[38;5;28misinstance\u001B[39m(markup, \u001B[38;5;28mstr\u001B[39m) \u001B[38;5;129;01mand\u001B[39;00m \u001B[38;5;129;01mnot\u001B[39;00m \u001B[38;5;124m'\u001B[39m\u001B[38;5;124m<\u001B[39m\u001B[38;5;124m'\u001B[39m \u001B[38;5;129;01min\u001B[39;00m markup)\n\u001B[0;32m    318\u001B[0m ):\n\u001B[0;32m    319\u001B[0m     \u001B[38;5;66;03m# Issue warnings for a couple beginner problems\u001B[39;00m\n\u001B[0;32m    320\u001B[0m     \u001B[38;5;66;03m# involving passing non-markup to Beautiful Soup.\u001B[39;00m\n\u001B[0;32m    321\u001B[0m     \u001B[38;5;66;03m# Beautiful Soup will still parse the input as markup,\u001B[39;00m\n\u001B[0;32m    322\u001B[0m     \u001B[38;5;66;03m# since that is sometimes the intended behavior.\u001B[39;00m\n\u001B[0;32m    323\u001B[0m     \u001B[38;5;28;01mif\u001B[39;00m \u001B[38;5;129;01mnot\u001B[39;00m \u001B[38;5;28mself\u001B[39m\u001B[38;5;241m.\u001B[39m_markup_is_url(markup):\n\u001B[0;32m    324\u001B[0m         \u001B[38;5;28mself\u001B[39m\u001B[38;5;241m.\u001B[39m_markup_resembles_filename(markup)                \n",
      "\u001B[1;31mTypeError\u001B[0m: object of type 'NoneType' has no len()"
     ]
    }
   ],
   "source": [
    "linkers = CrawlerEda().get_links(5)\n",
    "print(len(linkers))\n",
    "for i in linkers:\n",
    "    print(i.id, i.link, i.photo)"
   ],
   "metadata": {
    "collapsed": false,
    "ExecuteTime": {
     "end_time": "2023-06-29T21:58:53.317732600Z",
     "start_time": "2023-06-29T21:58:48.169256400Z"
    }
   }
  },
  {
   "cell_type": "code",
   "execution_count": 13,
   "outputs": [],
   "source": [
    "DBHelper(\"recipe.db\").simple_create_table(\"link\", \"id\", [\"link\", \"photo\"])"
   ],
   "metadata": {
    "collapsed": false,
    "ExecuteTime": {
     "end_time": "2023-06-29T21:59:01.567932900Z",
     "start_time": "2023-06-29T21:59:01.543921200Z"
    }
   }
  },
  {
   "cell_type": "code",
   "execution_count": 33,
   "outputs": [
    {
     "data": {
      "text/plain": "['20955',\n '18506',\n '17614',\n '21916',\n '31799',\n '16014',\n '18811',\n '21751',\n '16922',\n '15574',\n '19334',\n '16149',\n '32614',\n '28425',\n '21506',\n '25902',\n '30600',\n '29566',\n '30625',\n '31193',\n '32534',\n '16754',\n '17889',\n '17620',\n '33916',\n '19945',\n '25076',\n '29574']"
     },
     "execution_count": 33,
     "metadata": {},
     "output_type": "execute_result"
    }
   ],
   "source": [
    "DBHelper(\"recipe.db\").print_info(\"link\")"
   ],
   "metadata": {
    "collapsed": false,
    "ExecuteTime": {
     "end_time": "2023-06-29T22:28:07.068271700Z",
     "start_time": "2023-06-29T22:28:07.052802700Z"
    }
   }
  },
  {
   "cell_type": "code",
   "execution_count": 45,
   "outputs": [
    {
     "name": "stdout",
     "output_type": "stream",
     "text": [
      "210\n",
      "'48152', 'https://eda.ru/recepty/vypechka-deserty/vjerzere-pirogi-s-kapustoj-48152', 'https://eda.ru/img/eda/c500x500/s1.eda.ru/StaticContent/Photos/160105153525/160114234817/p_O.jpg'\n",
      "'50133', 'https://eda.ru/recepty/osnovnye-blyuda/perlovaja-kasha-v-multivarke-50133', 'https://eda.ru/img/eda/c500x500/s1.eda.ru/StaticContent/Photos/150412162041/150417221759/p_O.jpg'\n",
      "'28446', 'https://eda.ru/recepty/osnovnye-blyuda/kotleti-iz-schuki-28446', 'https://eda.ru/img/eda/c500x500/s1.eda.ru/StaticContent/Photos/170306185211/210224120421/p_O.jpg'\n",
      "'92896', 'https://eda.ru/recepty/osnovnye-blyuda/kotleta-iz-nuta-92896', 'https://eda.ru/img/eda/c500x500/s1.eda.ru/StaticContent/Photos/120131082242/170420181630/p_O.jpg'\n",
      "'36631', 'https://eda.ru/recepty/supy/sup-s-lososem-i-bolgarskim-percem-36631', 'https://eda.ru/img/eda/c500x500/s1.eda.ru/StaticContent/Photos/i/130328153556/p_O.jpg'\n",
      "'38272', 'https://eda.ru/recepty/supy/sup-iz-lobio-38272', 'https://eda.ru/img/eda/c500x500/s1.eda.ru/StaticContent/Photos/121012184428/130624123748/p_O.jpg'\n",
      "'18603', 'https://eda.ru/recepty/vypechka-deserty/presnoe-bezdrozhzhevoe-testo-18603', 'https://eda.ru/img/eda/c500x500/s1.eda.ru/StaticContent/Photos/120213181135/120213181208/p_O.jpg'\n",
      "'45560', 'https://eda.ru/recepty/vypechka-deserty/tvorozhnij-pirog-s-chernoj-smorodinoj-45560', 'https://eda.ru/img/eda/c500x500/s1.eda.ru/StaticContent/Photos/110816122025/140723122449/p_O.jpg'\n",
      "'15133', 'https://eda.ru/recepty/osnovnye-blyuda/uzbekskij-plov-s-baranim-salom-15133', 'https://eda.ru/img/eda/c500x500/s1.eda.ru/StaticContent/Photos/110816122025/120213175025/p_O.jpg'\n",
      "'15038', 'https://eda.ru/recepty/vypechka-deserty/pechene-oreshki-15038', 'https://eda.ru/img/eda/c500x500/s1.eda.ru/StaticContent/Photos/120214122930/120214123249/p_O.jpg'\n",
      "'39477', 'https://eda.ru/recepty/pasta-picca/zapekanka-c-pomidorami-baklazhanami-i-sirom-39477', 'https://eda.ru/img/eda/c500x500/s1.eda.ru/StaticContent/Photos/120131083649/130831022143/p_O.jpg'\n",
      "'41354', 'https://eda.ru/recepty/osnovnye-blyuda/tjan-iz-baranini-s-ovoshhnim-ragu-i-mjatnim-sousom-41354', 'https://eda.ru/img/eda/c500x500/s1.eda.ru/StaticContent/Photos/140124100744/140129120556/p_O.jpg'\n",
      "'16834', 'https://eda.ru/recepty/sousy-marinady/chatni-16834', 'https://eda.ru/img/eda/c500x500/s1.eda.ru/StaticContent/Photos/120213175531/1202131756290/p_O.jpg'\n",
      "'18032', 'https://eda.ru/recepty/zakuski/pjure-iz-cvetnoj-kapusti-s-sirom-18032', 'https://eda.ru/img/eda/c500x500/s1.eda.ru/StaticContent/Photos/140902214744/140909191059/p_O.jpg'\n",
      "'47823', 'https://eda.ru/recepty/vypechka-deserty/merenga-s-kofe-i-chernoj-smorodinoj-47823', 'data:image/png;base64,iVBORw0KGgoAAAANSUhEUgAAAL0AAADfCAMAAACUNSJTAAADAFBMVEUAAAAAAAAAAAAAAAAAAAAAAAAAAAAAAAAAAAAAAAAAAAAAAAAAAAAAAAAAAAAAAAAAAAAAAAAAAAAAAAAAAAAAAAAAAAAAAAAAAAAAAAAAAAAAAAAAAAAAAAAAAAAAAAAAAAAAAAAAAAAAAAAAAAAAAAAAAAAAAAAAAAAAAAAAAAAAAAAAAAAAAAAAAAAAAAAAAAAAAAAAAAAAAAAAAAAAAAAAAAAAAAAAAAAAAAAAAAAAAAAAAAAAAAAAAAAAAAAAAAAAAAAAAAAAAAAAAAAAAAAAAAAAAAAAAAAAAAAAAAAAAAAAAAAAAAAAAAAAAAAAAAAAAAAAAAAAAAAAAAAAAAAAAAAAAAAAAAAAAAAAAAAAAAAAAAAAAAAAAAAAAAAAAAAAAAAAAAAAAAAAAAAAAAAAAAAAAAAAAAAAAAAAAAAAAAAAAAAAAAAAAAAAAAAAAAAAAAAAAAAAAAAAAAAAAAAAAAAAAAAAAAAAAAAAAAAAAAAAAAAAAAAAAAAAAAAAAAAAAAAAAAAAAAAAAAAAAAAAAAAAAAAAAAAAAAAAAAAAAAAAAAAAAAAAAAAAAAAAAAAAAAAAAAAAAAAAAAAAAAAAAAAAAAAAAAAAAAAAAAAAAAAAAAAAAAAAAAAAAAAAAAAAAAAAAAAAAAAAAAAAAAAAAAAAAAAAAAAAAAAAAAAAAAAAAAAAAAAAAAAAAAAAAAAAAAAAAAAAAAAAAAAAAAAAAAAAAAAAAAAAAAAAAAAAAAAAAAAAAAAAAAAAAAAAAAAAAAAAAAAAAAAAAAAAAAAAAAAAAAAAAAAAAAAAAAAAAAAAAAAAAAAAAAAAAAAAAAAAAAAAAAAAAAAAAAAAAAAAAAAAAAAAAAAAAAAAAAAAAAAAAAAAAAAAAAAAAAAAAAAAAAAAAAAAAAAAAAAAAAAAAAAAAAAAAAAAAAAAAAAAAAAAAAAAAAAAAAAAAAAAAAAAAAAAAAAAAAAAAAAAAAAAAAAAAAAAAAAAAAAAAAAAAAAAAAAAAAAAAAD///+zjtKaAAAA/nRSTlMAAQIDBAUGBwgJCgsMDQ4PEBESExQVFhcYGRobHB0eHyAhIiMkJSYnKCkqKywtLi8wMTIzNDU2Nzg5Ojs8PT4/QEFCQ0RFRkdISUpLTE1OT1BRUlNUVVZXWFlaW1xdXl9gYWJjZGVmZ2hpamtsbW5vcHFyc3R1dnd4eXp7fH1+f4CBgoOEhYaHiImKi4yNjo+QkZKTlJWWl5iZmpucnZ6foKGio6Slpqipqqusra6vsLGys7S1tre4ubq7vL2+v8DBwsPExcbHyMnKy8zNzs/Q0dLT1NXW19jZ2tvc3d7f4OHi4+Tl5ufo6err7O3u7/Dx8vP09fb3+Pn6+/z9/lNdmhAAAAABYktHRP+lB/LFAAALTklEQVR42u2de1yUVRrHfzMwXAXlIjcvCIgm6kaCIonmhTTbFEVJTZFcC9NKWltjzUpKVyd13fBWWBZipbRoiqXshGmaimGiqaXIRUXkogNynxlmnk9/zO2FaNeEmPNu5/fPPOe8h8N3zue85zznOWfeF+hYucekFLhDjLJ/9O0zWqqlGPGh+8dnNpImVx5pp0wRF7l3TMpNooKUGGcA2FskHvIukfJcorL0+J7GnOfJXxTk1iGJCjXVKRJDJILc/rRADB09/S4158ojbVpfKfqMbXLPmJQbRAUpMd3aurpdacUsuWOkPFdHFenxvX+txCwaymZHj0g6rqG6L5cMNnZ0j5kr09N3rpsinKE8dK8y2NEX76+h5lOrRps7+oR9alL/eLagnrQZ4eaSZw+zR59EV7dGuwgyfDKoZE2wDIAsfGUl7TZdW9vkwBx9BEW3SA+7Xb/U2pRyWKa6PsRgj6fHmKOX1WwVJkfV5PcFAInfQ75SABhSWDnQ8E0a17PXdfZfEXoHlRe9AYzaVUdEyk9DAPjdKO2uv5idxx79YupjsiVZdf0AxzSq2PyXqU+nKHWb7YFBTWn6q3/XeTJHH0TPmOzHaSHgfEKzwhYA4LROm2ULrKBHAACh9BR7jV+yy2QeLpYBH6ujYN8VG+Aiw1ztVsC2TO8kSG9/yB59aqXUYAXQEiCSXgUi5kYHTVk4BFinHQqsV7kBANKvs0c/h4xj4jzqDxwssXEYGC3zRR+HScG2jsodwBCaCQCIpweYo/fSvWKwPiiXwL5JDq8FTs7jrCSujovckFIjgY3mTf28TC+w1/jnFQYj8zQQSlHA7B6uI7DY3vdJYD75ApcNt0bBPvboNzTaGwb0o8BoGoVN/pgli7GT4YH1iKJg4FyGvsB7d62Zo59IkXpDccLQ9rE+c4LCHF7ymwHEUV8gf6e+wHR6mD3fXvW23tikBBybV8LtKRtHjO/tJIvthi13rWBdu0FfwFW7gr2uc+SM/nMh+QJZBVYuYbPsvODlNH2kvX1FBjCMphtKnj7GHv1yrX4ZEqB7BYiiF4HQOTP9Z88PAlbQSOANk4uwWu3EHH0YzdAbRy9JgAMNY9DVHZvh7YTJmlTA9tYXxpJjaRJz9FZV7+uNmfQs4Hqu4UX9Aly2TP2tE5BAY4wlbeuT2es6GYZAmeQrpQ/gvp8KV00aFb36Ou3qAgQ1fGEueegie/QLKVBvBNacdwUkkw9riKg5czwA7x/LPMwl/0Y9mKMPpIUGa3RDri8AOIZGDnEAAL/8uxGCksEUx17jF2UYrceqquOk5jsioeZOizCOpHwne/TvmwNlvt9Q/ov6juS3PJ8yheEp2zGrK29JmKOfQWEmWzr1W6LS3OxT1aRVRJlb/cGXD9WT+ps3bJmjd9cuFyb7P/vhAcXB5Od8jRm95n1STnThnSe6gEV9//Wvu0GR8lwdlf+XEKfF9bbKsc1oz8g3v9VQ7RcvDbqXSuws5UY8ShN/kecfn15FzbnyyHvt6a+XxlsmSm7f+M8Wae/YHTeJLm+Z2u3e6+hRV0Onwy2CrzhnMh0i5bk6qkyP7/Pbqvi40S+mWJfuawH6RJ03AFiFJCqaqEGRGCL9rTUM160EHJIa6uWdPzCF0Gz4x6crSZsrj7S7jwokOSVdAKBnmu7G3M6e0aSV+deICrfFuN1nBXEUa7AeOUtHgjsZf3etIjHk/v+8y82TpgaXzi3TpnVuxNa1fYPdal2YINVtg7pqiQxikX9jaiunO52uiOZgxp5an9ZZkT+QYpAo4MfSsjbcjPhKTYoIjvVYnStsc5B1TW6+k2DFOv2iVhuPZg04RJcmsA3vUtliI9qlX2/BbDW9iD7rwzL9O81/MtlOr18hIuVH5vvV/rW6xlWOzMIPUL9rskeU1L43LWzyeqV2W3ez87lTVxIrYZT+oNI0sIyoP9ELANB1narqr+bpKjyHTg5jEv4JSjCazsUXTF2kXyb9+LjZjYor1e3wYQ/e5vIlUxs/Scf6m69MuERfmu/XLmuaapfZsUb/suDwhfWSKvUG82pMlqCsFpzM8N9DBdFswXtUHxAmu6c0Vywwz0/eXzcInbdx5ymbqTjoNlU/84DjBCD4COWNNq8yv7sgdDVtSq6xdMjnIa352IukSpW9dBAQUyyYn4J1ws7yjGHfmhEdLe9q9naiNl4iujan5fx06hNz6a5lx1ga9p+kZ00e2cnZEsAnVtE8Dej5sa5kjh50k+BUzzptCEPw9sXfm+7QpUQnhgKQZaomAAg/bZif1v5kXrGoPmCp37xOo0z2rpz5ZdqPvAH7w/URAKRPl+pSfYCM46YimXdZOp7Us263OfF+vsR5raom0RZOOfX7Fg8EnNY01S5zr15rmr1oKUtN/0mDIG72OC0F+u6jq1PguvaMlkp3jkDAXqrRDTTOXRev2DAE/7DuLWEylbKCgEcvkGIQ4Db93Wv1Y4Bx36cZry+mySw1/T+oYKogKVl0R7PRFdYv3NFsdgXQ9Uz9aMFld2UWW17CmHN0+EHhoipZo0ywhotcpUy0Adwv1o8xX9yqYS3AYL3odvNWYehwkIJ+GAcMVNCFSKBHYY1pkBncvJE9/9h1o0a5WHjkKCqf9gYAUfn0eQACppnys2+7srg46X+ALv9ZGMVJqFYnOxs/jIqmRYyuDCddof2BgrTXdu2teVJ4bdfeNO4Z2Rb8YM0oPWyW3lWtdRZkhByn72YMl2tMq/VlNI7hmIjnB9qy+YLdFsnMQiL1O0bX3rtmL9sRqZBjdEZ4HMMqdLQ5hJnaFADGNamIMvu0/c20q8G87BNrG9racZMcK3OGCNQjTVfyyx23WBbP9LSpYScpp9WGs8O1M1KR0EMy95YuzUuYs0oXAfHIMampLsl8tKFX/U6ISn3TKd+04/ZZfW+ITGPPU/ZgAECE7jWITtbxFZqU7oA097oDRCj9UmWBGH9Nr1+QfEXnK45CtJp0lang2W+V7URwcXFxtVMymYjhX6qpSRAtfK8yL+/ynmKlH/yTRHp5sFjppf85ciRLKtquYz15sjW4uP4AkrhIRMvumFzdULXBQZzwNsd3+8Iv44g4R5r4o1IAVieeFiX95/oo6jPpoqTP0v9eb/oBUdKv2QIA2PamKOl9KmYAmFPuIc5BZ1jR6R25V0UbmrEdH9/i2Xt2dmL9JnCTFzU2Fq5xEyV86I1NA4CgzSWhIoTvedPwQIioUhEuD1OTjNZbH4kO3qHadEratdpebPTBZ812XrDY6IefNNunhouN3rPSdPrV+o6n6Dr+ySlGa9oJ8Y0544sM7o5n8Tjx0WNZfgQAjLyaKMrJNrowLzX1XMEUkTo60uFxcWHijQVy/VH1gtySer6d9KfVSstJfaq99JaMbRzg9Jye0/+/0w9oNeKWWpS+PKWl/tf6cmKrIVdjUXpVK5qJvN9zek7P6Tk9p+f0nJ7Tc3pO30H0/eW9gH7y3uKkn0hhwGM0nNNzek7P6Tk9p+f0nJ7Tc3pOz+k5Pafn9Jye03N6Ts/pOT2nb00PgNNz+vul70xxek7P6Tk9p+f0nJ7Tc3pOz+k5vUk5lnzty8H20h/LsyB9bnY7K9hTbkH667vbWcEaneUeYOKkfqudNYyl5yxGHy14H9n9yabmkMXot99u90Pj0nSWegiUd/32dtcRaLFfu21RB7a/klSaZRH4MNXmDqjF43ptkAXgPW8Ud8grwIc2FgZ2OrxHTl0HPTAopqkirJPhBxQ2RnVUXeHlwpd//f5ySKwt7cD26vM53UzsrJfhDky6oft3x/6zR45q6cKn615L/H21fOuXBaTNDr9XrHn3WnFy8RXFh7/7szfe3XO54F/3ijQPeSRe5f0MqVowOkJ1Zo0AAAAASUVORK5CYII='\n",
      "'47455', 'https://eda.ru/recepty/osnovnye-blyuda/ragu-iz-jazika-47455', 'data:image/png;base64,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'\n",
      "'20197', 'https://eda.ru/recepty/vypechka-deserty/shafranovaja-halva-20197', 'data:image/png;base64,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'\n",
      "'21106', 'https://eda.ru/recepty/vypechka-deserty/zhele-iz-chernoy-smorodiny-21106', 'https://eda.ru/img/eda/c500x500/s1.eda.ru/StaticContent/Photos/120213184513/120213184749/p_O.jpg'\n",
      "'29850', 'https://eda.ru/recepty/osnovnye-blyuda/raki-po-receptu-vadima-kalinicha-29850', 'https://eda.ru/img/eda/c500x500/s1.eda.ru/StaticContent/Photos/120131082409/120214154952/p_O.jpg'\n",
      "'22072', 'https://eda.ru/recepty/salaty/salat-iz-korna-krasnih-apelsinov-fistashek-granata-22072', 'https://eda.ru/img/eda/c500x500/s1.eda.ru/StaticContent/Photos/120131090259/160125143533/p_O.jpg'\n",
      "'18256', 'https://eda.ru/recepty/osnovnye-blyuda/shashlik-v-mjatnom-marinade-18256', 'https://eda.ru/img/eda/c500x500/s1.eda.ru/StaticContent/Photos/120131085856/120213180803/p_O.jpg'\n",
      "'31200', 'https://eda.ru/recepty/vypechka-deserty/limonnij-keks-s-makom-na-pahte-31200', 'https://eda.ru/img/eda/c500x500/s1.eda.ru/StaticContent/Photos/120131090009/120424122817/p_O.jpg'\n",
      "'46332', 'https://eda.ru/recepty/napitki/oblepihovij-limonad-46332', 'https://eda.ru/img/eda/c500x500/s1.eda.ru/StaticContent/Photos/120424123536/140906003351/p_O.jpg'\n",
      "'21919', 'https://eda.ru/recepty/salaty/salat-fruktovaja-fantazija-21919', 'https://eda.ru/img/eda/c500x500/s1.eda.ru/StaticContent/Photos/120131082409/120213185954/p_O.jpg'\n",
      "'49919', 'https://eda.ru/recepty/salaty/zharenie-shampinoni-v-soevom-souse-s-rukkoloj-49919', 'https://eda.ru/img/eda/c500x500/s1.eda.ru/StaticContent/Photos/141214012603/150408230544/p_O.jpg'\n",
      "'44066', 'https://eda.ru/recepty/zavtraki/shokoladnaja-krem-pasta-s-koricej-44066', 'https://eda.ru/img/eda/c500x500/s1.eda.ru/StaticContent/Photos/140512112357/140518035142/p_O.jpg'\n",
      "'41638', 'https://eda.ru/recepty/osnovnye-blyuda/belorusskaja-kartofelnaja-babka-41638', 'https://eda.ru/img/eda/c500x500/s1.eda.ru/StaticContent/Photos/131227123933/140107000615/p_O.jpg'\n",
      "'20074', 'https://eda.ru/recepty/vypechka-deserty/pechene-amaretti-s-vishnej-20074', 'https://eda.ru/img/eda/c500x500/s1.eda.ru/StaticContent/Photos/120131111301/120213183213/p_O.jpg'\n",
      "'19132', 'https://eda.ru/recepty/osnovnye-blyuda/svinina-s-persikami-19132', 'https://eda.ru/img/eda/c500x500/s1.eda.ru/StaticContent/Photos/120131082527/120213181928/p_O.jpg'\n",
      "'35624', 'https://eda.ru/recepty/supy/italjanskij-krasnij-sup-s-sosiskami-i-fasolju-35624', 'https://eda.ru/img/eda/c500x500/s1.eda.ru/StaticContent/Photos/130116161736/130123162705/p_O.jpg'\n",
      "'25180', 'https://eda.ru/recepty/supy/krem-sup-iz-rakov-25180', 'https://eda.ru/img/eda/c500x500/s1.eda.ru/StaticContent/Photos/120214140149/131118122839/p_O.jpg'\n",
      "'173489', 'https://eda.ru/recepty/osnovnye-blyuda/steyk-iz-govyadiny-s-perechnym-sousom-173489', 'https://eda.ru/img/eda/c500x500/s1.eda.ru/StaticContent/Photos/9/2e/92e299347a3049dda154d2d811d14705.jpg'\n",
      "'93942', 'https://eda.ru/recepty/zagotovki/malinovyy-dzhem-s-yablochnym-sokom-bez-varki-93942', 'https://eda.ru/img/eda/c500x500/s1.eda.ru/StaticContent/Photos/120213184037/180709130900/p_O.jpg'\n",
      "'79988', 'https://eda.ru/recepty/vypechka-deserty/risovyy-puding-79988', 'https://eda.ru/img/eda/c500x500/s1.eda.ru/StaticContent/Photos/150819165228/160804125233/p_O.jpg'\n",
      "'21106', 'https://eda.ru/recepty/vypechka-deserty/zhele-iz-chernoy-smorodiny-21106', 'https://eda.ru/img/eda/c500x500/s1.eda.ru/StaticContent/Photos/120213184513/120213184749/p_O.jpg'\n",
      "'29850', 'https://eda.ru/recepty/osnovnye-blyuda/raki-po-receptu-vadima-kalinicha-29850', 'https://eda.ru/img/eda/c500x500/s1.eda.ru/StaticContent/Photos/120131082409/120214154952/p_O.jpg'\n",
      "'18256', 'https://eda.ru/recepty/osnovnye-blyuda/shashlik-v-mjatnom-marinade-18256', 'https://eda.ru/img/eda/c500x500/s1.eda.ru/StaticContent/Photos/120131085856/120213180803/p_O.jpg'\n",
      "'31200', 'https://eda.ru/recepty/vypechka-deserty/limonnij-keks-s-makom-na-pahte-31200', 'https://eda.ru/img/eda/c500x500/s1.eda.ru/StaticContent/Photos/120131090009/120424122817/p_O.jpg'\n",
      "'46332', 'https://eda.ru/recepty/napitki/oblepihovij-limonad-46332', 'https://eda.ru/img/eda/c500x500/s1.eda.ru/StaticContent/Photos/120424123536/140906003351/p_O.jpg'\n",
      "'21919', 'https://eda.ru/recepty/salaty/salat-fruktovaja-fantazija-21919', 'https://eda.ru/img/eda/c500x500/s1.eda.ru/StaticContent/Photos/120131082409/120213185954/p_O.jpg'\n",
      "'49919', 'https://eda.ru/recepty/salaty/zharenie-shampinoni-v-soevom-souse-s-rukkoloj-49919', 'https://eda.ru/img/eda/c500x500/s1.eda.ru/StaticContent/Photos/141214012603/150408230544/p_O.jpg'\n",
      "'151405', 'https://eda.ru/recepty/zakuski/bifshteks-robesper-151405', 'https://eda.ru/img/eda/c500x500/s1.eda.ru/StaticContent/Photos/170219165434/210929231755/p_O.jpg'\n",
      "'126258', 'https://eda.ru/recepty/vypechka-deserty/biskvitnyy-smorodinovyy-tort-126258', 'https://eda.ru/img/eda/c500x500/s1.eda.ru/StaticContent/Photos/120605145344/181217125912/p_O.jpg'\n",
      "'20058', 'https://eda.ru/recepty/zakuski/sirnaja-tarelka-so-svezhim-inzhirom-20058', 'https://eda.ru/img/eda/c500x500/s1.eda.ru/StaticContent/Photos/120131085403/120213183208/p_O.jpg'\n",
      "'14770', 'https://eda.ru/recepty/supy/okroshka-sbornaja-mjasnaja-14770', 'https://eda.ru/img/eda/c500x500/s1.eda.ru/StaticContent/Photos/120213190507/120214122929/p_O.jpg'\n",
      "'32068', 'https://eda.ru/recepty/osnovnye-blyuda/govjadina-s-kartofelnim-pjure-shpinatom-i-jagodnim-sousom-32068', 'https://eda.ru/img/eda/c500x500/s1.eda.ru/StaticContent/Photos/110811142241/120620204652/p_O.jpg'\n",
      "'32975', 'https://eda.ru/recepty/osnovnye-blyuda/kurinie-nagetsi-s-sirom-32975', 'https://eda.ru/img/eda/c500x500/s1.eda.ru/StaticContent/Photos/140321134811/200927093554/p_O.jpg'\n",
      "'40096', 'https://eda.ru/recepty/vypechka-deserty/pirog-kartofelnij-v-multivarke-40096', 'https://eda.ru/img/eda/c500x500/s1.eda.ru/StaticContent/Photos/131004132748/131012102156/p_O.jpg'\n",
      "'25151', 'https://eda.ru/recepty/vypechka-deserty/pirozhki-s-rikottoj-gribami-25151', 'https://eda.ru/img/eda/c500x500/s1.eda.ru/StaticContent/Photos/120214131925/120214132441/p_O.jpg'\n",
      "'93771', 'https://eda.ru/recepty/vypechka-deserty/kulebyaka-s-ryboy-93771', 'https://eda.ru/img/eda/c500x500/s1.eda.ru/StaticContent/Photos/120131083619/170816131928/p_O.jpg'\n",
      "'16779', 'https://eda.ru/recepty/osnovnye-blyuda/farshirovannie-baklazhani-s-teljatinoj-16779', 'https://eda.ru/img/eda/c500x500/s1.eda.ru/StaticContent/Photos/120213175531/1202131756160/p_O.jpg'\n",
      "'21268', 'https://eda.ru/recepty/zakuski/kassule-iz-ovoschej-21268', 'data:image/png;base64,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'\n",
      "'18139', 'https://eda.ru/recepty/vypechka-deserty/domashnij-pirog-18139', 'https://eda.ru/img/eda/c500x500/s1.eda.ru/StaticContent/Photos/120213180745/120213180745/p_O.jpg'\n",
      "'21892', 'https://eda.ru/recepty/salaty/salat-iz-kurici-s-gribami-seldereem-21892', 'https://eda.ru/img/eda/c500x500/s1.eda.ru/StaticContent/Photos/110810174633/120213185951/p_O.jpg'\n",
      "'56895', 'https://eda.ru/recepty/supy/bystryy-sup-iz-svezhih-shampinonov-kartofelya-i-morkovi-56895', 'https://eda.ru/img/eda/c500x500/s1.eda.ru/StaticContent/Photos/160115152344/160119155957/p_O.jpg'\n",
      "'126267', 'https://eda.ru/recepty/vypechka-deserty/tort-bez-duhovki-126267', 'https://eda.ru/img/eda/c500x500/s1.eda.ru/StaticContent/Photos/120605145344/181218171012/p_O.jpg'\n",
      "'19903', 'https://eda.ru/recepty/vypechka-deserty/panforte-19903', 'https://eda.ru/img/eda/c500x500/s1.eda.ru/StaticContent/Photos/120213182735/120213183022/p_O.jpg'\n",
      "'23687', 'https://eda.ru/recepty/supy/slivochnij-sup-so-sladkoj-kukuruzoj-bekonom-petrushkoj-23687', 'https://eda.ru/img/eda/c500x500/s1.eda.ru/StaticContent/Photos/120214125404/120214125747/p_O.jpg'\n",
      "'42813', 'https://eda.ru/recepty/vypechka-deserty/morkovnij-pirog-s-sirno-citrusovim-kremom-42813', 'https://eda.ru/img/eda/c500x500/s1.eda.ru/StaticContent/Photos/120131082709/140311190804/p_O.jpg'\n",
      "'153083', 'https://eda.ru/recepty/vypechka-deserty/hrustyaschie-rzhanye-treugolniki-s-pechenyu-treski-153083', 'https://eda.ru/img/eda/c500x500/s1.eda.ru/StaticContent/Photos/0/26/0260949a06a342d78eb0909e2ef907aa.jpg'\n",
      "'140794', 'https://eda.ru/recepty/osnovnye-blyuda/kotlety-po-kievski-iz-perepelki-s-tykvennym-sousom-i-kartofelnym-pyure-140794', 'https://eda.ru/img/eda/c500x500/s1.eda.ru/StaticContent/Photos/160406123417/210407140816/p_O.jpg'\n",
      "'151570', 'https://eda.ru/recepty/salaty/tabule-iz-kinoa-s-tykvoy-151570', 'https://eda.ru/img/eda/c500x500/s1.eda.ru/StaticContent/Photos/170305005355/211104143230/p_O.jpg'\n",
      "'47481', 'https://eda.ru/recepty/vypechka-deserty/klafuti-s-zamorozhennimi-jagodami-i-kokosovim-molokom-47481', 'https://eda.ru/img/eda/c500x500/s1.eda.ru/StaticContent/Photos/141111211643/141122001453/p_O.jpg'\n",
      "'137042', 'https://eda.ru/recepty/osnovnye-blyuda/diafragma-barbekyu-s-gremolatoy-i-molodoy-svekloy-137042', 'https://eda.ru/img/eda/c500x500/s1.eda.ru/StaticContent/Photos/130725133817/190730133959/p_O.jpg'\n",
      "'139614', 'https://eda.ru/recepty/zagotovki/pomidory-na-zimu-s-syurprizom-139614', 'https://eda.ru/img/eda/c500x500/s1.eda.ru/StaticContent/Photos/170215184917/200803173808/p_O.jpg'\n",
      "'152473', 'https://eda.ru/recepty/vypechka-deserty/hlebnyy-tort-152473', 'https://eda.ru/img/eda/c500x500/s1.eda.ru/StaticContent/Photos/9/0b/90b8d2b9b7204c3488e684ea69b1f7ac.jpg'\n",
      "'79855', 'https://eda.ru/recepty/zavtraki/tost-s-avokado-i-rikottoy-79855', 'https://eda.ru/img/eda/c500x500/s1.eda.ru/StaticContent/Photos/120131090525/160706143056/p_O.jpg'\n",
      "'45688', 'https://eda.ru/recepty/osnovnye-blyuda/ovoshhnaja-zapekanka-po-abhazski-45688', 'https://eda.ru/img/eda/c500x500/s1.eda.ru/StaticContent/Photos/140722210131/140729222915/p_O.jpg'\n",
      "'92896', 'https://eda.ru/recepty/osnovnye-blyuda/kotleta-iz-nuta-92896', 'https://eda.ru/img/eda/c500x500/s1.eda.ru/StaticContent/Photos/120131082242/170420181630/p_O.jpg'\n",
      "'23317', 'https://eda.ru/recepty/napitki/medovij-glintvejn-23317', 'https://eda.ru/img/eda/c500x500/s1.eda.ru/StaticContent/Photos/120214124812/120214124947/p_O.jpg'\n",
      "'136716', 'https://eda.ru/recepty/vypechka-deserty/muss-iz-mango-136716', 'https://eda.ru/img/eda/c500x500/s1.eda.ru/StaticContent/Photos/121114213720/190403152129/p_O.jpg'\n",
      "'39913', 'https://eda.ru/recepty/vypechka-deserty/cukati-iz-imbirja-39913', 'https://eda.ru/img/eda/c500x500/s1.eda.ru/StaticContent/Photos/120131090259/130927140808/p_O.jpg'\n",
      "'17238', 'https://eda.ru/recepty/salaty/salat-sloenij-17238', 'https://eda.ru/img/eda/c500x500/s1.eda.ru/StaticContent/Photos/120131083853/120213175738/p_O.jpg'\n",
      "'152631', 'https://eda.ru/recepty/zakuski/zakuska-iz-marinovannyh-pomidorov-s-kilkoy-152631', 'https://eda.ru/img/eda/c500x500/s1.eda.ru/StaticContent/Photos/9/36/936b526f4d084b40bddf57d5df90ec98.jpg'\n",
      "'23769', 'https://eda.ru/recepty/salaty/kurinij-salat-s-fruktami-orehami-23769', 'https://eda.ru/img/eda/c500x500/s1.eda.ru/StaticContent/Photos/110816122019/120214125958/p_O.jpg'\n",
      "'19887', 'https://eda.ru/recepty/salaty/salat-kurinij-s-gribami-pod-sirom-19887', 'https://eda.ru/img/eda/c500x500/s1.eda.ru/StaticContent/Photos/120213182735/120213182952/p_O.jpg'\n",
      "'43979', 'https://eda.ru/recepty/zavtraki/grenki-s-tushenimi-jablokami-43979', 'https://eda.ru/img/eda/c500x500/s1.eda.ru/StaticContent/Photos/120131083524/140513171457/p_O.jpg'\n",
      "'22398', 'https://eda.ru/recepty/vypechka-deserty/kulich-rastitelnij-22398', 'https://eda.ru/img/eda/c500x500/s1.eda.ru/StaticContent/Photos/120131111615/120213190534/p_O.jpg'\n",
      "'19903', 'https://eda.ru/recepty/vypechka-deserty/panforte-19903', 'https://eda.ru/img/eda/c500x500/s1.eda.ru/StaticContent/Photos/120213182735/120213183022/p_O.jpg'\n",
      "'23687', 'https://eda.ru/recepty/supy/slivochnij-sup-so-sladkoj-kukuruzoj-bekonom-petrushkoj-23687', 'https://eda.ru/img/eda/c500x500/s1.eda.ru/StaticContent/Photos/120214125404/120214125747/p_O.jpg'\n",
      "'42813', 'https://eda.ru/recepty/vypechka-deserty/morkovnij-pirog-s-sirno-citrusovim-kremom-42813', 'https://eda.ru/img/eda/c500x500/s1.eda.ru/StaticContent/Photos/120131082709/140311190804/p_O.jpg'\n",
      "'136963', 'https://eda.ru/recepty/zavtraki/ckrembl-s-rikottoy-i-krasnoy-ikroy-136963', 'https://eda.ru/img/eda/c500x500/s1.eda.ru/StaticContent/Photos/130427191156/190620150350/p_O.jpg'\n",
      "'47481', 'https://eda.ru/recepty/vypechka-deserty/klafuti-s-zamorozhennimi-jagodami-i-kokosovim-molokom-47481', 'https://eda.ru/img/eda/c500x500/s1.eda.ru/StaticContent/Photos/141111211643/141122001453/p_O.jpg'\n",
      "'79855', 'https://eda.ru/recepty/zavtraki/tost-s-avokado-i-rikottoy-79855', 'https://eda.ru/img/eda/c500x500/s1.eda.ru/StaticContent/Photos/120131090525/160706143056/p_O.jpg'\n",
      "'39477', 'https://eda.ru/recepty/pasta-picca/zapekanka-c-pomidorami-baklazhanami-i-sirom-39477', 'https://eda.ru/img/eda/c500x500/s1.eda.ru/StaticContent/Photos/120131083649/130831022143/p_O.jpg'\n",
      "'41354', 'https://eda.ru/recepty/osnovnye-blyuda/tjan-iz-baranini-s-ovoshhnim-ragu-i-mjatnim-sousom-41354', 'https://eda.ru/img/eda/c500x500/s1.eda.ru/StaticContent/Photos/140124100744/140129120556/p_O.jpg'\n",
      "'16834', 'https://eda.ru/recepty/sousy-marinady/chatni-16834', 'https://eda.ru/img/eda/c500x500/s1.eda.ru/StaticContent/Photos/120213175531/1202131756290/p_O.jpg'\n",
      "'18032', 'https://eda.ru/recepty/zakuski/pjure-iz-cvetnoj-kapusti-s-sirom-18032', 'https://eda.ru/img/eda/c500x500/s1.eda.ru/StaticContent/Photos/140902214744/140909191059/p_O.jpg'\n",
      "'19645', 'https://eda.ru/recepty/vypechka-deserty/imbirno-medovij-hleb-s-kljukvoj-cukatami-orehami-portvejnom-19645', 'https://eda.ru/img/eda/c500x500/s1.eda.ru/StaticContent/Photos/120213182322/120213182719/p_O.jpg'\n",
      "'21663', 'https://eda.ru/recepty/zakuski/zharenij-molodoj-kartofel-s-kapersami-chesnokom-rozmarinom-21663', 'https://eda.ru/img/eda/c500x500/s1.eda.ru/StaticContent/Photos/120213175433/120213185503/p_O.jpg'\n",
      "'18778', 'https://eda.ru/recepty/osnovnye-blyuda/ovoschi-gril-18778', 'https://eda.ru/img/eda/c500x500/s1.eda.ru/StaticContent/Photos/110805171021/120213181525/p_O.jpg'\n",
      "'34807', 'https://eda.ru/recepty/vypechka-deserty/pikantnij-hleb-s-chesnokom-lukom-i-zelenju-34807', 'https://eda.ru/img/eda/c500x500/s1.eda.ru/StaticContent/Photos/110805165929/121125125153/p_O.jpg'\n",
      "'38909', 'https://eda.ru/recepty/vypechka-deserty/pahlava-s-fistashkami-38909', 'https://eda.ru/img/eda/c500x500/s1.eda.ru/StaticContent/Photos/130725133817/130803234322/p_O.jpg'\n",
      "'30432', 'https://eda.ru/recepty/zakuski/jaki-udon-lapsha-s-moreproduktami-po-japonski-30432', 'https://eda.ru/img/eda/c500x500/s1.eda.ru/StaticContent/Photos/120214124236/120214155936/p_O.jpg'\n",
      "'15573', 'https://eda.ru/recepty/sendvichi/grenki-s-sousom-pesto-15573', 'https://eda.ru/img/eda/c500x500/s1.eda.ru/StaticContent/Photos/120213175134/1202131752080/p_O.jpg'\n",
      "'53414', 'https://eda.ru/recepty/vypechka-deserty/tort-s-bananami-i-limonno-vanilnim-zavarnim-kremom-53414', 'https://eda.ru/img/eda/c500x500/s1.eda.ru/StaticContent/Photos/151031004547/151105002842/p_O.jpg'\n",
      "'153119', 'https://eda.ru/recepty/pasta-picca/pasta-s-govyazhimi-frikadelkami-153119', 'https://eda.ru/img/eda/c500x500/s1.eda.ru/StaticContent/Photos/3/f4/3f441ad8d7c44bbb84eb9721cb5a526d.jpg'\n",
      "'47439', 'https://eda.ru/recepty/osnovnye-blyuda/tomlennaja-v-vine-govjazhja-grudinka-47439', 'https://eda.ru/img/eda/c500x500/s1.eda.ru/StaticContent/Photos/141122084325/141201193323/p_O.jpg'\n",
      "'30641', 'https://eda.ru/recepty/zakuski/zharenij-kartofel-s-parmezanom-30641', 'https://eda.ru/img/eda/c500x500/s1.eda.ru/StaticContent/Photos/110825150222/120214160717/p_O.jpg'\n",
      "'27745', 'https://eda.ru/recepty/sousy-marinady/marinad-iz-balzamicheskogo-uksusa-s-rozmarinom-27745', 'https://eda.ru/img/eda/c500x500/s1.eda.ru/StaticContent/Photos/120131090009/120214140937/p_O.jpg'\n",
      "'21781', 'https://eda.ru/recepty/vypechka-deserty/vafli-kukuruznie-21781', 'https://eda.ru/img/eda/c500x500/s1.eda.ru/StaticContent/Photos/120213185439/120213185743/p_O.jpg'\n",
      "'25138', 'https://eda.ru/recepty/osnovnye-blyuda/kurinij-plov-s-gribami-bazilikom-25138', 'https://eda.ru/img/eda/c500x500/s1.eda.ru/StaticContent/Photos/120214131925/120214132420/p_O.jpg'\n",
      "'37640', 'https://eda.ru/recepty/vypechka-deserty/indijskie-sladosti-iz-nuta-i-suhofruktov-37640', 'https://eda.ru/img/eda/c500x500/s1.eda.ru/StaticContent/Photos/130508123453/130516174144/p_O.jpg'\n",
      "'24742', 'https://eda.ru/recepty/zakuski/kurinie-nozhki-v-suharjah-s-zelenju-24742', 'https://eda.ru/img/eda/c500x500/s1.eda.ru/StaticContent/Photos/120214131251/120214131658/p_O.jpg'\n",
      "'31004', 'https://eda.ru/recepty/vypechka-deserty/jablochnie-ponchiki-s-karamelju-31004', 'https://eda.ru/img/eda/c500x500/s1.eda.ru/StaticContent/Photos/120420200719/120424122453/p_O.jpg'\n",
      "'20480', 'https://eda.ru/recepty/napitki/ananasovij-krjushon-s-shampanskim-konjakom-20480', 'https://eda.ru/img/eda/c500x500/s1.eda.ru/StaticContent/Photos/120213183611/120213183812/p_O.jpg'\n",
      "'27249', 'https://eda.ru/recepty/zakuski/sous-rajta-s-mjatoj-27249', 'https://eda.ru/img/eda/c500x500/s1.eda.ru/StaticContent/Photos/120131090114/120214140208/p_O.jpg'\n",
      "'37809', 'https://eda.ru/recepty/osnovnye-blyuda/ravioli-s-raznoj-zelenju-37809', 'https://eda.ru/img/eda/c500x500/s1.eda.ru/StaticContent/Photos/130619134157/130628183959/p_O.jpg'\n",
      "'31023', 'https://eda.ru/recepty/supy/harira-31023', 'data:image/png;base64,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'\n",
      "'34000', 'https://eda.ru/recepty/osnovnye-blyuda/losos-v-marinade-zapechennij-v-duhovke-34000', 'https://eda.ru/img/eda/c500x500/s1.eda.ru/StaticContent/Photos/120131082729/121005154905/p_O.jpg'\n",
      "'22090', 'https://eda.ru/recepty/vypechka-deserty/citrusovoe-zhele-s-medom-mjatoj-22090', 'https://eda.ru/img/eda/c500x500/s1.eda.ru/StaticContent/Photos/120213185949/120213190140/p_O.jpg'\n",
      "'15636', 'https://eda.ru/recepty/sendvichi/bulochki-s-lukovim-omletom-bekonom-pechenim-krasnim-percem-15636', 'https://eda.ru/img/eda/c500x500/s1.eda.ru/StaticContent/Photos/120213175134/1202131752261/p_O.jpg'\n",
      "'38272', 'https://eda.ru/recepty/supy/sup-iz-lobio-38272', 'https://eda.ru/img/eda/c500x500/s1.eda.ru/StaticContent/Photos/121012184428/130624123748/p_O.jpg'\n",
      "'18603', 'https://eda.ru/recepty/vypechka-deserty/presnoe-bezdrozhzhevoe-testo-18603', 'https://eda.ru/img/eda/c500x500/s1.eda.ru/StaticContent/Photos/120213181135/120213181208/p_O.jpg'\n",
      "'45560', 'https://eda.ru/recepty/vypechka-deserty/tvorozhnij-pirog-s-chernoj-smorodinoj-45560', 'https://eda.ru/img/eda/c500x500/s1.eda.ru/StaticContent/Photos/110816122025/140723122449/p_O.jpg'\n",
      "'15133', 'https://eda.ru/recepty/osnovnye-blyuda/uzbekskij-plov-s-baranim-salom-15133', 'https://eda.ru/img/eda/c500x500/s1.eda.ru/StaticContent/Photos/110816122025/120213175025/p_O.jpg'\n",
      "'15038', 'https://eda.ru/recepty/vypechka-deserty/pechene-oreshki-15038', 'https://eda.ru/img/eda/c500x500/s1.eda.ru/StaticContent/Photos/120214122930/120214123249/p_O.jpg'\n",
      "'39477', 'https://eda.ru/recepty/pasta-picca/zapekanka-c-pomidorami-baklazhanami-i-sirom-39477', 'https://eda.ru/img/eda/c500x500/s1.eda.ru/StaticContent/Photos/120131083649/130831022143/p_O.jpg'\n",
      "'41354', 'https://eda.ru/recepty/osnovnye-blyuda/tjan-iz-baranini-s-ovoshhnim-ragu-i-mjatnim-sousom-41354', 'https://eda.ru/img/eda/c500x500/s1.eda.ru/StaticContent/Photos/140124100744/140129120556/p_O.jpg'\n",
      "'16834', 'https://eda.ru/recepty/sousy-marinady/chatni-16834', 'https://eda.ru/img/eda/c500x500/s1.eda.ru/StaticContent/Photos/120213175531/1202131756290/p_O.jpg'\n",
      "'18032', 'https://eda.ru/recepty/zakuski/pjure-iz-cvetnoj-kapusti-s-sirom-18032', 'https://eda.ru/img/eda/c500x500/s1.eda.ru/StaticContent/Photos/140902214744/140909191059/p_O.jpg'\n",
      "'19645', 'https://eda.ru/recepty/vypechka-deserty/imbirno-medovij-hleb-s-kljukvoj-cukatami-orehami-portvejnom-19645', 'https://eda.ru/img/eda/c500x500/s1.eda.ru/StaticContent/Photos/120213182322/120213182719/p_O.jpg'\n",
      "'21663', 'https://eda.ru/recepty/zakuski/zharenij-molodoj-kartofel-s-kapersami-chesnokom-rozmarinom-21663', 'https://eda.ru/img/eda/c500x500/s1.eda.ru/StaticContent/Photos/120213175433/120213185503/p_O.jpg'\n",
      "'18778', 'https://eda.ru/recepty/osnovnye-blyuda/ovoschi-gril-18778', 'https://eda.ru/img/eda/c500x500/s1.eda.ru/StaticContent/Photos/110805171021/120213181525/p_O.jpg'\n",
      "'34807', 'https://eda.ru/recepty/vypechka-deserty/pikantnij-hleb-s-chesnokom-lukom-i-zelenju-34807', 'https://eda.ru/img/eda/c500x500/s1.eda.ru/StaticContent/Photos/110805165929/121125125153/p_O.jpg'\n",
      "'30432', 'https://eda.ru/recepty/zakuski/jaki-udon-lapsha-s-moreproduktami-po-japonski-30432', 'https://eda.ru/img/eda/c500x500/s1.eda.ru/StaticContent/Photos/120214124236/120214155936/p_O.jpg'\n",
      "'46480', 'https://eda.ru/recepty/osnovnye-blyuda/ribaj-stejk-s-kartofelnim-pjure-i-slivochno-gribnim-sousom-iz-smorchkov-46480', 'https://eda.ru/img/eda/c500x500/s1.eda.ru/StaticContent/Photos/140802212008/140918162926/p_O.jpg'\n",
      "'52019', 'https://eda.ru/recepty/osnovnye-blyuda/kuskus-s-ovoshhami-52019', 'https://eda.ru/img/eda/c500x500/s1.eda.ru/StaticContent/Photos/120131084420/150812134506/p_O.jpg'\n",
      "'53287', 'https://eda.ru/recepty/zakuski/tofu-s-krevetochnoj-ikroj-53287', 'https://eda.ru/img/eda/c500x500/s1.eda.ru/StaticContent/Photos/151021114948/151029160612/p_O.jpg'\n",
      "'139613', 'https://eda.ru/recepty/zagotovki/marmelad-iz-pomidorov-139613', 'https://eda.ru/img/eda/c500x500/s1.eda.ru/StaticContent/Photos/170215184917/200803174627/p_O.jpg'\n",
      "'41029', 'https://eda.ru/recepty/napitki/koktejl-jespresso-martini-espresso-martini-41029', 'https://eda.ru/img/eda/c500x500/s1.eda.ru/StaticContent/Photos/120131084114/131209190246/p_O.jpg'\n",
      "'26145', 'https://eda.ru/recepty/salaty/olive-s-marinovannimi-gribami-26145', 'https://eda.ru/img/eda/c500x500/s1.eda.ru/StaticContent/Photos/120131112204/120214134001/p_O.jpg'\n",
      "'36294', 'https://eda.ru/recepty/vypechka-deserty/dieticheskie-blini-s-fetoj-i-shpinatom-36294', 'https://eda.ru/img/eda/c500x500/s1.eda.ru/StaticContent/Photos/120131082141/130314112428/p_O.jpg'\n",
      "'30641', 'https://eda.ru/recepty/zakuski/zharenij-kartofel-s-parmezanom-30641', 'https://eda.ru/img/eda/c500x500/s1.eda.ru/StaticContent/Photos/110825150222/120214160717/p_O.jpg'\n",
      "'27745', 'https://eda.ru/recepty/sousy-marinady/marinad-iz-balzamicheskogo-uksusa-s-rozmarinom-27745', 'https://eda.ru/img/eda/c500x500/s1.eda.ru/StaticContent/Photos/120131090009/120214140937/p_O.jpg'\n",
      "'21781', 'https://eda.ru/recepty/vypechka-deserty/vafli-kukuruznie-21781', 'https://eda.ru/img/eda/c500x500/s1.eda.ru/StaticContent/Photos/120213185439/120213185743/p_O.jpg'\n",
      "'25138', 'https://eda.ru/recepty/osnovnye-blyuda/kurinij-plov-s-gribami-bazilikom-25138', 'https://eda.ru/img/eda/c500x500/s1.eda.ru/StaticContent/Photos/120214131925/120214132420/p_O.jpg'\n",
      "'37640', 'https://eda.ru/recepty/vypechka-deserty/indijskie-sladosti-iz-nuta-i-suhofruktov-37640', 'https://eda.ru/img/eda/c500x500/s1.eda.ru/StaticContent/Photos/130508123453/130516174144/p_O.jpg'\n",
      "'24742', 'https://eda.ru/recepty/zakuski/kurinie-nozhki-v-suharjah-s-zelenju-24742', 'https://eda.ru/img/eda/c500x500/s1.eda.ru/StaticContent/Photos/120214131251/120214131658/p_O.jpg'\n",
      "'31004', 'https://eda.ru/recepty/vypechka-deserty/jablochnie-ponchiki-s-karamelju-31004', 'https://eda.ru/img/eda/c500x500/s1.eda.ru/StaticContent/Photos/120420200719/120424122453/p_O.jpg'\n",
      "'32125', 'https://eda.ru/recepty/vypechka-deserty/shokoladnie-rolli-s-jablokami-i-apelsinami-32125', 'https://eda.ru/img/eda/c500x500/s1.eda.ru/StaticContent/Photos/161026181903/161102124518/p_O.jpg'\n",
      "'136963', 'https://eda.ru/recepty/zavtraki/ckrembl-s-rikottoy-i-krasnoy-ikroy-136963', 'https://eda.ru/img/eda/c500x500/s1.eda.ru/StaticContent/Photos/130427191156/190620150350/p_O.jpg'\n",
      "'25156', 'https://eda.ru/recepty/osnovnye-blyuda/zapekanka-iz-baklazhanov-s-moccarelloj-25156', 'data:image/png;base64,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'\n",
      "'19067', 'https://eda.ru/recepty/vypechka-deserty/vanilnoe-biskvitnoe-pechene-19067', 'https://eda.ru/img/eda/c500x500/s1.eda.ru/StaticContent/Photos/120213181523/120213181854/p_O.jpg'\n",
      "'54275', 'https://eda.ru/recepty/pasta-picca/makaroni-s-krevetkami-v-chesnochno-slivochnom-souse-54275', 'https://eda.ru/img/eda/c500x500/s1.eda.ru/StaticContent/Photos/120131085214/151126164630/p_O.jpg'\n",
      "'137464', 'https://eda.ru/recepty/osnovnye-blyuda/harcho-po-megrelski-137464', 'https://eda.ru/img/eda/c500x500/s1.eda.ru/StaticContent/Photos/170224135654/191107141302/p_O.jpg'\n",
      "'20106', 'https://eda.ru/recepty/osnovnye-blyuda/marinovannie-ovoschi-s-soevim-sousom-chesnokom-chili-20106', 'https://eda.ru/img/eda/c500x500/s1.eda.ru/StaticContent/Photos/120213182322/120213183227/p_O.jpg'\n",
      "'140624', 'https://eda.ru/recepty/zakuski/mini-chebureki-s-yagnenkom-i-karri-140624', 'https://eda.ru/img/eda/c500x500/s1.eda.ru/StaticContent/Photos/170302231109/210310133059/p_O.jpg'\n",
      "'27150', 'https://eda.ru/recepty/zakuski/bistrij-pashtet-iz-fasoli-s-greckimi-orehami-27150', 'https://eda.ru/img/eda/c500x500/s1.eda.ru/StaticContent/Photos/120131082227/120214140154/p_O.jpg'\n",
      "'20927', 'https://eda.ru/recepty/vypechka-deserty/belij-shokoladnij-krem-20927', 'https://eda.ru/img/eda/c500x500/s1.eda.ru/StaticContent/Photos/120130134327/120213184517/p_O.jpg'\n",
      "'32148', 'https://eda.ru/recepty/sousy-marinady/sous-cezar-s-limonom-32148', 'data:image/png;base64,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'\n",
      "'138319', 'https://eda.ru/recepty/vypechka-deserty/talkysh-kaleve-138319', 'https://eda.ru/img/eda/c500x500/s1.eda.ru/StaticContent/Photos/170225172301/200210120357/p_O.png'\n",
      "'152825', 'https://eda.ru/recepty/osnovnye-blyuda/krokety-iz-batata-152825', 'https://eda.ru/img/eda/c500x500/s1.eda.ru/StaticContent/Photos/3/75/37529925bc8f4071ba8987d7cda77aca.jpg'\n",
      "'152673', 'https://eda.ru/recepty/vypechka-deserty/kabachkovye-oladi-s-yablochnym-pripekom-152673', 'https://eda.ru/img/eda/c500x500/s1.eda.ru/StaticContent/Photos/e/4d/e4d89cca63e34f96be23507d5d79f0e7.jpg'\n",
      "'139717', 'https://eda.ru/recepty/zagotovki/varene-iz-inzhira-139717', 'https://eda.ru/img/eda/c500x500/s1.eda.ru/StaticContent/Photos/160717170530/200805110357/p_O.jpg'\n",
      "'152791', 'https://eda.ru/recepty/zakuski/pashtet-iz-kurinoy-pecheni-s-klyukvennym-zhele-152791', 'https://eda.ru/img/eda/c500x500/s1.eda.ru/StaticContent/Photos/2/a0/2a0123fd22cc447ba171e620cf0b2cea.jpg'\n",
      "'25156', 'https://eda.ru/recepty/osnovnye-blyuda/zapekanka-iz-baklazhanov-s-moccarelloj-25156', 'data:image/png;base64,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'\n",
      "'19067', 'https://eda.ru/recepty/vypechka-deserty/vanilnoe-biskvitnoe-pechene-19067', 'https://eda.ru/img/eda/c500x500/s1.eda.ru/StaticContent/Photos/120213181523/120213181854/p_O.jpg'\n",
      "'54275', 'https://eda.ru/recepty/pasta-picca/makaroni-s-krevetkami-v-chesnochno-slivochnom-souse-54275', 'https://eda.ru/img/eda/c500x500/s1.eda.ru/StaticContent/Photos/120131085214/151126164630/p_O.jpg'\n",
      "'93594', 'https://eda.ru/recepty/vypechka-deserty/medovik-s-sotami-93594', 'https://eda.ru/img/eda/c500x500/s1.eda.ru/StaticContent/Photos/120131083347/170725174100/p_O.jpg'\n",
      "'20106', 'https://eda.ru/recepty/osnovnye-blyuda/marinovannie-ovoschi-s-soevim-sousom-chesnokom-chili-20106', 'https://eda.ru/img/eda/c500x500/s1.eda.ru/StaticContent/Photos/120213182322/120213183227/p_O.jpg'\n",
      "'173487', 'https://eda.ru/recepty/osnovnye-blyuda/baklazhan-vok-s-tomatami-i-grecheskim-syrom-173487', 'https://eda.ru/img/eda/c500x500/s1.eda.ru/StaticContent/Photos/d/d8/dd898229abbc4c1b95e24b55c847b9c0.jpg'\n",
      "'27150', 'https://eda.ru/recepty/zakuski/bistrij-pashtet-iz-fasoli-s-greckimi-orehami-27150', 'https://eda.ru/img/eda/c500x500/s1.eda.ru/StaticContent/Photos/120131082227/120214140154/p_O.jpg'\n",
      "'32148', 'https://eda.ru/recepty/sousy-marinady/sous-cezar-s-limonom-32148', 'data:image/png;base64,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'\n",
      "'20927', 'https://eda.ru/recepty/vypechka-deserty/belij-shokoladnij-krem-20927', 'https://eda.ru/img/eda/c500x500/s1.eda.ru/StaticContent/Photos/120130134327/120213184517/p_O.jpg'\n",
      "'40707', 'https://eda.ru/recepty/osnovnye-blyuda/buzhenina-s-chesnokom-morkovju-i-travami-40707', 'https://eda.ru/img/eda/c500x500/s1.eda.ru/StaticContent/Photos/130330144331/131119235929/p_O.jpg'\n",
      "'35641', 'https://eda.ru/recepty/osnovnye-blyuda/tataki-iz-tunca-35641', 'https://eda.ru/img/eda/c500x500/s1.eda.ru/StaticContent/Photos/170215223849/170219175726/p_O.jpg'\n",
      "'33569', 'https://eda.ru/recepty/zakuski/roll-unagi-maki-33569', 'https://eda.ru/img/eda/c500x500/s1.eda.ru/StaticContent/Photos/120131085856/120912210842/p_O.jpg'\n",
      "'28551', 'https://eda.ru/recepty/sendvichi/bistrie-sjendvichi-s-lososem-ovoschami-rikottoj-28551', 'https://eda.ru/img/eda/c500x500/s1.eda.ru/StaticContent/Photos/120214141717/120214142445/p_O.jpg'\n",
      "'49958', 'https://eda.ru/recepty/osnovnye-blyuda/kotletki-iz-krasnoj-chechevici-dlja-veganov-bez-gljutena-49958', 'https://eda.ru/img/eda/c500x500/s1.eda.ru/StaticContent/Photos/150404084133/150410193237/p_O.jpg'\n",
      "'19396', 'https://eda.ru/recepty/osnovnye-blyuda/kurica-s-zhasminovim-risom-19396', 'https://eda.ru/img/eda/c500x500/s1.eda.ru/StaticContent/Photos/120131082215/120213182326/p_O.jpg'\n",
      "'20468', 'https://eda.ru/recepty/napitki/apelsinovij-jeggnog-s-imbirnim-jelem-20468', 'https://eda.ru/img/eda/c500x500/s1.eda.ru/StaticContent/Photos/120213183611/120213183751/p_O.jpg'\n",
      "'32196', 'https://eda.ru/recepty/pasta-picca/pasta-karbonara-32196', 'data:image/png;base64,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'\n",
      "'41896', 'https://eda.ru/recepty/osnovnye-blyuda/kurica-v-rukave-s-ovoshhami-41896', 'https://eda.ru/img/eda/c500x500/s1.eda.ru/StaticContent/Photos/140111190442/140123212236/p_O.jpg'\n",
      "'14335', 'https://eda.ru/recepty/osnovnye-blyuda/guljash-s-gribami-14335', 'https://eda.ru/img/eda/c500x500/s1.eda.ru/StaticContent/Photos/120131112336/1202131749042/p_O.jpg'\n",
      "'41006', 'https://eda.ru/recepty/napitki/koktejl-tom-kollinz-tom-collins-41006', 'https://eda.ru/img/eda/c500x500/s1.eda.ru/StaticContent/Photos/120131082957/131209183901/p_O.jpg'\n",
      "'16214', 'https://eda.ru/recepty/vypechka-deserty/rikotta-s-mindalnim-medom-16214', 'data:image/png;base64,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'\n",
      "'138442', 'https://eda.ru/recepty/osnovnye-blyuda/file-minon-s-gribnym-sousom-i-timyanom-138442', 'https://eda.ru/img/eda/c500x500/s1.eda.ru/StaticContent/Photos/130924160547/200227095649/p_O.jpg'\n",
      "'151704', 'https://eda.ru/recepty/vypechka-deserty/grushi-v-herese-151704', 'https://eda.ru/img/eda/c500x500/s1.eda.ru/StaticContent/Photos/d/211201144527/p_O.jpg'\n",
      "'138597', 'https://eda.ru/recepty/vypechka-deserty/biskvitnoe-testo-138597', 'https://eda.ru/img/eda/c500x500/s1.eda.ru/StaticContent/Photos/170306205639/200326144334/p_O.jpg'\n",
      "'152047', 'https://eda.ru/recepty/salaty/tayskiy-salat-s-zharenym-tofu-152047', 'https://eda.ru/img/eda/c500x500/s1.eda.ru/StaticContent/Photos/4/220301203347/p_O.jpg'\n",
      "'152780', 'https://eda.ru/recepty/zakuski/riet-iz-utki-152780', 'https://eda.ru/img/eda/c500x500/s1.eda.ru/StaticContent/Photos/e/09/e097bca141a44a24ab5424c11e8b7f5f.jpg'\n",
      "'25156', 'https://eda.ru/recepty/osnovnye-blyuda/zapekanka-iz-baklazhanov-s-moccarelloj-25156', 'data:image/png;base64,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'\n",
      "'19067', 'https://eda.ru/recepty/vypechka-deserty/vanilnoe-biskvitnoe-pechene-19067', 'https://eda.ru/img/eda/c500x500/s1.eda.ru/StaticContent/Photos/120213181523/120213181854/p_O.jpg'\n",
      "'140115', 'https://eda.ru/recepty/vypechka-deserty/francuzskaya-merenga-140115', 'https://eda.ru/img/eda/c500x500/s1.eda.ru/StaticContent/Photos/170305005240/201111163547/p_O.jpg'\n",
      "'152605', 'https://eda.ru/recepty/osnovnye-blyuda/krylyshki-s-chesnokom-i-parmezanom-152605', 'https://eda.ru/img/eda/c500x500/s1.eda.ru/StaticContent/Photos/9/ca/9cad91076ce7474fb489dca073825cd1.jpg'\n",
      "'54275', 'https://eda.ru/recepty/pasta-picca/makaroni-s-krevetkami-v-chesnochno-slivochnom-souse-54275', 'https://eda.ru/img/eda/c500x500/s1.eda.ru/StaticContent/Photos/120131085214/151126164630/p_O.jpg'\n",
      "'93594', 'https://eda.ru/recepty/vypechka-deserty/medovik-s-sotami-93594', 'https://eda.ru/img/eda/c500x500/s1.eda.ru/StaticContent/Photos/120131083347/170725174100/p_O.jpg'\n",
      "'20106', 'https://eda.ru/recepty/osnovnye-blyuda/marinovannie-ovoschi-s-soevim-sousom-chesnokom-chili-20106', 'https://eda.ru/img/eda/c500x500/s1.eda.ru/StaticContent/Photos/120213182322/120213183227/p_O.jpg'\n",
      "'173487', 'https://eda.ru/recepty/osnovnye-blyuda/baklazhan-vok-s-tomatami-i-grecheskim-syrom-173487', 'https://eda.ru/img/eda/c500x500/s1.eda.ru/StaticContent/Photos/d/d8/dd898229abbc4c1b95e24b55c847b9c0.jpg'\n",
      "'27150', 'https://eda.ru/recepty/zakuski/bistrij-pashtet-iz-fasoli-s-greckimi-orehami-27150', 'https://eda.ru/img/eda/c500x500/s1.eda.ru/StaticContent/Photos/120131082227/120214140154/p_O.jpg'\n",
      "'20927', 'https://eda.ru/recepty/vypechka-deserty/belij-shokoladnij-krem-20927', 'https://eda.ru/img/eda/c500x500/s1.eda.ru/StaticContent/Photos/120130134327/120213184517/p_O.jpg'\n",
      "'32148', 'https://eda.ru/recepty/sousy-marinady/sous-cezar-s-limonom-32148', 'data:image/png;base64,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'\n",
      "'40707', 'https://eda.ru/recepty/osnovnye-blyuda/buzhenina-s-chesnokom-morkovju-i-travami-40707', 'https://eda.ru/img/eda/c500x500/s1.eda.ru/StaticContent/Photos/130330144331/131119235929/p_O.jpg'\n",
      "'35641', 'https://eda.ru/recepty/osnovnye-blyuda/tataki-iz-tunca-35641', 'https://eda.ru/img/eda/c500x500/s1.eda.ru/StaticContent/Photos/170215223849/170219175726/p_O.jpg'\n",
      "'33569', 'https://eda.ru/recepty/zakuski/roll-unagi-maki-33569', 'https://eda.ru/img/eda/c500x500/s1.eda.ru/StaticContent/Photos/120131085856/120912210842/p_O.jpg'\n",
      "'139537', 'https://eda.ru/recepty/zavtraki/risovaya-kasha-s-klubnikoy-i-semenami-chia-139537', 'https://eda.ru/img/eda/c500x500/s1.eda.ru/StaticContent/Photos/170224233526/210629223053/p_O.jpg'\n",
      "'23317', 'https://eda.ru/recepty/napitki/medovij-glintvejn-23317', 'https://eda.ru/img/eda/c500x500/s1.eda.ru/StaticContent/Photos/120214124812/120214124947/p_O.jpg'\n",
      "'40128', 'https://eda.ru/recepty/vypechka-deserty/pirog-s-brusnikoj-40128', 'https://eda.ru/img/eda/c500x500/s1.eda.ru/StaticContent/Photos/160927114839/161008181225/p_O.jpg'\n",
      "'28525', 'https://eda.ru/recepty/napitki/klubnichno-mindalnij-smuzi-28525', 'https://eda.ru/img/eda/c500x500/s1.eda.ru/StaticContent/Photos/120214141717/120214142414/p_O.jpg'\n",
      "'152973', 'https://eda.ru/recepty/zakuski/tartaletki-so-shprotami-152973', 'https://eda.ru/img/eda/c500x500/s1.eda.ru/StaticContent/Photos/e/57/e57cad1e9fc74ec2bfb3483dbd240e57.jpg'\n",
      "'138598', 'https://eda.ru/recepty/vypechka-deserty/rulet-s-makom-i-maskarpone-138598', 'https://eda.ru/img/eda/c500x500/s1.eda.ru/StaticContent/Photos/170306205639/200326151611/p_O.jpg'\n",
      "'137351', 'https://eda.ru/recepty/osnovnye-blyuda/balkanskaya-kotleta-pleskavica-137351', 'https://eda.ru/img/eda/c500x500/s1.eda.ru/StaticContent/Photos/170219214134/190906143937/p_O.png'\n",
      "'34259', 'https://eda.ru/recepty/supy/sirnij-sup-s-gribami-34259', 'https://eda.ru/img/eda/c500x500/s1.eda.ru/StaticContent/Photos/150108085750/150113180137/p_O.jpg'\n",
      "'55962', 'https://eda.ru/recepty/zavtraki/shotlandskie-pankejki-55962', 'https://eda.ru/img/eda/c500x500/s1.eda.ru/StaticContent/Photos/110816121851/151223184141/p_O.jpg'\n",
      "'47033', 'https://eda.ru/recepty/vypechka-deserty/dieticheskie-rafajello-s-tvorogom-47033', 'https://eda.ru/img/eda/c500x500/s1.eda.ru/StaticContent/Photos/140227144100/141026150406/p_O.jpg'\n",
      "'44490', 'https://eda.ru/recepty/vypechka-deserty/jablochnij-pirog-vverh-dnom-s-karamelju-44490', 'https://eda.ru/img/eda/c500x500/s1.eda.ru/StaticContent/Photos/120917172330/140528131721/p_O.jpg'\n",
      "'24304', 'https://eda.ru/recepty/vypechka-deserty/pesochnoe-pechene-s-makom-24304', 'https://eda.ru/img/eda/c500x500/s1.eda.ru/StaticContent/Photos/140612200952/140621103621/p_O.jpg'\n",
      "'14555', 'https://eda.ru/recepty/sousy-marinady/sous-majonez-bez-gorchici-14555', 'https://eda.ru/img/eda/c500x500/s1.eda.ru/StaticContent/Photos/120131090114/120213174938/p_O.jpg'\n",
      "'80906', 'https://eda.ru/recepty/zavtraki/klassicheskie-koreyskie-yaichnye-rolly-80906', 'https://eda.ru/img/eda/c500x500/s1.eda.ru/StaticContent/Photos/160927114839/161011195705/p_O.jpg'\n"
     ]
    }
   ],
   "source": [
    "for j in range(1):\n",
    "    linkers = CrawlerEda().get_links(700, 1000)\n",
    "    print(len(linkers))\n",
    "    for i in linkers:\n",
    "        DBHelper().insert(\"link\", \"id\", [i.id, i.link, i.photo])"
   ],
   "metadata": {
    "collapsed": false,
    "ExecuteTime": {
     "end_time": "2023-06-30T07:12:53.001922Z",
     "start_time": "2023-06-30T06:38:31.346139100Z"
    }
   }
  }
 ],
 "metadata": {
  "kernelspec": {
   "display_name": "Python 3",
   "language": "python",
   "name": "python3"
  },
  "language_info": {
   "codemirror_mode": {
    "name": "ipython",
    "version": 2
   },
   "file_extension": ".py",
   "mimetype": "text/x-python",
   "name": "python",
   "nbconvert_exporter": "python",
   "pygments_lexer": "ipython2",
   "version": "2.7.6"
  }
 },
 "nbformat": 4,
 "nbformat_minor": 0
}
