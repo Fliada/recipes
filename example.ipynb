{
 "cells": [
  {
   "cell_type": "code",
   "execution_count": 1,
   "metadata": {
    "collapsed": true,
    "ExecuteTime": {
     "end_time": "2023-07-02T13:56:37.962853800Z",
     "start_time": "2023-07-02T13:56:37.574911200Z"
    }
   },
   "outputs": [],
   "source": [
    "import requests\n",
    "from bs4 import BeautifulSoup\n",
    "import sqlite3\n",
    "import re\n",
    "import time\n",
    "from selenium import webdriver\n",
    "from selenium.webdriver.common.by import By\n",
    "from selenium.webdriver.chrome.options import Options\n",
    "from selenium.webdriver import Keys\n",
    "from selenium.webdriver.support import expected_conditions as EC\n",
    "from selenium.webdriver.support.ui import WebDriverWait\n",
    "from selenium.webdriver.common.action_chains import ActionChains\n",
    "from selenium.webdriver.common.by import By\n",
    "from selenium.webdriver.support.ui import WebDriverWait\n",
    "from selenium.webdriver.support import expected_conditions as EC"
   ]
  },
  {
   "cell_type": "code",
   "execution_count": 2,
   "outputs": [],
   "source": [
    "from bs4 import BeautifulSoup\n",
    "import re\n",
    "from uuid import uuid4"
   ],
   "metadata": {
    "collapsed": false,
    "ExecuteTime": {
     "end_time": "2023-07-02T13:56:37.966871300Z",
     "start_time": "2023-07-02T13:56:37.963864900Z"
    }
   }
  },
  {
   "cell_type": "code",
   "execution_count": 3,
   "outputs": [],
   "source": [
    "class Crawler:\n",
    "\n",
    "    def get_html(self):\n",
    "        pass\n",
    "\n",
    "    def get_card_info(self):\n",
    "        pass\n",
    "\n",
    "    def get_links(self, page):\n",
    "        pass"
   ],
   "metadata": {
    "collapsed": false,
    "ExecuteTime": {
     "end_time": "2023-07-02T13:56:37.981395Z",
     "start_time": "2023-07-02T13:56:37.965871200Z"
    }
   }
  },
  {
   "cell_type": "code",
   "execution_count": 41,
   "outputs": [],
   "source": [
    "class CrawlerEda(Crawler):\n",
    "\n",
    "    def get_html(self, page):\n",
    "        chrome_options = Options()\n",
    "        chrome_options.add_argument(\"--disable-extensions\")\n",
    "        chrome_options.add_argument(\"--disable-popup-blocking\")\n",
    "\n",
    "        browser = webdriver.Chrome(options=chrome_options)\n",
    "        url = f\"https://eda.ru/recepty?page={page}\"\n",
    "        #browser.implicitly_wait(30)\n",
    "        browser.get(url)\n",
    "        wait = WebDriverWait(browser, 10)\n",
    "        soup = BeautifulSoup(browser.page_source, 'html.parser')\n",
    "        return soup\n",
    "\n",
    "    def get_card_info(self, link):\n",
    "        chrome_options = Options()\n",
    "        chrome_options.add_argument(\"--disable-extensions\")\n",
    "        chrome_options.add_argument(\"--disable-popup-blocking\")\n",
    "\n",
    "        browser = webdriver.Chrome(options=chrome_options)\n",
    "        action = ActionChains(browser)\n",
    "        count = 0\n",
    "\n",
    "        #linker = linkers[number]['link']\n",
    "        #browser.get(linker)\n",
    "        browser.get(link)\n",
    "\n",
    "        wait = WebDriverWait(browser, 10)\n",
    "        browser.implicitly_wait(30)\n",
    "\n",
    "        soup_card = BeautifulSoup(browser.page_source, 'html.parser')\n",
    "        return soup_card\n",
    "\n",
    "    def get_soup(self, url):\n",
    "        return BeautifulSoup(requests.get(url).text, \"html.parser\")\n",
    "\n",
    "    def get_links(self,first_page, last_page):\n",
    "        links = []\n",
    "        for i in range(first_page, last_page):\n",
    "            html = CrawlerEda().get_html(i)\n",
    "            links.extend(ParserEda(html).get_cards())\n",
    "            #print(links)\n",
    "        return links"
   ],
   "metadata": {
    "collapsed": false,
    "ExecuteTime": {
     "end_time": "2023-07-02T14:25:33.635663100Z",
     "start_time": "2023-07-02T14:25:33.628714900Z"
    }
   }
  },
  {
   "cell_type": "code",
   "execution_count": 5,
   "outputs": [],
   "source": [
    "class Parser:\n",
    "\n",
    "    def __init__(self, html):\n",
    "        self.html = html\n",
    "\n",
    "    def get_cards(self):\n",
    "        pass\n",
    "\n",
    "    def __get_ingredients(self):\n",
    "        pass\n",
    "\n",
    "    def __get_calories(self):\n",
    "        pass\n",
    "\n",
    "    def __get_manual(self):\n",
    "        pass\n",
    "\n",
    "    def __get_category(self):\n",
    "        pass\n",
    "\n",
    "    def get_recipe(self):\n",
    "        pass"
   ],
   "metadata": {
    "collapsed": false,
    "ExecuteTime": {
     "end_time": "2023-07-02T13:56:38.025027800Z",
     "start_time": "2023-07-02T13:56:38.000455700Z"
    }
   }
  },
  {
   "cell_type": "code",
   "execution_count": 137,
   "outputs": [],
   "source": [
    "class ParserEda(Parser):\n",
    "\n",
    "    def get_cards(self):\n",
    "        linkers = []\n",
    "        for recipe in self.html.findAll('div', class_='emotion-1f6ych6'):\n",
    "            try:\n",
    "                link = \"https://eda.ru\"+recipe.find('a', class_='emotion-12sjte8').get('href')\n",
    "                photo = str(recipe.find('img', class_='emotion-1bi124x').get('src')).replace('c180x180', 'c500x500')\n",
    "                #print(link)\n",
    "                #print(photo)\n",
    "                linkers.append(Link(link, photo))\n",
    "            except AttributeError:\n",
    "                print(\"There's no item with that code\")\n",
    "        #print(len(linkers))\n",
    "        return linkers\n",
    "\n",
    "    def get_recipe(self):\n",
    "        print(\"get_recipe\")\n",
    "\n",
    "        parser = ParserEda(self.html)\n",
    "        card = self.html.find('div', class_='emotion-2k9cfu')\n",
    "\n",
    "        name_dish = card.find('div', class_='emotion-19rdt1j').find('h1', class_='emotion-gl52ge').text\n",
    "        print(name_dish)\n",
    "\n",
    "        count_portion = str(re.sub(r'\\bпорц[ий|ия|ии]*\\b', '', card.find('div', class_='emotion-1047m5l').text).strip())\n",
    "        cook_time = card.find('div', class_='emotion-18q6z5o').find('div', class_='emotion-my9yfq').text\n",
    "        print(cook_time)\n",
    "\n",
    "        manual = parser.__get_manual()\n",
    "\n",
    "        recipe = Recipe(name_dish, count_portion, cook_time, manual)\n",
    "\n",
    "        #time.sleep(2)\n",
    "\n",
    "        helper = DBHelper()\n",
    "        helper.create_table_simple('recipe', ['name_dish', 'count_portion', 'cook_time', 'manual'])\n",
    "        helper.insert('recipe', ['name_dish', 'count_portion', 'cook_time', 'manual'],\n",
    "                                [recipe.name, recipe.count_portion, recipe.cook_time, recipe.manual ])\n",
    "\n",
    "        #self, table_name, column_args, arg\n",
    "        #находим айдишник нужного рецепта\n",
    "        recipe_ = helper.get('recipe', ['name_dish', 'count_portion'], [name_dish, count_portion])\n",
    "        id_ = recipe_[0][0]\n",
    "\n",
    "        categories = parser.__get_categories(id_)\n",
    "\n",
    "        ingredients = parser.__get_ingredients(id_)\n",
    "\n",
    "        calories = parser.__get_calories(id_)\n",
    "\n",
    "        #name_dish, count_portion, cook_time, ingredients, categories, manual\n",
    "\n",
    "    #autoincrement\n",
    "    def __get_ingredients(self, id):\n",
    "        all_ingredients = {}\n",
    "        name_ingredients = []\n",
    "\n",
    "        for ing in self.html.findAll('div', class_='emotion-bjn8wh'):\n",
    "            name_ingredients.append(ing.text)\n",
    "\n",
    "        for i in range (len(name_ingredients)):\n",
    "            all_ingredients[name_ingredients[i]] = self.html.findAll('span', class_='emotion-bsdd3p')[i].text\n",
    "\n",
    "        helper = DBHelper()\n",
    "        helper.create_table_simple('ingredient', ['name_ingr']) #autoincrement\n",
    "        #table_name, primary_key, foreign_table_name, foreign_col, another_foreign_col, params\n",
    "        helper.create_table('recipe_ingredients', 'id', 'recipe', 'recipe_id', 'id', ['recipe_id', 'ingr_id', 'count'], True) #\n",
    "\n",
    "        for name in name_ingredients:\n",
    "            helper.insert('ingredient', ['name_ingr'], [name])\n",
    "\n",
    "        for i in range (len(name_ingredients)):\n",
    "            #self, table_name, column_args, args\n",
    "            ingr_ = helper.get('ingredient', ['name_ingr'], [name_ingredients[i]])\n",
    "            helper.insert('recipe_ingredients', ['recipe_id', 'ingr_id', 'count'], [id, ingr_[0][0], all_ingredients[ingr_[0][1]]])\n",
    "\n",
    "        return all_ingredients\n",
    "\n",
    "    #autoincrement\n",
    "    def __get_categories(self, id):\n",
    "        categories = []\n",
    "\n",
    "        #дурацкие категории\n",
    "        bad_categories = ['Главная', 'Проверено «Едой»', 'Пошаговые рецепты', 'Видеорецепты', 'Рецепты с историей']\n",
    "\n",
    "        for category in self.html.find('div', class_='emotion-fq1t0q').findAll('span', class_='emotion-1h6i17m'):\n",
    "            if category.text not in bad_categories:\n",
    "                categories.append(category.text)\n",
    "\n",
    "        #связка с бд, возможно уберу\n",
    "        helper = DBHelper()\n",
    "        helper.create_table_simple('category', ['name_cat'])\n",
    "        helper.create_table('recipe_categories', 'id', 'recipe', 'recipe_id', 'id', ['recipe_id', 'cat_id'], True)\n",
    "\n",
    "        for category in categories:\n",
    "            helper.insert('category', ['name_cat'], [category])\n",
    "            helper.insert('recipe_categories', ['recipe_id', 'cat_id'], [id, category])\n",
    "\n",
    "        return categories\n",
    "\n",
    "    #\n",
    "    def __get_calories(self, id):\n",
    "        calories = []\n",
    "\n",
    "        for j in range(4):\n",
    "            calories.append(self.html.findAll('div', class_='emotion-8fp9e2')[j].text)\n",
    "\n",
    "        #связка с бд, возможно уберу\n",
    "        helper = DBHelper()\n",
    "        #self, table_name, primary_key, foreign_table_name, foreign_col, another_foreign_col, params\n",
    "        helper.create_table('calories', 'recipe_id', 'recipe', 'recipe_id', 'id', ['calories', 'proteins', 'fats', 'carbohydrates'])\n",
    "        helper.insert_check('calories', 'recipe_id', id, calories)\n",
    "\n",
    "        return Calories(calories[0], calories[1], calories[2], calories[3])\n",
    "\n",
    "    def __get_manual(self):\n",
    "        manual = ''\n",
    "\n",
    "        for point in self.html.findAll('span', class_='emotion-1dvddtv'):\n",
    "            manual += point.text.replace(u'\\xa0', u' ') + '\\n' + '\\n'\n",
    "\n",
    "        return manual"
   ],
   "metadata": {
    "collapsed": false,
    "ExecuteTime": {
     "end_time": "2023-07-02T16:47:08.409323400Z",
     "start_time": "2023-07-02T16:47:08.375868600Z"
    }
   }
  },
  {
   "cell_type": "code",
   "execution_count": 133,
   "outputs": [],
   "source": [
    "class Recipe:\n",
    "    def __init__(self, name_dish, count_portion, cook_time, manual):\n",
    "        self.name = name_dish\n",
    "        self.count_portion = count_portion\n",
    "        self.cook_time = cook_time\n",
    "        self.manual = manual"
   ],
   "metadata": {
    "collapsed": false,
    "ExecuteTime": {
     "end_time": "2023-07-02T16:45:12.981335300Z",
     "start_time": "2023-07-02T16:45:12.972284300Z"
    }
   }
  },
  {
   "cell_type": "code",
   "execution_count": 8,
   "outputs": [],
   "source": [
    "class Category:\n",
    "    def __init__(self, name_cat):\n",
    "        self.name = name_cat"
   ],
   "metadata": {
    "collapsed": false,
    "ExecuteTime": {
     "end_time": "2023-07-02T13:56:38.077915200Z",
     "start_time": "2023-07-02T13:56:38.064393700Z"
    }
   }
  },
  {
   "cell_type": "code",
   "execution_count": 9,
   "outputs": [],
   "source": [
    "class Ingredient:\n",
    "    def __init__(self, name_ingr):\n",
    "        self.name = name_ingr"
   ],
   "metadata": {
    "collapsed": false,
    "ExecuteTime": {
     "end_time": "2023-07-02T13:56:38.094961600Z",
     "start_time": "2023-07-02T13:56:38.079918700Z"
    }
   }
  },
  {
   "cell_type": "code",
   "execution_count": 10,
   "outputs": [],
   "source": [
    "class Calories: #можно взять по айдишнику рецепта\n",
    "    def __init__(self, calories, proteins, fats, carbohydrates):\n",
    "        self.calories = calories\n",
    "        self.proteins = proteins\n",
    "        self.fats = fats\n",
    "        self.carbohydrates = carbohydrates"
   ],
   "metadata": {
    "collapsed": false,
    "ExecuteTime": {
     "end_time": "2023-07-02T13:56:38.128695500Z",
     "start_time": "2023-07-02T13:56:38.096964300Z"
    }
   }
  },
  {
   "cell_type": "code",
   "execution_count": 11,
   "outputs": [],
   "source": [
    "class Link:\n",
    "    def __init__(self, link, photo):\n",
    "        self.link = link\n",
    "        self.photo = photo"
   ],
   "metadata": {
    "collapsed": false,
    "ExecuteTime": {
     "end_time": "2023-07-02T13:56:38.128695500Z",
     "start_time": "2023-07-02T13:56:38.115522400Z"
    }
   }
  },
  {
   "cell_type": "code",
   "execution_count": 127,
   "outputs": [],
   "source": [
    "class DBHelper:\n",
    "\n",
    "    def __init__(self, db_name = \"recipe.db\"):\n",
    "        self.dbname = f\"sqlite3:/{db_name}\"\n",
    "        self.conn = sqlite3.connect(db_name)\n",
    "\n",
    "    #for link, recipe, ingredient and category\n",
    "    def create_table_simple(self, table_name, params):\n",
    "        column = \"\"\n",
    "        for i in range(len(params) - 1):\n",
    "            column += params[i] + \" TEXT, \"\n",
    "        column += params[len(params) - 1] + \" TEXT \"\n",
    "\n",
    "        new_table = f\"CREATE TABLE IF NOT EXISTS {table_name} (id INTEGER PRIMARY KEY AUTOINCREMENT , {column})\"\n",
    "        print(new_table)\n",
    "        self.conn.execute(new_table)\n",
    "\n",
    "        print(\"Выполнилось\")\n",
    "\n",
    "        self.conn.commit()\n",
    "\n",
    "    #for calories and recipe_ingredients\n",
    "    def create_table(self, table_name, primary_key, foreign_table_name, foreign_col, another_foreign_col, params, auto = False):\n",
    "        column = \"\"\n",
    "        for i in range(len(params) - 1):\n",
    "            column += params[i] + \" TEXT, \"\n",
    "        column += params[len(params)-1] + \" TEXT \"\n",
    "\n",
    "        foreign_key = f\"FOREIGN KEY ({foreign_col})  REFERENCES {foreign_table_name} ({another_foreign_col})\"\n",
    "\n",
    "        new_table = f\"CREATE TABLE IF NOT EXISTS {table_name} ({primary_key} INTEGER PRIMARY KEY {('', 'AUTOINCREMENT')[auto == True]} , {column}, {foreign_key})\"\n",
    "        self.conn.execute(new_table)\n",
    "\n",
    "        print(\"Выполнилось\")\n",
    "\n",
    "        self.conn.commit()\n",
    "\n",
    "    def insert_check(self, table_name, primary_key, primary_value, args):\n",
    "        arguments = f\"'{primary_value}', '\"\n",
    "        for i in range(len(args) - 1):\n",
    "            arguments += str(args[i]) + \"', '\"\n",
    "        arguments += str(args[len(args) - 1]) + \"'\"\n",
    "        #print(arguments)\n",
    "\n",
    "        new_insert = f\"INSERT INTO {table_name} SELECT * FROM (SELECT {arguments}) AS tmp \" \\\n",
    "                     f\"WHERE NOT EXISTS ( SELECT {primary_key} FROM {table_name} WHERE {primary_key} = '{primary_value}'\" \\\n",
    "                     f\") LIMIT 1\"\n",
    "        self.conn.execute(new_insert)\n",
    "\n",
    "        print(\"Выполнилось\")\n",
    "\n",
    "        self.conn.commit()\n",
    "\n",
    "    def insert(self, table_name, column_args, args):\n",
    "        arguments = \"'\"\n",
    "        for i in range(len(args) - 1):\n",
    "            arguments += str(args[i]) + \"', '\"\n",
    "        arguments += str(args[len(args) - 1]) + \"'\"\n",
    "        #print(arguments)\n",
    "\n",
    "        columns = \"\"\n",
    "        for i in range(len(column_args) - 1):\n",
    "            columns += str(column_args[i]) + \", \"\n",
    "        columns += str(column_args[len(column_args) - 1])\n",
    "\n",
    "        new_insert = f\"INSERT INTO {table_name} ({columns}) VALUES ({arguments})\"\n",
    "        print(new_insert)\n",
    "\n",
    "        #try:\n",
    "        self.conn.execute(new_insert)\n",
    "\n",
    "        print(\"Выполнилось\")\n",
    "\n",
    "        self.conn.commit()\n",
    "        #except\n",
    "\n",
    "    def print_info(self, table_name):\n",
    "        new_get = f\"SELECT * FROM {table_name}\"\n",
    "        cursor = self.conn.execute(new_get)\n",
    "\n",
    "        print(\"Выполнилось\")\n",
    "\n",
    "        return [row for row in cursor]\n",
    "\n",
    "    def get(self, table_name, column_args, args):\n",
    "        query = \"\"\n",
    "        for i in range(len(column_args) - 1):\n",
    "            query += column_args[i] + \" = '\" + args[i] + \"' AND \"\n",
    "            print(query)\n",
    "        query += column_args[len(column_args) - 1] + \" = '\" + args[len(column_args) - 1] + \"'\"\n",
    "\n",
    "        new_get = f\"SELECT * FROM {table_name} WHERE {query}\"\n",
    "        cursor = self.conn.execute(new_get)\n",
    "\n",
    "        print(\"Выполнилось\")\n",
    "\n",
    "        return [row for row in cursor]\n",
    "\n",
    "    #def update(self, flat_id, updates):\n",
    "\n",
    "\n",
    "    #def delete(self, flat_id):\n"
   ],
   "metadata": {
    "collapsed": false,
    "ExecuteTime": {
     "end_time": "2023-07-02T16:25:35.036494100Z",
     "start_time": "2023-07-02T16:25:35.017412100Z"
    }
   }
  },
  {
   "cell_type": "code",
   "execution_count": 13,
   "outputs": [
    {
     "ename": "NoSuchWindowException",
     "evalue": "Message: no such window: target window already closed\nfrom unknown error: web view not found\n  (Session info: chrome=114.0.5735.199)\nStacktrace:\nBacktrace:\n\tGetHandleVerifier [0x00B6A813+48355]\n\t(No symbol) [0x00AFC4B1]\n\t(No symbol) [0x00A05358]\n\t(No symbol) [0x009ED293]\n\t(No symbol) [0x00A4E37B]\n\t(No symbol) [0x00A5C473]\n\t(No symbol) [0x00A4A536]\n\t(No symbol) [0x00A282DC]\n\t(No symbol) [0x00A293DD]\n\tGetHandleVerifier [0x00DCAABD+2539405]\n\tGetHandleVerifier [0x00E0A78F+2800735]\n\tGetHandleVerifier [0x00E0456C+2775612]\n\tGetHandleVerifier [0x00BF51E0+616112]\n\t(No symbol) [0x00B05F8C]\n\t(No symbol) [0x00B02328]\n\t(No symbol) [0x00B0240B]\n\t(No symbol) [0x00AF4FF7]\n\tBaseThreadInitThunk [0x76277D59+25]\n\tRtlInitializeExceptionChain [0x77E9B74B+107]\n\tRtlClearBits [0x77E9B6CF+191]\n",
     "output_type": "error",
     "traceback": [
      "\u001B[1;31m---------------------------------------------------------------------------\u001B[0m",
      "\u001B[1;31mNoSuchWindowException\u001B[0m                     Traceback (most recent call last)",
      "Cell \u001B[1;32mIn[13], line 1\u001B[0m\n\u001B[1;32m----> 1\u001B[0m linkers \u001B[38;5;241m=\u001B[39m \u001B[43mCrawlerEda\u001B[49m\u001B[43m(\u001B[49m\u001B[43m)\u001B[49m\u001B[38;5;241;43m.\u001B[39;49m\u001B[43mget_links\u001B[49m\u001B[43m(\u001B[49m\u001B[38;5;241;43m1\u001B[39;49m\u001B[43m,\u001B[49m\u001B[43m \u001B[49m\u001B[38;5;241;43m5\u001B[39;49m\u001B[43m)\u001B[49m\n\u001B[0;32m      2\u001B[0m \u001B[38;5;28mprint\u001B[39m(\u001B[38;5;28mlen\u001B[39m(linkers))\n\u001B[0;32m      3\u001B[0m \u001B[38;5;28;01mfor\u001B[39;00m i \u001B[38;5;129;01min\u001B[39;00m linkers:\n",
      "Cell \u001B[1;32mIn[4], line 37\u001B[0m, in \u001B[0;36mCrawlerEda.get_links\u001B[1;34m(self, first_page, last_page)\u001B[0m\n\u001B[0;32m     35\u001B[0m links \u001B[38;5;241m=\u001B[39m []\n\u001B[0;32m     36\u001B[0m \u001B[38;5;28;01mfor\u001B[39;00m i \u001B[38;5;129;01min\u001B[39;00m \u001B[38;5;28mrange\u001B[39m(first_page, last_page):\n\u001B[1;32m---> 37\u001B[0m     html \u001B[38;5;241m=\u001B[39m \u001B[43mCrawlerEda\u001B[49m\u001B[43m(\u001B[49m\u001B[43m)\u001B[49m\u001B[38;5;241;43m.\u001B[39;49m\u001B[43mget_html\u001B[49m\u001B[43m(\u001B[49m\u001B[43mi\u001B[49m\u001B[43m)\u001B[49m\n\u001B[0;32m     38\u001B[0m     links\u001B[38;5;241m.\u001B[39mextend(ParserEda(html)\u001B[38;5;241m.\u001B[39mget_cards())\n\u001B[0;32m     39\u001B[0m     \u001B[38;5;66;03m#print(links)\u001B[39;00m\n",
      "Cell \u001B[1;32mIn[4], line 13\u001B[0m, in \u001B[0;36mCrawlerEda.get_html\u001B[1;34m(self, page)\u001B[0m\n\u001B[0;32m     11\u001B[0m browser\u001B[38;5;241m.\u001B[39mget(url)\n\u001B[0;32m     12\u001B[0m wait \u001B[38;5;241m=\u001B[39m WebDriverWait(browser, \u001B[38;5;241m10\u001B[39m)\n\u001B[1;32m---> 13\u001B[0m soup \u001B[38;5;241m=\u001B[39m BeautifulSoup(\u001B[43mbrowser\u001B[49m\u001B[38;5;241;43m.\u001B[39;49m\u001B[43mpage_source\u001B[49m, \u001B[38;5;124m'\u001B[39m\u001B[38;5;124mhtml.parser\u001B[39m\u001B[38;5;124m'\u001B[39m)\n\u001B[0;32m     14\u001B[0m \u001B[38;5;28;01mreturn\u001B[39;00m soup\n",
      "File \u001B[1;32m~\\AppData\\Local\\Programs\\Python\\Python39\\lib\\site-packages\\selenium\\webdriver\\remote\\webdriver.py:447\u001B[0m, in \u001B[0;36mWebDriver.page_source\u001B[1;34m(self)\u001B[0m\n\u001B[0;32m    438\u001B[0m \u001B[38;5;129m@property\u001B[39m\n\u001B[0;32m    439\u001B[0m \u001B[38;5;28;01mdef\u001B[39;00m \u001B[38;5;21mpage_source\u001B[39m(\u001B[38;5;28mself\u001B[39m) \u001B[38;5;241m-\u001B[39m\u001B[38;5;241m>\u001B[39m \u001B[38;5;28mstr\u001B[39m:\n\u001B[0;32m    440\u001B[0m \u001B[38;5;250m    \u001B[39m\u001B[38;5;124;03m\"\"\"Gets the source of the current page.\u001B[39;00m\n\u001B[0;32m    441\u001B[0m \n\u001B[0;32m    442\u001B[0m \u001B[38;5;124;03m    :Usage:\u001B[39;00m\n\u001B[1;32m   (...)\u001B[0m\n\u001B[0;32m    445\u001B[0m \u001B[38;5;124;03m            driver.page_source\u001B[39;00m\n\u001B[0;32m    446\u001B[0m \u001B[38;5;124;03m    \"\"\"\u001B[39;00m\n\u001B[1;32m--> 447\u001B[0m     \u001B[38;5;28;01mreturn\u001B[39;00m \u001B[38;5;28;43mself\u001B[39;49m\u001B[38;5;241;43m.\u001B[39;49m\u001B[43mexecute\u001B[49m\u001B[43m(\u001B[49m\u001B[43mCommand\u001B[49m\u001B[38;5;241;43m.\u001B[39;49m\u001B[43mGET_PAGE_SOURCE\u001B[49m\u001B[43m)\u001B[49m[\u001B[38;5;124m\"\u001B[39m\u001B[38;5;124mvalue\u001B[39m\u001B[38;5;124m\"\u001B[39m]\n",
      "File \u001B[1;32m~\\AppData\\Local\\Programs\\Python\\Python39\\lib\\site-packages\\selenium\\webdriver\\remote\\webdriver.py:346\u001B[0m, in \u001B[0;36mWebDriver.execute\u001B[1;34m(self, driver_command, params)\u001B[0m\n\u001B[0;32m    344\u001B[0m response \u001B[38;5;241m=\u001B[39m \u001B[38;5;28mself\u001B[39m\u001B[38;5;241m.\u001B[39mcommand_executor\u001B[38;5;241m.\u001B[39mexecute(driver_command, params)\n\u001B[0;32m    345\u001B[0m \u001B[38;5;28;01mif\u001B[39;00m response:\n\u001B[1;32m--> 346\u001B[0m     \u001B[38;5;28;43mself\u001B[39;49m\u001B[38;5;241;43m.\u001B[39;49m\u001B[43merror_handler\u001B[49m\u001B[38;5;241;43m.\u001B[39;49m\u001B[43mcheck_response\u001B[49m\u001B[43m(\u001B[49m\u001B[43mresponse\u001B[49m\u001B[43m)\u001B[49m\n\u001B[0;32m    347\u001B[0m     response[\u001B[38;5;124m\"\u001B[39m\u001B[38;5;124mvalue\u001B[39m\u001B[38;5;124m\"\u001B[39m] \u001B[38;5;241m=\u001B[39m \u001B[38;5;28mself\u001B[39m\u001B[38;5;241m.\u001B[39m_unwrap_value(response\u001B[38;5;241m.\u001B[39mget(\u001B[38;5;124m\"\u001B[39m\u001B[38;5;124mvalue\u001B[39m\u001B[38;5;124m\"\u001B[39m, \u001B[38;5;28;01mNone\u001B[39;00m))\n\u001B[0;32m    348\u001B[0m     \u001B[38;5;28;01mreturn\u001B[39;00m response\n",
      "File \u001B[1;32m~\\AppData\\Local\\Programs\\Python\\Python39\\lib\\site-packages\\selenium\\webdriver\\remote\\errorhandler.py:245\u001B[0m, in \u001B[0;36mErrorHandler.check_response\u001B[1;34m(self, response)\u001B[0m\n\u001B[0;32m    243\u001B[0m         alert_text \u001B[38;5;241m=\u001B[39m value[\u001B[38;5;124m\"\u001B[39m\u001B[38;5;124malert\u001B[39m\u001B[38;5;124m\"\u001B[39m]\u001B[38;5;241m.\u001B[39mget(\u001B[38;5;124m\"\u001B[39m\u001B[38;5;124mtext\u001B[39m\u001B[38;5;124m\"\u001B[39m)\n\u001B[0;32m    244\u001B[0m     \u001B[38;5;28;01mraise\u001B[39;00m exception_class(message, screen, stacktrace, alert_text)  \u001B[38;5;66;03m# type: ignore[call-arg]  # mypy is not smart enough here\u001B[39;00m\n\u001B[1;32m--> 245\u001B[0m \u001B[38;5;28;01mraise\u001B[39;00m exception_class(message, screen, stacktrace)\n",
      "\u001B[1;31mNoSuchWindowException\u001B[0m: Message: no such window: target window already closed\nfrom unknown error: web view not found\n  (Session info: chrome=114.0.5735.199)\nStacktrace:\nBacktrace:\n\tGetHandleVerifier [0x00B6A813+48355]\n\t(No symbol) [0x00AFC4B1]\n\t(No symbol) [0x00A05358]\n\t(No symbol) [0x009ED293]\n\t(No symbol) [0x00A4E37B]\n\t(No symbol) [0x00A5C473]\n\t(No symbol) [0x00A4A536]\n\t(No symbol) [0x00A282DC]\n\t(No symbol) [0x00A293DD]\n\tGetHandleVerifier [0x00DCAABD+2539405]\n\tGetHandleVerifier [0x00E0A78F+2800735]\n\tGetHandleVerifier [0x00E0456C+2775612]\n\tGetHandleVerifier [0x00BF51E0+616112]\n\t(No symbol) [0x00B05F8C]\n\t(No symbol) [0x00B02328]\n\t(No symbol) [0x00B0240B]\n\t(No symbol) [0x00AF4FF7]\n\tBaseThreadInitThunk [0x76277D59+25]\n\tRtlInitializeExceptionChain [0x77E9B74B+107]\n\tRtlClearBits [0x77E9B6CF+191]\n"
     ]
    }
   ],
   "source": [
    "linkers = CrawlerEda().get_links(1, 5)\n",
    "print(len(linkers))\n",
    "for i in linkers:\n",
    "    print(i.id, i.link, i.photo)"
   ],
   "metadata": {
    "collapsed": false,
    "ExecuteTime": {
     "end_time": "2023-07-02T13:56:43.562307200Z",
     "start_time": "2023-07-02T13:56:38.157775400Z"
    }
   }
  },
  {
   "cell_type": "code",
   "execution_count": null,
   "outputs": [],
   "source": [
    "DBHelper(\"recipe.db\").create_table(\"link\", [\"link\", \"photo\"])"
   ],
   "metadata": {
    "collapsed": false
   }
  },
  {
   "cell_type": "code",
   "execution_count": null,
   "outputs": [],
   "source": [
    "DBHelper(\"recipe.db\").print_info(\"link\")"
   ],
   "metadata": {
    "collapsed": false
   }
  },
  {
   "cell_type": "code",
   "execution_count": null,
   "outputs": [],
   "source": [
    "for j in range(1):\n",
    "    linkers = CrawlerEda().get_links(700, 1000)\n",
    "    print(len(linkers))\n",
    "    for i in linkers:\n",
    "        DBHelper().insert(\"link\", \"id\", i.id, [i.link, i.photo])"
   ],
   "metadata": {
    "collapsed": false
   }
  },
  {
   "cell_type": "code",
   "execution_count": 138,
   "outputs": [
    {
     "name": "stdout",
     "output_type": "stream",
     "text": [
      "get_recipe\n",
      "Завтрак Словенский\n",
      "25 минут\n",
      "CREATE TABLE IF NOT EXISTS recipe (id INTEGER PRIMARY KEY AUTOINCREMENT , name_dish TEXT, count_portion TEXT, cook_time TEXT, manual TEXT )\n",
      "Выполнилось\n",
      "INSERT INTO recipe (name_dish, count_portion, cook_time, manual) VALUES ('Завтрак Словенский', '1', '25 минут', 'Колбаску обжариваем на гриле\n",
      "\n",
      "Картофель обжариваем во фритюре\n",
      "\n",
      "Яйцо жарим в яичницу\n",
      "\n",
      "Из самуна, обжаренного бекона, сыра, кетчупа и горчицы делаем тост.\n",
      "\n",
      "')\n",
      "Выполнилось\n",
      "name_dish = 'Завтрак Словенский' AND \n",
      "Выполнилось\n",
      "CREATE TABLE IF NOT EXISTS category (id INTEGER PRIMARY KEY AUTOINCREMENT , name_cat TEXT )\n",
      "Выполнилось\n",
      "Выполнилось\n",
      "INSERT INTO category (name_cat) VALUES ('Завтраки')\n",
      "Выполнилось\n",
      "INSERT INTO recipe_categories (recipe_id, cat_id) VALUES ('1', 'Завтраки')\n",
      "Выполнилось\n",
      "INSERT INTO category (name_cat) VALUES ('Югославская кухня')\n",
      "Выполнилось\n",
      "INSERT INTO recipe_categories (recipe_id, cat_id) VALUES ('1', 'Югославская кухня')\n",
      "Выполнилось\n",
      "CREATE TABLE IF NOT EXISTS ingredient (id INTEGER PRIMARY KEY AUTOINCREMENT , name_ingr TEXT )\n",
      "Выполнилось\n",
      "Выполнилось\n",
      "INSERT INTO ingredient (name_ingr) VALUES ('Бекон')\n",
      "Выполнилось\n",
      "INSERT INTO ingredient (name_ingr) VALUES ('Сыр гауда')\n",
      "Выполнилось\n",
      "INSERT INTO ingredient (name_ingr) VALUES ('Куриное яйцо')\n",
      "Выполнилось\n",
      "INSERT INTO ingredient (name_ingr) VALUES ('Горчица')\n",
      "Выполнилось\n",
      "INSERT INTO ingredient (name_ingr) VALUES ('Кетчуп')\n",
      "Выполнилось\n",
      "INSERT INTO ingredient (name_ingr) VALUES ('Растительное масло')\n",
      "Выполнилось\n",
      "INSERT INTO ingredient (name_ingr) VALUES ('Картофель фри')\n",
      "Выполнилось\n",
      "INSERT INTO ingredient (name_ingr) VALUES ('Булочка')\n",
      "Выполнилось\n",
      "INSERT INTO ingredient (name_ingr) VALUES ('Колбаски')\n",
      "Выполнилось\n",
      "Выполнилось\n",
      "INSERT INTO recipe_ingredients (recipe_id, ingr_id, count) VALUES ('1', '1', '50 г')\n",
      "Выполнилось\n",
      "Выполнилось\n",
      "INSERT INTO recipe_ingredients (recipe_id, ingr_id, count) VALUES ('1', '2', '25 г')\n",
      "Выполнилось\n",
      "Выполнилось\n",
      "INSERT INTO recipe_ingredients (recipe_id, ingr_id, count) VALUES ('1', '3', '6 штук')\n",
      "Выполнилось\n",
      "Выполнилось\n",
      "INSERT INTO recipe_ingredients (recipe_id, ingr_id, count) VALUES ('1', '4', '10 г')\n",
      "Выполнилось\n",
      "Выполнилось\n",
      "INSERT INTO recipe_ingredients (recipe_id, ingr_id, count) VALUES ('1', '5', '20 г')\n",
      "Выполнилось\n",
      "Выполнилось\n",
      "INSERT INTO recipe_ingredients (recipe_id, ingr_id, count) VALUES ('1', '6', '50 мл')\n",
      "Выполнилось\n",
      "Выполнилось\n",
      "INSERT INTO recipe_ingredients (recipe_id, ingr_id, count) VALUES ('1', '7', '100 г')\n",
      "Выполнилось\n",
      "Выполнилось\n",
      "INSERT INTO recipe_ingredients (recipe_id, ingr_id, count) VALUES ('1', '8', '1 штука')\n",
      "Выполнилось\n",
      "Выполнилось\n",
      "INSERT INTO recipe_ingredients (recipe_id, ingr_id, count) VALUES ('1', '9', '80 г')\n",
      "Выполнилось\n",
      "Выполнилось\n",
      "Выполнилось\n"
     ]
    }
   ],
   "source": [
    "#попытка получить рецепт\n",
    "ParserEda(CrawlerEda().get_card_info('https://eda.ru/recepty/zavtraki/zavtrak-slovenskiy-91513')).get_recipe()"
   ],
   "metadata": {
    "collapsed": false,
    "ExecuteTime": {
     "end_time": "2023-07-02T16:47:43.076848Z",
     "start_time": "2023-07-02T16:47:36.943792500Z"
    }
   }
  }
 ],
 "metadata": {
  "kernelspec": {
   "display_name": "Python 3",
   "language": "python",
   "name": "python3"
  },
  "language_info": {
   "codemirror_mode": {
    "name": "ipython",
    "version": 2
   },
   "file_extension": ".py",
   "mimetype": "text/x-python",
   "name": "python",
   "nbconvert_exporter": "python",
   "pygments_lexer": "ipython2",
   "version": "2.7.6"
  }
 },
 "nbformat": 4,
 "nbformat_minor": 0
}
