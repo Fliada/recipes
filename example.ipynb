{
 "cells": [
  {
   "cell_type": "code",
   "execution_count": 19,
   "metadata": {
    "collapsed": true,
    "ExecuteTime": {
     "end_time": "2023-07-07T08:08:28.369032200Z",
     "start_time": "2023-07-07T08:08:28.066752700Z"
    }
   },
   "outputs": [],
   "source": [
    "import requests\n",
    "from bs4 import BeautifulSoup\n",
    "import sqlite3\n",
    "import re\n",
    "import time\n",
    "from tqdm import tqdm, trange\n",
    "from selenium import webdriver\n",
    "from selenium.webdriver.common.by import By\n",
    "from selenium.webdriver.chrome.options import Options\n",
    "from selenium.webdriver import Keys\n",
    "from selenium.webdriver.support import expected_conditions as EC\n",
    "from selenium.webdriver.support.ui import WebDriverWait\n",
    "from selenium.webdriver.common.action_chains import ActionChains\n",
    "from selenium.webdriver.common.by import By\n",
    "from selenium.webdriver.support.ui import WebDriverWait\n",
    "from selenium.webdriver.support import expected_conditions as EC"
   ]
  },
  {
   "cell_type": "code",
   "execution_count": 20,
   "outputs": [],
   "source": [
    "from bs4 import BeautifulSoup\n",
    "import re\n",
    "from uuid import uuid4"
   ],
   "metadata": {
    "collapsed": false,
    "ExecuteTime": {
     "end_time": "2023-07-07T08:08:28.383997200Z",
     "start_time": "2023-07-07T08:08:28.371027200Z"
    }
   }
  },
  {
   "cell_type": "code",
   "execution_count": 21,
   "outputs": [],
   "source": [
    "class Crawler:\n",
    "\n",
    "    def get_html(self):\n",
    "        pass\n",
    "\n",
    "    def get_card_info(self):\n",
    "        pass\n",
    "\n",
    "    def get_links(self, page):\n",
    "        pass"
   ],
   "metadata": {
    "collapsed": false,
    "ExecuteTime": {
     "end_time": "2023-07-07T08:08:28.415298200Z",
     "start_time": "2023-07-07T08:08:28.384996900Z"
    }
   }
  },
  {
   "cell_type": "code",
   "execution_count": null,
   "outputs": [],
   "source": [
    "class CrawlerEda(Crawler):\n",
    "    def __init__(self):\n",
    "        chrome_options = Options()\n",
    "        chrome_options.add_argument(\"--disable-extensions\")\n",
    "        chrome_options.add_argument(\"--disable-popup-blocking\")\n",
    "        chrome_options.add_argument(\"--headless=new\")\n",
    "\n",
    "        self.browser = webdriver.Chrome(options=chrome_options)\n",
    "\n",
    "    def get_html(self, page):\n",
    "\n",
    "        url = f\"https://eda.ru/recepty?page={page}\"\n",
    "        #browser.implicitly_wait(30)\n",
    "        self.browser.get(url)\n",
    "        wait = WebDriverWait(self.browser, 10)\n",
    "        soup = BeautifulSoup(self.browser.page_source, 'html.parser')\n",
    "        return soup\n",
    "\n",
    "    def get_card_info(self, link):\n",
    "        action = ActionChains(self.browser)\n",
    "        count = 0\n",
    "\n",
    "        #linker = linkers[number]['link']\n",
    "        #browser.get(linker)\n",
    "        self.browser.get(link)\n",
    "\n",
    "        wait = WebDriverWait(self.browser, 10)\n",
    "        self.browser.implicitly_wait(30)\n",
    "\n",
    "        soup_card = BeautifulSoup(self.browser.page_source, 'html.parser')\n",
    "        return soup_card\n",
    "\n",
    "    def get_links(self,first_page, last_page):\n",
    "        links = []\n",
    "        for i in trange(first_page, last_page, ncols=80, desc='Total'):\n",
    "            html = CrawlerEda().get_html(i)\n",
    "            links.extend(ParserEda(html).get_cards())\n",
    "            #print(links)\n",
    "        return links"
   ],
   "metadata": {
    "collapsed": false,
    "ExecuteTime": {
     "start_time": "2023-07-07T08:15:35.561673Z"
    }
   }
  },
  {
   "cell_type": "code",
   "execution_count": 60,
   "outputs": [],
   "source": [
    "class CrawlerPovar(Crawler):\n",
    "    def get_html(self, page):\n",
    "        url = f'https://www.povarenok.ru/recipes/show/{page}/'\n",
    "        '''\n",
    "        chrome_options = Options()\n",
    "        chrome_options.add_argument(\"--disable-extensions\")\n",
    "        chrome_options.add_argument(\"--disable-popup-blocking\")\n",
    "        chrome_options.add_argument(\"--headless=new\")\n",
    "\n",
    "        self.browser = webdriver.Chrome(options=chrome_options)\n",
    "        self.browser.get(url)\n",
    "\n",
    "        wait = WebDriverWait(self.browser, 10)\n",
    "        self.browser.implicitly_wait(30)\n",
    "\n",
    "        soup_card = BeautifulSoup(self.browser.page_source, 'html.parser')\n",
    "        '''\n",
    "        #BeautifulSoup(requests.get(url).text, 'html.parser')\n",
    "        return BeautifulSoup(requests.get(url).text, 'html.parser')\n",
    "\n",
    "    def check_link(self, page):\n",
    "        url = f'https://www.povarenok.ru/recipes/show/{page}/'\n",
    "        html = self.get_html(page)\n",
    "        if html.find('h1', itemprop=\"name\") != None:\n",
    "            photo = html.find('img', itemprop=\"image\").get('src')\n",
    "            page += 1\n",
    "            DBHelper().insert(\"link\", [\"link\", \"photo\"], [url, photo])\n",
    "        return page"
   ],
   "metadata": {
    "collapsed": false,
    "ExecuteTime": {
     "end_time": "2023-07-07T08:41:39.714744500Z",
     "start_time": "2023-07-07T08:41:39.694636800Z"
    }
   }
  },
  {
   "cell_type": "code",
   "execution_count": 24,
   "outputs": [],
   "source": [
    "class Parser:\n",
    "\n",
    "    def __init__(self, html, helper):\n",
    "        helper.generic_create_table('recipe',\n",
    "                    [('id', 'INTEGER')],\n",
    "                    None,\n",
    "                    None,\n",
    "                    ['name_dish'],\n",
    "                    ['count_portion', 'cook_time', 'manual'],\n",
    "                    True)\n",
    "\n",
    "        helper.generic_create_table('ingredient',\n",
    "                    [('id', 'INTEGER')],\n",
    "                    None,\n",
    "                    None,\n",
    "                    ['name_ingr'],\n",
    "                    None,\n",
    "                    True)\n",
    "\n",
    "        #table_name, primary_keys, foreign_keys, references, unique_args, other_args, auto\n",
    "        helper.generic_create_table('recipe_ingredients',\n",
    "                    [('id', 'INTEGER')],\n",
    "                    ['recipe_id', 'ingr_id'],\n",
    "                    [('recipe', 'id'), ('ingredient', 'id')],\n",
    "                    None,\n",
    "                    ['count'],\n",
    "                    True)\n",
    "\n",
    "        helper.generic_create_table('category',\n",
    "                    [('id', 'INTEGER')],\n",
    "                    None,\n",
    "                    None,\n",
    "                    ['name_cat'],\n",
    "                    None,\n",
    "                    True)\n",
    "\n",
    "        #table_name, primary_keys, foreign_keys, references, unique_args, other_args, auto\n",
    "        helper.generic_create_table('recipe_categories',\n",
    "                    [('id', 'INTEGER')],\n",
    "                    ['recipe_id', 'cat_id'],\n",
    "                    [('recipe', 'id'), ('category', 'id')],\n",
    "                    None,\n",
    "                    None,\n",
    "                    True)\n",
    "\n",
    "        helper.get_unique('recipe_categories', 'unique_index_recipe_cat', ['recipe_id', 'cat_id'])\n",
    "\n",
    "        #self, table_name, primary_key, foreign_table_name, foreign_col, another_foreign_col, params\n",
    "        helper.create_table('calories', 'recipe_id', 'recipe', 'recipe_id', 'id', ['calories', 'proteins', 'fats', 'carbohydrates'])\n",
    "\n",
    "        self.html = html\n",
    "\n",
    "    def get_cards(self):\n",
    "        pass\n",
    "\n",
    "    def __get_ingredients(self, id_):\n",
    "        pass\n",
    "\n",
    "    def __get_calories(self, id_):\n",
    "        pass\n",
    "\n",
    "    def __get_manual(self):\n",
    "        pass\n",
    "\n",
    "    def __get_category(self, id_):\n",
    "        pass\n",
    "\n",
    "    def get_recipe(self, id_):\n",
    "        pass"
   ],
   "metadata": {
    "collapsed": false,
    "ExecuteTime": {
     "end_time": "2023-07-07T08:08:28.453400400Z",
     "start_time": "2023-07-07T08:08:28.429873500Z"
    }
   }
  },
  {
   "cell_type": "code",
   "execution_count": 25,
   "outputs": [],
   "source": [
    "class ParserEda(Parser):\n",
    "\n",
    "    def get_cards(self):\n",
    "        linkers = []\n",
    "        for recipe in self.html.findAll('div', class_='emotion-1f6ych6'):\n",
    "            try:\n",
    "                link = \"https://eda.ru\"+recipe.find('a', class_='emotion-12sjte8').get('href')\n",
    "                photo = str(recipe.find('img', class_='emotion-1bi124x').get('src')).replace('c180x180', 'c500x500')\n",
    "                #print(link)\n",
    "                #print(photo)\n",
    "                linkers.append(Link(link, photo))\n",
    "            except AttributeError:\n",
    "                print(\"There's no item with that code\")\n",
    "        #print(len(linkers))\n",
    "        return linkers\n",
    "\n",
    "    def get_recipe(self, id_):\n",
    "        #print(\"get_recipe\")\n",
    "\n",
    "        card = self.html.find('div', class_='emotion-2k9cfu')\n",
    "\n",
    "        name_dish = card.find('div', class_='emotion-19rdt1j').find('h1', class_='emotion-gl52ge').text\n",
    "        #print(name_dish)\n",
    "\n",
    "        count_portion = str(re.sub(r'\\bпорц[ий|ия|ии]*\\b', '', card.find('div', class_='emotion-1047m5l').text).strip())\n",
    "        cook_time = card.find('div', class_='emotion-18q6z5o').find('div', class_='emotion-my9yfq').text\n",
    "        #print(cook_time)\n",
    "\n",
    "        manual = self.__get_manual().replace('\\'', '\\'\\'')\n",
    "\n",
    "        recipe = Recipe(name_dish, count_portion, cook_time, manual)\n",
    "\n",
    "        #time.sleep(2)\n",
    "        #table_name, primary_keys, foreign_keys, references, unique_args, other_args, auto\n",
    "\n",
    "\n",
    "        flag = self.helper.insert('recipe', ['id', 'name_dish', 'count_portion', 'cook_time', 'manual'],\n",
    "                                [id_, recipe.name, recipe.count_portion, recipe.cook_time, recipe.manual ])\n",
    "\n",
    "        #self, table_name, column_args, arg\n",
    "        #находим айдишник нужного рецепта\n",
    "        #recipe_ = helper.get('recipe', ['name_dish', 'count_portion'], [name_dish, count_portion])\n",
    "        #id_ = recipe_[0][0]\n",
    "\n",
    "        if flag:\n",
    "            self.__get_categories(id_)\n",
    "            self.__get_ingredients(id_)\n",
    "            self.__get_calories(id_)\n",
    "\n",
    "        #name_dish, count_portion, cook_time, ingredients, categories, manual\n",
    "\n",
    "    #autoincrement\n",
    "    def __get_ingredients(self, id_):\n",
    "        all_ingredients = {}\n",
    "        name_ingredients = []\n",
    "\n",
    "        for ing in self.html.findAll('div', class_='emotion-bjn8wh'):\n",
    "            name_ingredients.append(ing.text)\n",
    "\n",
    "        for i in range (len(name_ingredients)):\n",
    "            all_ingredients[name_ingredients[i]] = self.html.findAll('span', class_='emotion-bsdd3p')[i].text\n",
    "            #print(all_ingredients[name_ingredients[i]], name_ingredients[i])\n",
    "\n",
    "        self.helper.get_unique('recipe_ingredients', 'unique_index_recipe_ingr', ['recipe_id', 'ingr_id'])\n",
    "\n",
    "        for name in name_ingredients:\n",
    "            self.helper.insert('ingredient', ['name_ingr'], [str(name).replace(\"'\", \"''\")])\n",
    "\n",
    "        for i in range (len(name_ingredients)):\n",
    "            #self, table_name, column_args, args\n",
    "            ingr_ = self.helper.get('ingredient', ['name_ingr'], [str(name_ingredients[i]).replace(\"'\", \"''\")])\n",
    "            self.helper.insert('recipe_ingredients',\n",
    "                          ['recipe_id', 'ingr_id', 'count'],\n",
    "                          [id_, ingr_[0][0],\n",
    "                           all_ingredients[ingr_[0][1]]])\n",
    "\n",
    "        return all_ingredients\n",
    "\n",
    "    #autoincrement\n",
    "    def __get_categories(self, id_):\n",
    "        categories = []\n",
    "\n",
    "        #дурацкие категории\n",
    "        bad_categories = ['Главная', 'Проверено «Едой»', 'Пошаговые рецепты', 'Видеорецепты', 'Рецепты с историей']\n",
    "\n",
    "        for category in self.html.find('div', class_='emotion-fq1t0q').findAll('span', class_='emotion-1h6i17m'):\n",
    "            if category.text not in bad_categories:\n",
    "                categories.append(category.text)\n",
    "\n",
    "\n",
    "        for category in categories:\n",
    "            self.helper.insert('category', ['name_cat'], [category])\n",
    "            self.helper.insert('recipe_categories', ['recipe_id', 'cat_id'],\n",
    "                          [id_, self.helper.get('category', ['name_cat'],\n",
    "                                          [category])[0][0]])\n",
    "\n",
    "        return categories\n",
    "\n",
    "    #\n",
    "    def __get_calories(self, id_):\n",
    "        calories = []\n",
    "\n",
    "        for j in range(4):\n",
    "            calories.append(self.html.findAll('div', class_='emotion-8fp9e2')[j].text)\n",
    "\n",
    "        calories_recipe = Calories(calories[0], calories[1], calories[2], calories[3])\n",
    "\n",
    "        self.helper.insert('calories', ['recipe_id', 'calories', 'proteins', 'fats', 'carbohydrates'], [id_,\n",
    "                          calories_recipe.calories,\n",
    "                          calories_recipe.proteins,\n",
    "                          calories_recipe.fats,\n",
    "                          calories_recipe.carbohydrates])\n",
    "\n",
    "        return calories_recipe\n",
    "\n",
    "    def __get_manual(self):\n",
    "        manual = ''\n",
    "\n",
    "        for point in self.html.findAll('span', class_='emotion-1dvddtv'):\n",
    "            manual += point.text.replace(u'\\xa0', u' ') + '\\n' + '\\n'\n",
    "\n",
    "        return manual"
   ],
   "metadata": {
    "collapsed": false,
    "ExecuteTime": {
     "end_time": "2023-07-07T08:08:28.475501Z",
     "start_time": "2023-07-07T08:08:28.456914600Z"
    }
   }
  },
  {
   "cell_type": "code",
   "execution_count": 53,
   "outputs": [],
   "source": [
    "class ParserPovar(Parser):\n",
    "\n",
    "    # def get_info(self, link, j):\n",
    "    #    if self.html.find('h1', itemprop=\"name\") != None:\n",
    "    #        photo = self.html.find('img', itemprop=\"image\").get('src')\n",
    "    #        j += 1\n",
    "    #        DBHelper().insert(\"link\", \"id\", [str(j), link, photo])\n",
    "    #    return j\n",
    "\n",
    "    def get_ingredients(self, id_):\n",
    "        ingredients = []\n",
    "        html = self.html.find('div', class_=\"ingredients-bl\")\n",
    "        for ing in html.findAll('li', itemprop=\"recipeIngredient\"):\n",
    "            ingredients = ing.findAll('span')\n",
    "            name = ingredients[0].text\n",
    "            count = ingredients[len(ingredients) - 1].text\n",
    "            self.helper.insert('ingredient', ['name_ingr'], [str(name).replace(\"'\", \"''\")])\n",
    "            ingr_ = self.helper.get('ingredient', ['name_ingr'], [str(name).replace(\"'\", \"''\")])\n",
    "            self.helper.insert('recipe_ingredients',\n",
    "                          ['recipe_id', 'ingr_id', 'count'],\n",
    "                          [id_, ingr_[0][0],\n",
    "                           count])\n",
    "            #print(name, count)\n",
    "\n",
    "        return ingredients\n",
    "\n",
    "    def get_manual(self):\n",
    "        manual = ''\n",
    "        html = self.html.find('ul', itemprop=\"recipeInstructions\")\n",
    "        for rec in html.findAll('li', class_=\"cooking-bl\"):\n",
    "            manual += '' + rec.find('p').text\n",
    "        #print(manual)\n",
    "        if manual == '':\n",
    "            k = 1 / 0\n",
    "        return manual\n",
    "\n",
    "    def get_calories(self, id_):\n",
    "        html = self.html.find('div', itemprop=\"nutrition\")\n",
    "        calories_ = html.find('strong', itemprop=\"calories\").text\n",
    "        protein_ = html.find('strong', itemprop=\"proteinContent\").text\n",
    "        fat_ = html.find('strong', itemprop=\"fatContent\").text\n",
    "        carbohydrate_ = html.find('strong', itemprop=\"carbohydrateContent\").text\n",
    "        calories = \" \".join(calories_.split())\n",
    "        protein = \" \".join(protein_.split())\n",
    "        fat = \" \".join(fat_.split())\n",
    "        carbohydrate = \" \".join(carbohydrate_.split())\n",
    "        all = [calories, protein, fat, carbohydrate]\n",
    "        #print(calories, protein, fat, carbohydrate)\n",
    "        self.helper.insert('calories', ['recipe_id', 'calories', 'proteins', 'fats', 'carbohydrates'], [id,\n",
    "                          calories,\n",
    "                          protein,\n",
    "                          fat,\n",
    "                          carbohydrate])\n",
    "        return all\n",
    "\n",
    "    def check_ingredients(self, html):\n",
    "        html.find('div', class_=\"ingredients-bl\")\n",
    "\n",
    "    def get_category(self, id_):\n",
    "        category = []\n",
    "        flag = False\n",
    "        i = 0\n",
    "        html = self.html.find('div', class_=\"article-breadcrumbs\")\n",
    "        for cat in html.findAll('span', itemprop=\"recipeCategory\"):\n",
    "            cate = \" \".join(cat.find('a').text.split())\n",
    "            category.append(cate)\n",
    "            #print(category[i])\n",
    "            #self.helper.insert('category', ['name_cat'], [category[i]])\n",
    "            a = self.helper.get('category', ['name_cat'], [category[i]])\n",
    "            if a != None and len(a) != 0:\n",
    "                flag = True\n",
    "                self.helper.insert('recipe_categories', ['recipe_id', 'cat_id'],\n",
    "                            [id_, a[0][0]])\n",
    "            i += 1\n",
    "        if not flag:\n",
    "            self.helper.insert('category', ['name_cat'], [category[0]])\n",
    "            self.helper.insert('recipe_categories', ['recipe_id', 'cat_id'],\n",
    "                            [id_, self.helper.get('category', ['name_cat'],\n",
    "                                                 [category[0]])[0][0]])\n",
    "        return category\n",
    "\n",
    "    def get_recipe(self, id_, link):\n",
    "        try:\n",
    "            html = self.html.find('article', class_=\"item-bl item-about\")\n",
    "            self.check_ingredients(html)\n",
    "            manual = self.get_manual(html, id_)\n",
    "            name_dish = html.find('h1', itemprop=\"name\").text\n",
    "            cook_time = html.find('time', itemprop=\"totalTime\").text\n",
    "            count_portion = html.find('span', itemprop=\"recipeYield\").text\n",
    "            photo = html.find('img', itemprop=\"image\").get('src')\n",
    "            flag = self.helper.insert('recipe', ['id', 'name_dish', 'count_portion', 'cook_time', 'manual'],\n",
    "                            [id_, name_dish, count_portion, cook_time, manual])\n",
    "            if flag:\n",
    "                category = self.get_category(html, id_)\n",
    "                energy = self.get_calories(html, id_)\n",
    "                ingredients = self.get_ingredients(html, id_)\n",
    "        except:\n",
    "            pass\n"
   ],
   "metadata": {
    "collapsed": false,
    "ExecuteTime": {
     "end_time": "2023-07-07T08:33:05.382900300Z",
     "start_time": "2023-07-07T08:33:05.317210100Z"
    }
   }
  },
  {
   "cell_type": "code",
   "execution_count": 27,
   "outputs": [],
   "source": [
    "class Recipe:\n",
    "    def __init__(self, name_dish, count_portion, cook_time, manual):\n",
    "        self.name = name_dish\n",
    "        self.count_portion = count_portion\n",
    "        self.cook_time = cook_time\n",
    "        self.manual = manual"
   ],
   "metadata": {
    "collapsed": false,
    "ExecuteTime": {
     "end_time": "2023-07-07T08:08:28.527145300Z",
     "start_time": "2023-07-07T08:08:28.513119900Z"
    }
   }
  },
  {
   "cell_type": "code",
   "execution_count": 28,
   "outputs": [],
   "source": [
    "class Category:\n",
    "    def __init__(self, name_cat):\n",
    "        self.name = name_cat"
   ],
   "metadata": {
    "collapsed": false,
    "ExecuteTime": {
     "end_time": "2023-07-07T08:08:28.541677500Z",
     "start_time": "2023-07-07T08:08:28.530160200Z"
    }
   }
  },
  {
   "cell_type": "code",
   "execution_count": 29,
   "outputs": [],
   "source": [
    "class Ingredient:\n",
    "    def __init__(self, name_ingr):\n",
    "        self.name = name_ingr"
   ],
   "metadata": {
    "collapsed": false,
    "ExecuteTime": {
     "end_time": "2023-07-07T08:08:28.564797500Z",
     "start_time": "2023-07-07T08:08:28.543678400Z"
    }
   }
  },
  {
   "cell_type": "code",
   "execution_count": 30,
   "outputs": [],
   "source": [
    "class Calories: #можно взять по айдишнику рецепта\n",
    "    def __init__(self, calories, proteins, fats, carbohydrates):\n",
    "        self.calories = calories\n",
    "        self.proteins = proteins\n",
    "        self.fats = fats\n",
    "        self.carbohydrates = carbohydrates"
   ],
   "metadata": {
    "collapsed": false,
    "ExecuteTime": {
     "end_time": "2023-07-07T08:08:28.576819400Z",
     "start_time": "2023-07-07T08:08:28.555758200Z"
    }
   }
  },
  {
   "cell_type": "code",
   "execution_count": 31,
   "outputs": [],
   "source": [
    "class Link:\n",
    "    def __init__(self, link, photo):\n",
    "        self.link = link\n",
    "        self.photo = photo"
   ],
   "metadata": {
    "collapsed": false,
    "ExecuteTime": {
     "end_time": "2023-07-07T08:08:28.585211300Z",
     "start_time": "2023-07-07T08:08:28.572315500Z"
    }
   }
  },
  {
   "cell_type": "code",
   "execution_count": 32,
   "outputs": [],
   "source": [
    "from sqlite3 import IntegrityError\n",
    "\n",
    "\n",
    "class DBHelper:\n",
    "\n",
    "    def __init__(self, db_name = \"recipe.db\"):\n",
    "        self.dbname = f\"sqlite3:/{db_name}\"\n",
    "        self.conn = sqlite3.connect(db_name)\n",
    "\n",
    "    #for link, recipe, ingredient and category\n",
    "    def create_table_simple(self, table_name, params):\n",
    "        column = \"\"\n",
    "        for i in range(len(params) - 1):\n",
    "            column += params[i] + \" TEXT, \"\n",
    "        column += params[len(params) - 1] + \" TEXT \"\n",
    "\n",
    "        new_table = f\"CREATE TABLE IF NOT EXISTS {table_name} (id INTEGER PRIMARY KEY AUTOINCREMENT , {column})\"\n",
    "        #print(new_table)\n",
    "        try:\n",
    "            #print(new_table)\n",
    "            self.conn.execute(new_table)\n",
    "            self.conn.commit()\n",
    "        except sqlite3.Error as err:\n",
    "            #print('Sql error: %s' % (' '.join(err.args)))\n",
    "            self.conn.rollback()\n",
    "\n",
    "    #for calories and recipe_ingredients\n",
    "    def create_table(self, table_name, primary_key, foreign_table_name, foreign_col, another_foreign_col, params, auto = False):\n",
    "        column = \"\"\n",
    "        for i in range(len(params) - 1):\n",
    "            column += params[i] + \" TEXT, \"\n",
    "        column += params[len(params)-1] + \" TEXT \"\n",
    "\n",
    "        foreign_key = f\"FOREIGN KEY ({foreign_col})  REFERENCES {foreign_table_name} ({another_foreign_col})\"\n",
    "\n",
    "        new_table = f\"CREATE TABLE IF NOT EXISTS {table_name} ({primary_key} INTEGER PRIMARY KEY {('', 'AUTOINCREMENT')[auto == True]} , {column}, {foreign_key})\"\n",
    "\n",
    "        try:\n",
    "            #print(new_table)\n",
    "            self.conn.execute(new_table)\n",
    "            self.conn.commit()\n",
    "        except sqlite3.Error as err:\n",
    "            #print('Sql error: %s' % (' '.join(err.args)))\n",
    "            self.conn.rollback()\n",
    "\n",
    "    #id autoincrement\n",
    "    def generic_create_table(self, table_name, primary_keys, foreign_keys, references, unique_args, other_args, auto):\n",
    "\n",
    "        new_table = \"\"\n",
    "\n",
    "        begin = f\"CREATE TABLE IF NOT EXISTS {table_name} (\"\n",
    "\n",
    "        primary = \"\"\n",
    "        column = \" \"\n",
    "\n",
    "        if len(primary_keys) > 1:\n",
    "            for i in range(len(primary_keys) - 1):\n",
    "                primary += primary_keys[i][0] + \", \"\n",
    "                column += primary_keys[i][0] + f\" {primary_keys[i][1]}, \"\n",
    "\n",
    "            primary += primary_keys[len(primary_keys) - 1][0]\n",
    "            column += primary_keys[len(primary_keys) - 1][0] + f\" {primary_keys[len(primary_keys) - 1][1]}, \"\n",
    "\n",
    "            new_table += f\"PRIMARY KEY ({primary})\"\n",
    "        else:\n",
    "            begin += f\"{primary_keys[0][0]} {primary_keys[0][1]} PRIMARY KEY {('', 'AUTOINCREMENT')[auto]}\"\n",
    "            column += \", \" + column\n",
    "\n",
    "        if foreign_keys is not None and len(foreign_keys) != 0:\n",
    "            reference = \"\"\n",
    "            for i in range(len(references) - 1):\n",
    "                reference += f\"FOREIGN KEY ({foreign_keys[i]}) REFERENCES {references[i][0]}({references[i][1]}), \"\n",
    "                column += foreign_keys[i] + \" TEXT, \"\n",
    "            reference += f\"FOREIGN KEY ({foreign_keys[len(foreign_keys) - 1]}) REFERENCES\" \\\n",
    "                         f\" {references[len(references) - 1][0]}({references[len(references) - 1][1]})\"\n",
    "            column += foreign_keys[len(foreign_keys) - 1] + \" TEXT, \"\n",
    "\n",
    "            new_table += f\", {reference}\"\n",
    "\n",
    "        if unique_args is not None and len(unique_args) != 0:\n",
    "            unique = \"\"\n",
    "            for i in range(len(unique_args) - 1):\n",
    "                unique += unique_args[i] + \", \"\n",
    "                column += unique_args[i] + \" TEXT, \"\n",
    "            unique += unique_args[len(unique_args) - 1]\n",
    "            column += unique_args[len(unique_args) - 1] + \" TEXT, \"\n",
    "\n",
    "            new_table += f\", UNIQUE ({unique})\"\n",
    "\n",
    "        if other_args is not None and len(other_args) != 0:\n",
    "            for i in range(len(other_args) - 1):\n",
    "                column += other_args[i] + \" TEXT, \"\n",
    "            column += other_args[len(other_args)-1] + \" TEXT, \"\n",
    "\n",
    "        new_table = begin + (column, column[:-2])[len(primary_keys) == 1] + new_table + \")\"\n",
    "\n",
    "        try:\n",
    "            #print(new_table)\n",
    "            self.conn.execute(new_table)\n",
    "            #print(\"Выполнилось\")\n",
    "            self.conn.commit()\n",
    "        except sqlite3.Error as err:\n",
    "            #print('Sql error: %s' % (' '.join(err.args)))\n",
    "            self.conn.rollback()\n",
    "\n",
    "    def get_unique(self, table_name, name, unique_columns):\n",
    "        column = \"\"\n",
    "        for i in range(len(unique_columns) - 1):\n",
    "            column += unique_columns[i] + \", \"\n",
    "        column += unique_columns[len(unique_columns)-1]\n",
    "\n",
    "        try:\n",
    "            #print(\"Unique\")\n",
    "            self.conn.execute(f\"CREATE UNIQUE INDEX {name} ON {table_name}({column})\")\n",
    "            #print(\"Выполнилось\")\n",
    "            self.conn.commit()\n",
    "        except sqlite3.Error as err:\n",
    "            #print('Sql error: %s' % (' '.join(err.args)))\n",
    "            self.conn.rollback()\n",
    "\n",
    "    def insert_check(self, table_name, primary_key, primary_value, args):\n",
    "        arguments = f\"'{primary_value}', '\"\n",
    "        for i in range(len(args) - 1):\n",
    "            arguments += str(args[i]) + \"', '\"\n",
    "        arguments += str(args[len(args) - 1]) + \"'\"\n",
    "        #print(arguments)\n",
    "\n",
    "        new_insert = f\"INSERT INTO {table_name} SELECT * FROM (SELECT {arguments}) AS tmp \" \\\n",
    "                     f\"WHERE NOT EXISTS ( SELECT {primary_key} FROM {table_name} WHERE {primary_key} = '{primary_value}'\" \\\n",
    "                     f\") LIMIT 1\"\n",
    "        try:\n",
    "            #print(new_insert)\n",
    "            self.conn.execute(new_insert)\n",
    "            #print(\"Выполнилось\")\n",
    "            self.conn.commit()\n",
    "        except sqlite3.Error as err:\n",
    "            #print('Sql error: %s' % (' '.join(err.args)))\n",
    "            self.conn.rollback()\n",
    "\n",
    "    def insert(self, table_name, column_args, args):\n",
    "        arguments = \"'\"\n",
    "        for i in range(len(args) - 1):\n",
    "            arguments += str(args[i]) + \"', '\"\n",
    "        arguments += str(args[len(args) - 1]) + \"'\"\n",
    "        #print(arguments)\n",
    "\n",
    "        columns = \"\"\n",
    "        for i in range(len(column_args) - 1):\n",
    "            columns += str(column_args[i]) + \", \"\n",
    "        columns += str(column_args[len(column_args) - 1])\n",
    "\n",
    "        new_insert = f\"INSERT INTO {table_name} ({columns}) VALUES ({arguments})\"\n",
    "        #print(new_insert)\n",
    "\n",
    "        try:\n",
    "            #print(new_insert)\n",
    "            self.conn.execute(new_insert)\n",
    "            #print(\"Выполнилось\")\n",
    "            self.conn.commit()\n",
    "            return True\n",
    "        except sqlite3.Error as err:\n",
    "            #print('Sql error: %s' % (' '.join(err.args)))\n",
    "            self.conn.rollback()\n",
    "            return False\n",
    "\n",
    "    def print_info(self, table_name):\n",
    "        new_get = f\"SELECT * FROM {table_name}\"\n",
    "        cursor = self.conn.execute(new_get)\n",
    "\n",
    "        #print(\"Выполнилось\")\n",
    "\n",
    "        return [row for row in cursor]\n",
    "\n",
    "    def get(self, table_name, column_args, args):\n",
    "        query = \"\"\n",
    "        for i in range(len(column_args) - 1):\n",
    "            query += column_args[i] + \" = '\" + args[i] + \"' AND \"\n",
    "        query += column_args[len(column_args) - 1] + \" = '\" + args[len(column_args) - 1] + \"'\"\n",
    "\n",
    "        new_get = f\"SELECT * FROM {table_name} WHERE {query}\"\n",
    "        #print(new_get)\n",
    "\n",
    "        cursor = self.conn.execute(new_get)\n",
    "\n",
    "        return [row for row in cursor]\n",
    "\n",
    "    def rollback(self):\n",
    "        self.conn.rollback()\n",
    "\n",
    "    #def update(self, flat_id, updates):\n",
    "\n",
    "\n",
    "    #def delete(self, flat_id):\n"
   ],
   "metadata": {
    "collapsed": false,
    "ExecuteTime": {
     "end_time": "2023-07-07T08:08:28.619270Z",
     "start_time": "2023-07-07T08:08:28.585211300Z"
    }
   }
  },
  {
   "cell_type": "code",
   "execution_count": 65,
   "outputs": [],
   "source": [
    "class Start:\n",
    "    def add_links_Eda(self):\n",
    "        for j in range(1):\n",
    "            linkers = CrawlerEda().get_links(1, 720)\n",
    "            print(len(linkers))\n",
    "            for i in trange(len(linkers), ncols=80, desc='Total'):\n",
    "                DBHelper().insert(\"link\", [\"link\", \"photo\"], [linkers[i].link, linkers[i].photo])\n",
    "\n",
    "    def add_links_Povar(self):\n",
    "        j = 0\n",
    "        for i in trange(50000, 152671, ncols=80, desc='Total'):\n",
    "            print(i, j)\n",
    "            j = CrawlerPovar().get_info(j)\n",
    "            if j > 40000:\n",
    "                return\n",
    "\n",
    "    def parse_links(self):\n",
    "        helper = DBHelper()\n",
    "        links = helper.print_info('link')\n",
    "        parsers = [ParserEda, ParserPovar]\n",
    "        for i in trange(len(links), ncols=80, desc='Total'):\n",
    "            l = links[i]\n",
    "            #print(l)\n",
    "            link = Link(l[1], l[2])\n",
    "            #print(l[1], l[2])\n",
    "            for parser in parsers:\n",
    "                try:\n",
    "                    parser(crawler.get_card_info(link.link), helper).get_recipe(l[0])\n",
    "                except:\n",
    "                    continue"
   ],
   "metadata": {
    "collapsed": false,
    "ExecuteTime": {
     "end_time": "2023-07-07T08:48:14.503638300Z",
     "start_time": "2023-07-07T08:48:14.479598500Z"
    }
   }
  },
  {
   "cell_type": "code",
   "execution_count": 64,
   "outputs": [
    {
     "name": "stderr",
     "output_type": "stream",
     "text": [
      "Total: 100%|██████████████████████████| 32035/32035 [00:00<00:00, 214028.85it/s]\n"
     ]
    }
   ],
   "source": [
    "Start().parse_links()"
   ],
   "metadata": {
    "collapsed": false,
    "ExecuteTime": {
     "end_time": "2023-07-07T08:47:45.635192700Z",
     "start_time": "2023-07-07T08:47:44.092315Z"
    }
   }
  },
  {
   "cell_type": "code",
   "execution_count": 34,
   "outputs": [
    {
     "ename": "TypeError",
     "evalue": "__init__() missing 1 required positional argument: 'helper'",
     "output_type": "error",
     "traceback": [
      "\u001B[1;31m---------------------------------------------------------------------------\u001B[0m",
      "\u001B[1;31mTypeError\u001B[0m                                 Traceback (most recent call last)",
      "Cell \u001B[1;32mIn[34], line 1\u001B[0m\n\u001B[1;32m----> 1\u001B[0m linkers \u001B[38;5;241m=\u001B[39m \u001B[43mCrawlerEda\u001B[49m\u001B[43m(\u001B[49m\u001B[43m)\u001B[49m\u001B[38;5;241;43m.\u001B[39;49m\u001B[43mget_links\u001B[49m\u001B[43m(\u001B[49m\u001B[38;5;241;43m1\u001B[39;49m\u001B[43m,\u001B[49m\u001B[43m \u001B[49m\u001B[38;5;241;43m5\u001B[39;49m\u001B[43m)\u001B[49m\n\u001B[0;32m      2\u001B[0m \u001B[38;5;28mprint\u001B[39m(\u001B[38;5;28mlen\u001B[39m(linkers))\n\u001B[0;32m      3\u001B[0m \u001B[38;5;28;01mfor\u001B[39;00m i \u001B[38;5;129;01min\u001B[39;00m linkers:\n",
      "Cell \u001B[1;32mIn[22], line 37\u001B[0m, in \u001B[0;36mCrawlerEda.get_links\u001B[1;34m(self, first_page, last_page)\u001B[0m\n\u001B[0;32m     35\u001B[0m \u001B[38;5;28;01mfor\u001B[39;00m i \u001B[38;5;129;01min\u001B[39;00m \u001B[38;5;28mrange\u001B[39m(first_page, last_page):\n\u001B[0;32m     36\u001B[0m     html \u001B[38;5;241m=\u001B[39m CrawlerEda()\u001B[38;5;241m.\u001B[39mget_html(i)\n\u001B[1;32m---> 37\u001B[0m     links\u001B[38;5;241m.\u001B[39mextend(\u001B[43mParserEda\u001B[49m\u001B[43m(\u001B[49m\u001B[43mhtml\u001B[49m\u001B[43m)\u001B[49m\u001B[38;5;241m.\u001B[39mget_cards())\n\u001B[0;32m     38\u001B[0m     \u001B[38;5;66;03m#print(links)\u001B[39;00m\n\u001B[0;32m     39\u001B[0m \u001B[38;5;28;01mreturn\u001B[39;00m links\n",
      "\u001B[1;31mTypeError\u001B[0m: __init__() missing 1 required positional argument: 'helper'"
     ]
    }
   ],
   "source": [
    "linkers = CrawlerEda().get_links(1, 5)\n",
    "print(len(linkers))\n",
    "for i in linkers:\n",
    "    print(i.id, i.link, i.photo)"
   ],
   "metadata": {
    "collapsed": false,
    "ExecuteTime": {
     "end_time": "2023-07-07T08:08:41.474710600Z",
     "start_time": "2023-07-07T08:08:28.633667100Z"
    }
   }
  },
  {
   "cell_type": "code",
   "execution_count": null,
   "outputs": [],
   "source": [
    "#table_name, primary_keys, foreign_keys, references, unique_args, other_args, auto\n",
    "DBHelper(\"recipe.db\").generic_create_table('link',\n",
    "                                           [('id', 'INTEGER')],\n",
    "                                           None,\n",
    "                                           None,\n",
    "                                           ['link'],\n",
    "                                           ['photo'],\n",
    "                                           True)"
   ],
   "metadata": {
    "collapsed": false
   }
  },
  {
   "cell_type": "code",
   "execution_count": null,
   "outputs": [],
   "source": [],
   "metadata": {
    "collapsed": false
   }
  },
  {
   "cell_type": "code",
   "execution_count": null,
   "outputs": [],
   "source": [
    "DBHelper(\"recipe.db\").print_info(\"ingredient\")"
   ],
   "metadata": {
    "collapsed": false
   }
  },
  {
   "cell_type": "code",
   "execution_count": null,
   "outputs": [],
   "source": [],
   "metadata": {
    "collapsed": false
   }
  },
  {
   "cell_type": "code",
   "execution_count": null,
   "outputs": [],
   "source": [
    "crawler = CrawlerEda()\n",
    "ParserEda(crawler.get_card_info('https://eda.ru/recepty/osnovnye-blyuda/zapechennij-kartofel-po-francuzski-la-kartofel-28620')).get_recipe(1229)"
   ],
   "metadata": {
    "collapsed": false
   }
  },
  {
   "cell_type": "code",
   "execution_count": null,
   "outputs": [],
   "source": [
    "crawler = CrawlerEda()\n",
    "ParserEda(crawler.get_card_info('https://eda.ru/recepty/vypechka-deserty/kievskiy-tort-173835')).get_recipe(2339)"
   ],
   "metadata": {
    "collapsed": false
   }
  },
  {
   "cell_type": "code",
   "execution_count": null,
   "outputs": [],
   "source": [
    "crawler = CrawlerEda()\n",
    "ParserEda(crawler.get_card_info('https://eda.ru/recepty/osnovnye-blyuda/pasta-s-krabom-138443')).get_recipe(4507)"
   ],
   "metadata": {
    "collapsed": false
   }
  },
  {
   "cell_type": "code",
   "execution_count": null,
   "outputs": [],
   "source": [
    "pov_helper = DBHelper(\"new.db\")\n",
    "pov_links = pov_helper.print_info(\"link\")\n",
    "print(pov_links)"
   ],
   "metadata": {
    "collapsed": false
   }
  },
  {
   "cell_type": "code",
   "execution_count": null,
   "outputs": [],
   "source": [
    "#Добавление базы данных с линками из поваренка к базе с едой\n",
    "eda_helper = DBHelper()\n",
    "pov_helper = DBHelper(\"new.db\")\n",
    "pov_links = pov_helper.print_info(\"link\")\n",
    "for i in trange(len(pov_links), ncols=80, desc='Total'):\n",
    "    l = pov_links[i]\n",
    "    #print(l)\n",
    "    link = Link(l[1], l[2])\n",
    "    #print(l[0], l[1], l[2])\n",
    "    eda_helper.insert('link', ['link', 'photo'], [link.link, link.photo])\n",
    "    #ParserEda(crawler.get_card_info(link.link)).get_recipe(l[0])"
   ],
   "metadata": {
    "collapsed": false
   }
  }
 ],
 "metadata": {
  "kernelspec": {
   "display_name": "Python 3",
   "language": "python",
   "name": "python3"
  },
  "language_info": {
   "codemirror_mode": {
    "name": "ipython",
    "version": 2
   },
   "file_extension": ".py",
   "mimetype": "text/x-python",
   "name": "python",
   "nbconvert_exporter": "python",
   "pygments_lexer": "ipython2",
   "version": "2.7.6"
  }
 },
 "nbformat": 4,
 "nbformat_minor": 0
}
