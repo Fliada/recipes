{
 "cells": [
  {
   "cell_type": "code",
   "execution_count": 134,
   "metadata": {
    "collapsed": true,
    "ExecuteTime": {
     "end_time": "2023-06-29T20:34:17.831452Z",
     "start_time": "2023-06-29T20:34:17.787383700Z"
    }
   },
   "outputs": [],
   "source": [
    "import requests\n",
    "from bs4 import BeautifulSoup\n",
    "import sqlite3\n",
    "import re\n",
    "import time\n",
    "from selenium import webdriver\n",
    "from selenium.webdriver.common.by import By\n",
    "from selenium.webdriver.chrome.options import Options\n",
    "from selenium.webdriver import Keys\n",
    "from selenium.webdriver.support import expected_conditions as EC\n",
    "from selenium.webdriver.support.ui import WebDriverWait\n",
    "from selenium.webdriver.common.action_chains import ActionChains\n",
    "from selenium.webdriver.common.by import By\n",
    "from selenium.webdriver.support.ui import WebDriverWait\n",
    "from selenium.webdriver.support import expected_conditions as EC"
   ]
  },
  {
   "cell_type": "code",
   "execution_count": 135,
   "outputs": [],
   "source": [
    "from bs4 import BeautifulSoup\n",
    "import re\n",
    "from uuid import uuid4"
   ],
   "metadata": {
    "collapsed": false,
    "ExecuteTime": {
     "end_time": "2023-06-29T20:34:17.832455200Z",
     "start_time": "2023-06-29T20:34:17.808322600Z"
    }
   }
  },
  {
   "cell_type": "code",
   "execution_count": 136,
   "outputs": [],
   "source": [
    "class Crawler:\n",
    "\n",
    "    def get_html(self):\n",
    "        pass\n",
    "\n",
    "    def get_card_info(self):\n",
    "        pass\n",
    "\n",
    "    def get_links(self, page):\n",
    "        pass"
   ],
   "metadata": {
    "collapsed": false,
    "ExecuteTime": {
     "end_time": "2023-06-29T20:34:17.844006100Z",
     "start_time": "2023-06-29T20:34:17.823424900Z"
    }
   }
  },
  {
   "cell_type": "code",
   "execution_count": 137,
   "outputs": [],
   "source": [
    "class CrawlerEda(Crawler):\n",
    "\n",
    "    def get_html(self, page):\n",
    "        chrome_options = Options()\n",
    "        chrome_options.add_argument(\"--disable-extensions\")\n",
    "        chrome_options.add_argument(\"--disable-popup-blocking\")\n",
    "\n",
    "        browser = webdriver.Chrome(options=chrome_options)\n",
    "        url = f\"https://eda.ru/recepty?page={page}\"\n",
    "        #browser.implicitly_wait(30)\n",
    "        browser.get(url)\n",
    "        wait = WebDriverWait(browser, 10)\n",
    "        soup = BeautifulSoup(browser.page_source, 'html.parser')\n",
    "        return soup\n",
    "\n",
    "    def get_card_info(self, number):\n",
    "        chrome_options = Options()\n",
    "        chrome_options.add_argument(\"--disable-extensions\")\n",
    "        chrome_options.add_argument(\"--disable-popup-blocking\")\n",
    "\n",
    "        browser = webdriver.Chrome(options=chrome_options)\n",
    "        action = ActionChains(browser)\n",
    "        count = 0\n",
    "\n",
    "        #linker = linkers[number]['link']\n",
    "        #browser.get(linker)\n",
    "        wait = WebDriverWait(browser, 10)\n",
    "        soup_card = BeautifulSoup(browser.page_source, 'html.parser')\n",
    "        return soup_card\n",
    "\n",
    "    def get_links(self, page):\n",
    "        links = []\n",
    "        for i in range(1, page):\n",
    "            html = CrawlerEda().get_html(i)\n",
    "            links.extend(ParserEda(html).get_cards())\n",
    "            print(links)\n",
    "        return links"
   ],
   "metadata": {
    "collapsed": false,
    "ExecuteTime": {
     "end_time": "2023-06-29T20:34:17.873188400Z",
     "start_time": "2023-06-29T20:34:17.846968600Z"
    }
   }
  },
  {
   "cell_type": "code",
   "execution_count": 138,
   "outputs": [],
   "source": [
    "class Parser:\n",
    "\n",
    "    def __init__(self, html):\n",
    "        self.html = html\n",
    "\n",
    "    def get_cards(self):\n",
    "        pass"
   ],
   "metadata": {
    "collapsed": false,
    "ExecuteTime": {
     "end_time": "2023-06-29T20:34:17.882710800Z",
     "start_time": "2023-06-29T20:34:17.868119700Z"
    }
   }
  },
  {
   "cell_type": "code",
   "execution_count": 139,
   "outputs": [],
   "source": [
    "class ParserEda(Parser):\n",
    "\n",
    "    def get_cards(self):\n",
    "        linkers = []\n",
    "        for recipe in self.html.findAll('div', class_='emotion-1f6ych6'):\n",
    "            try:\n",
    "                link = \"https://eda.ru\"+recipe.find('a', class_='emotion-12sjte8').get('href')\n",
    "                photo = recipe.find('img', class_='emotion-1bi124x').get('src')\n",
    "                #print(link)\n",
    "                #print(photo)\n",
    "                linkers.append(Link(re.findall(r'\\b\\d+\\b', link)[0], link, photo))\n",
    "            except AttributeError:\n",
    "                print(\"There's no item with that code\")\n",
    "        print(len(linkers))\n",
    "        return linkers\n"
   ],
   "metadata": {
    "collapsed": false,
    "ExecuteTime": {
     "end_time": "2023-06-29T20:34:17.914328300Z",
     "start_time": "2023-06-29T20:34:17.886717600Z"
    }
   }
  },
  {
   "cell_type": "code",
   "execution_count": 140,
   "outputs": [],
   "source": [
    "class Recipe:\n",
    "    def __init__(self, key, name_dish, count_portion, cook_time, ingredients, manual):\n",
    "        self.id = key\n",
    "        self.name_dish = name_dish\n",
    "        self.count_portion = count_portion\n",
    "        self.cook_time = cook_time\n",
    "        self.ingredients = ingredients\n",
    "        self.manual = manual"
   ],
   "metadata": {
    "collapsed": false,
    "ExecuteTime": {
     "end_time": "2023-06-29T20:34:17.915326100Z",
     "start_time": "2023-06-29T20:34:17.902755300Z"
    }
   }
  },
  {
   "cell_type": "code",
   "execution_count": 141,
   "outputs": [],
   "source": [
    "class Ingredient:\n",
    "    def __init__(self, key, name_ingr):\n",
    "        self.id = key\n",
    "        self.name_ingr = name_ingr"
   ],
   "metadata": {
    "collapsed": false,
    "ExecuteTime": {
     "end_time": "2023-06-29T20:34:17.926414800Z",
     "start_time": "2023-06-29T20:34:17.916325100Z"
    }
   }
  },
  {
   "cell_type": "code",
   "execution_count": 142,
   "outputs": [],
   "source": [
    "class Calories:\n",
    "    def __init__(self, key, calories, proteins, fats, carbohydrates):\n",
    "        self.id = key\n",
    "        self.calories = calories\n",
    "        self.proteins = proteins\n",
    "        self.fats = fats\n",
    "        self.carbohydrates = carbohydrates"
   ],
   "metadata": {
    "collapsed": false,
    "ExecuteTime": {
     "end_time": "2023-06-29T20:34:17.958647200Z",
     "start_time": "2023-06-29T20:34:17.929441800Z"
    }
   }
  },
  {
   "cell_type": "code",
   "execution_count": 143,
   "outputs": [],
   "source": [
    "class Link:\n",
    "    def __init__(self, key, link, photo):\n",
    "        self.id = key\n",
    "        self.link = link\n",
    "        self.photo = photo"
   ],
   "metadata": {
    "collapsed": false,
    "ExecuteTime": {
     "end_time": "2023-06-29T20:34:17.958647200Z",
     "start_time": "2023-06-29T20:34:17.945017Z"
    }
   }
  },
  {
   "cell_type": "code",
   "execution_count": 175,
   "outputs": [],
   "source": [
    "class DBHelper:\n",
    "\n",
    "    def __init__(self, db_name = \"recipe.db\"):\n",
    "        self.dbname = f\"sqlite3:/{db_name}\"\n",
    "        self.conn = sqlite3.connect(db_name)\n",
    "\n",
    "    def simple_create_table(self, table_name, primary_key, params):\n",
    "        column = \"\"\n",
    "        for i in range(len(params) - 1):\n",
    "            column = str(params[i]) + \" TEXT, \"\n",
    "        column += str(params[len(params) - 1]) + \" TEXT \"\n",
    "        new_table = f\"CREATE TABLE IF NOT EXISTS {table_name} ({primary_key} TEXT PRIMARY KEY , {column})\"\n",
    "        self.conn.execute(new_table)\n",
    "        self.conn.commit()\n",
    "\n",
    "    def create_table(self, table_name, primary_key, foreign_table_name, foreign_col, another_foreign_col, params):\n",
    "        for i in len(params) - 1:\n",
    "            column = column + params[i] + \" TEXT, \"\n",
    "        column += params[len(params)] + \" TEXT \"\n",
    "\n",
    "        foreign_key = f\"FOREIGN KEY ({foreign_col})  REFERENCES {foreign_table_name} ({another_foreign_col})\"\n",
    "\n",
    "        new_table = f\"CREATE TABLE IF NOT EXISTS {table_name} ({primary_key} TEXT PRIMARY KEY , {column}, {foreign_key})\"\n",
    "        self.conn.execute(new_table)\n",
    "        self.conn.commit()\n",
    "\n",
    "    def insert(self, table_name, args):\n",
    "        for i in len(args) - 1:\n",
    "            arguments = args[i] + \", \"\n",
    "        arguments += args[len(args) - 1]\n",
    "\n",
    "        new_insert = f\"INSERT INTO {table_name} VALUES ({arguments})\"\n",
    "        self.conn.execute(new_insert)\n",
    "        self.conn.commit()\n",
    "\n",
    "    def print_info(self, table_name):\n",
    "        new_get = f\"SELECT * FROM {table_name}\"\n",
    "        cursor = self.conn.execute(new_get)\n",
    "        return [row[0] for row in cursor]\n",
    "\n",
    "    #def update(self, flat_id, updates):\n",
    "\n",
    "\n",
    "    #def delete(self, flat_id):\n"
   ],
   "metadata": {
    "collapsed": false,
    "ExecuteTime": {
     "end_time": "2023-06-29T21:12:49.159961600Z",
     "start_time": "2023-06-29T21:12:49.146957100Z"
    }
   }
  },
  {
   "cell_type": "code",
   "execution_count": 145,
   "outputs": [
    {
     "name": "stdout",
     "output_type": "stream",
     "text": [
      "14\n",
      "[<__main__.Link object at 0x0000021705C966D0>, <__main__.Link object at 0x0000021705CC4460>, <__main__.Link object at 0x0000021706895B50>, <__main__.Link object at 0x0000021706895670>, <__main__.Link object at 0x0000021706895790>, <__main__.Link object at 0x00000217068958B0>, <__main__.Link object at 0x00000217068956D0>, <__main__.Link object at 0x0000021706895C40>, <__main__.Link object at 0x00000217058E9820>, <__main__.Link object at 0x00000217058E9760>, <__main__.Link object at 0x00000217058E9550>, <__main__.Link object at 0x00000217058E9C40>, <__main__.Link object at 0x00000217058E92B0>, <__main__.Link object at 0x00000217058E9100>]\n",
      "14\n",
      "[<__main__.Link object at 0x0000021705C966D0>, <__main__.Link object at 0x0000021705CC4460>, <__main__.Link object at 0x0000021706895B50>, <__main__.Link object at 0x0000021706895670>, <__main__.Link object at 0x0000021706895790>, <__main__.Link object at 0x00000217068958B0>, <__main__.Link object at 0x00000217068956D0>, <__main__.Link object at 0x0000021706895C40>, <__main__.Link object at 0x00000217058E9820>, <__main__.Link object at 0x00000217058E9760>, <__main__.Link object at 0x00000217058E9550>, <__main__.Link object at 0x00000217058E9C40>, <__main__.Link object at 0x00000217058E92B0>, <__main__.Link object at 0x00000217058E9100>, <__main__.Link object at 0x0000021705C96BE0>, <__main__.Link object at 0x000002170622C400>, <__main__.Link object at 0x000002170622C370>, <__main__.Link object at 0x000002170622C460>, <__main__.Link object at 0x000002170622C340>, <__main__.Link object at 0x000002170622C5E0>, <__main__.Link object at 0x000002170622C6D0>, <__main__.Link object at 0x000002170622C700>, <__main__.Link object at 0x000002170622C730>, <__main__.Link object at 0x000002170622C6A0>, <__main__.Link object at 0x000002170622C910>, <__main__.Link object at 0x000002170622C3A0>, <__main__.Link object at 0x000002170622C820>, <__main__.Link object at 0x000002170622CB50>]\n",
      "14\n",
      "[<__main__.Link object at 0x0000021705C966D0>, <__main__.Link object at 0x0000021705CC4460>, <__main__.Link object at 0x0000021706895B50>, <__main__.Link object at 0x0000021706895670>, <__main__.Link object at 0x0000021706895790>, <__main__.Link object at 0x00000217068958B0>, <__main__.Link object at 0x00000217068956D0>, <__main__.Link object at 0x0000021706895C40>, <__main__.Link object at 0x00000217058E9820>, <__main__.Link object at 0x00000217058E9760>, <__main__.Link object at 0x00000217058E9550>, <__main__.Link object at 0x00000217058E9C40>, <__main__.Link object at 0x00000217058E92B0>, <__main__.Link object at 0x00000217058E9100>, <__main__.Link object at 0x0000021705C96BE0>, <__main__.Link object at 0x000002170622C400>, <__main__.Link object at 0x000002170622C370>, <__main__.Link object at 0x000002170622C460>, <__main__.Link object at 0x000002170622C340>, <__main__.Link object at 0x000002170622C5E0>, <__main__.Link object at 0x000002170622C6D0>, <__main__.Link object at 0x000002170622C700>, <__main__.Link object at 0x000002170622C730>, <__main__.Link object at 0x000002170622C6A0>, <__main__.Link object at 0x000002170622C910>, <__main__.Link object at 0x000002170622C3A0>, <__main__.Link object at 0x000002170622C820>, <__main__.Link object at 0x000002170622CB50>, <__main__.Link object at 0x000002170672A0A0>, <__main__.Link object at 0x000002170672A160>, <__main__.Link object at 0x000002170672A1F0>, <__main__.Link object at 0x0000021705CC4430>, <__main__.Link object at 0x0000021705C96730>, <__main__.Link object at 0x000002170622CA30>, <__main__.Link object at 0x0000021706718E50>, <__main__.Link object at 0x0000021706718D00>, <__main__.Link object at 0x0000021706718DF0>, <__main__.Link object at 0x0000021706718CD0>, <__main__.Link object at 0x0000021706718F70>, <__main__.Link object at 0x0000021706718D30>, <__main__.Link object at 0x0000021706718C70>, <__main__.Link object at 0x0000021706718F40>]\n",
      "14\n",
      "[<__main__.Link object at 0x0000021705C966D0>, <__main__.Link object at 0x0000021705CC4460>, <__main__.Link object at 0x0000021706895B50>, <__main__.Link object at 0x0000021706895670>, <__main__.Link object at 0x0000021706895790>, <__main__.Link object at 0x00000217068958B0>, <__main__.Link object at 0x00000217068956D0>, <__main__.Link object at 0x0000021706895C40>, <__main__.Link object at 0x00000217058E9820>, <__main__.Link object at 0x00000217058E9760>, <__main__.Link object at 0x00000217058E9550>, <__main__.Link object at 0x00000217058E9C40>, <__main__.Link object at 0x00000217058E92B0>, <__main__.Link object at 0x00000217058E9100>, <__main__.Link object at 0x0000021705C96BE0>, <__main__.Link object at 0x000002170622C400>, <__main__.Link object at 0x000002170622C370>, <__main__.Link object at 0x000002170622C460>, <__main__.Link object at 0x000002170622C340>, <__main__.Link object at 0x000002170622C5E0>, <__main__.Link object at 0x000002170622C6D0>, <__main__.Link object at 0x000002170622C700>, <__main__.Link object at 0x000002170622C730>, <__main__.Link object at 0x000002170622C6A0>, <__main__.Link object at 0x000002170622C910>, <__main__.Link object at 0x000002170622C3A0>, <__main__.Link object at 0x000002170622C820>, <__main__.Link object at 0x000002170622CB50>, <__main__.Link object at 0x000002170672A0A0>, <__main__.Link object at 0x000002170672A160>, <__main__.Link object at 0x000002170672A1F0>, <__main__.Link object at 0x0000021705CC4430>, <__main__.Link object at 0x0000021705C96730>, <__main__.Link object at 0x000002170622CA30>, <__main__.Link object at 0x0000021706718E50>, <__main__.Link object at 0x0000021706718D00>, <__main__.Link object at 0x0000021706718DF0>, <__main__.Link object at 0x0000021706718CD0>, <__main__.Link object at 0x0000021706718F70>, <__main__.Link object at 0x0000021706718D30>, <__main__.Link object at 0x0000021706718C70>, <__main__.Link object at 0x0000021706718F40>, <__main__.Link object at 0x0000021706A88C70>, <__main__.Link object at 0x0000021706A88700>, <__main__.Link object at 0x0000021706A886D0>, <__main__.Link object at 0x0000021706A88A30>, <__main__.Link object at 0x0000021706A88B80>, <__main__.Link object at 0x0000021706A88B50>, <__main__.Link object at 0x0000021706A88A60>, <__main__.Link object at 0x0000021706A88C10>, <__main__.Link object at 0x0000021706A888E0>, <__main__.Link object at 0x0000021706A88A90>, <__main__.Link object at 0x0000021706A88970>, <__main__.Link object at 0x000002170672A130>, <__main__.Link object at 0x000002170672A0D0>, <__main__.Link object at 0x00000217058B8160>]\n",
      "56\n",
      "20955 https://eda.ru/recepty/vypechka-deserty/brauni-brownie-20955 https://eda.ru/img/eda/c180x180/s1.eda.ru/StaticContent/Photos/120131082911/130725174021/p_O.jpg\n",
      "18506 https://eda.ru/recepty/zavtraki/sirniki-iz-tvoroga-18506 https://eda.ru/img/eda/c180x180/s1.eda.ru/StaticContent/Photos/120213175531/180415114517/p_O.jpg\n",
      "17614 https://eda.ru/recepty/pasta-picca/spagetti-karbonara-s-krasnym-lukom-17614 https://eda.ru/img/eda/c180x180/s1.eda.ru/StaticContent/Photos/150615095301/150617154856/p_O.jpg\n",
      "21916 https://eda.ru/recepty/vypechka-deserty/klassicheskaja-sharlotka-21916 https://eda.ru/img/eda/c180x180/s1.eda.ru/StaticContent/Photos/130813174717/151102203457/p_O.jpg\n",
      "31799 https://eda.ru/recepty/pasta-picca/lazanja-klassicheskaja-s-mjasom-31799 https://eda.ru/img/eda/c180x180/s1.eda.ru/StaticContent/Photos/120131082527/130715011534/p_O.jpg\n",
      "16014 https://eda.ru/recepty/vypechka-deserty/tonkie-blini-na-moloke-16014 https://eda.ru/img/eda/c180x180/s1.eda.ru/StaticContent/Photos/130212102403/130313131925/p_O.jpg\n",
      "18811 https://eda.ru/recepty/vypechka-deserty/amerikanskij-tikvennij-pirog-s-koricej-18811 https://eda.ru/img/eda/c180x180/s1.eda.ru/StaticContent/Photos/120214140149/121007182350/p_O.jpg\n",
      "21751 https://eda.ru/recepty/osnovnye-blyuda/azu-po-tatarski-21751 https://eda.ru/img/eda/c180x180/s1.eda.ru/StaticContent/Photos/140802212008/160519080709/p_O.jpg\n",
      "16922 https://eda.ru/recepty/salaty/salat-iz-krasnoj-fasoli-s-tvorozhnim-sirom-krasnim-lukom-i-sezonnim-salatom-16922 https://eda.ru/img/eda/c180x180/s1.eda.ru/StaticContent/Photos/130829212936/130904132758/p_O.jpg\n",
      "19334 https://eda.ru/recepty/vypechka-deserty/pirog-zebra-19334 https://eda.ru/img/eda/c180x180/s1.eda.ru/StaticContent/Photos/120213181923/120213182230/p_O.jpg\n",
      "15574 https://eda.ru/recepty/vypechka-deserty/cvetaevskij-jablochnij-pirog-15574 https://eda.ru/img/eda/c180x180/s1.eda.ru/StaticContent/Photos/120131083649/170819182946/p_O.jpg\n",
      "16149 https://eda.ru/recepty/vypechka-deserty/tvorozhnyy-keks-s-yaycami-16149 https://eda.ru/img/eda/c180x180/s1.eda.ru/StaticContent/Photos/120131090615/140409232131/p_O.jpg\n",
      "32614 https://eda.ru/recepty/supy/sirnij-sup-po-francuzski-s-kuricej-32614 https://eda.ru/img/eda/c180x180/s1.eda.ru/StaticContent/Photos/120131083619/170816150250/p_O.jpg\n",
      "28425 https://eda.ru/recepty/zavtraki/ojakodon-japonskij-omlet-s-risom-kuricej-28425 https://eda.ru/img/eda/c180x180/s1.eda.ru/StaticContent/Photos/130713154821/130723190525/p_O.jpg\n",
      "21506 https://eda.ru/recepty/vypechka-deserty/maffiny-s-golubikoy-21506 https://eda.ru/img/eda/c180x180/s1.eda.ru/StaticContent/Photos/150615095301/150618125006/p_O.jpg\n",
      "25902 https://eda.ru/recepty/osnovnye-blyuda/kurica-pikasso-25902 https://eda.ru/img/eda/c180x180/s1.eda.ru/StaticContent/Photos/120214133254/120214133453/p_O.jpg\n",
      "30600 https://eda.ru/recepty/zavtraki/amerikanskie-bliny-30600 https://eda.ru/img/eda/c180x180/s1.eda.ru/StaticContent/Photos/120131085624/171210104827/p_O.jpg\n",
      "29566 https://eda.ru/recepty/zakuski/brusketta-s-pomidorami-29566 https://eda.ru/img/eda/c180x180/s1.eda.ru/StaticContent/Photos/120131085657/171214172307/p_O.jpg\n",
      "30625 https://eda.ru/recepty/osnovnye-blyuda/kartofel-ajdaho-30625 https://eda.ru/img/eda/c180x180/s1.eda.ru/StaticContent/Photos/151212225533/151221213208/p_O.jpg\n",
      "31193 https://eda.ru/recepty/zavtraki/amerikanskie-pankejki-s-koricej-31193 https://eda.ru/img/eda/c180x180/s1.eda.ru/StaticContent/Photos/120131085434/171123124157/p_O.jpg\n",
      "32534 https://eda.ru/recepty/osnovnye-blyuda/ratatuj-32534 https://eda.ru/img/eda/c180x180/s1.eda.ru/StaticContent/Photos/150615095301/150618135148/p_O.jpg\n",
      "16754 https://eda.ru/recepty/supy/krem-sup-iz-tikvi-16754 https://eda.ru/img/eda/c180x180/s1.eda.ru/StaticContent/Photos/110801145439/170310001934/p_O.jpg\n",
      "17889 https://eda.ru/recepty/vypechka-deserty/kapustnij-pirog-17889 https://eda.ru/img/eda/c180x180/s1.eda.ru/StaticContent/Photos/120213181135/180530134920/p_O.jpg\n",
      "17620 https://eda.ru/recepty/pasta-picca/spagetti-s-chesnokom-maslom-17620 https://eda.ru/img/eda/c180x180/s1.eda.ru/StaticContent/Photos/130629211231/130709203418/p_O.jpg\n",
      "19945 https://eda.ru/recepty/vypechka-deserty/morkovnie-keksi-s-imbirem-koricej-19945 https://eda.ru/img/eda/c180x180/s1.eda.ru/StaticContent/Photos/150715140424/150722214413/p_O.jpg\n",
      "33916 https://eda.ru/recepty/supy/sup-harcho-33916 https://eda.ru/img/eda/c180x180/s1.eda.ru/StaticContent/Photos/140902214744/140910171546/p_O.jpg\n",
      "29574 https://eda.ru/recepty/vypechka-deserty/oladi-na-kefire-29574 https://eda.ru/img/eda/c180x180/s1.eda.ru/StaticContent/Photos/150428090447/210521123925/p_O.jpg\n",
      "35975 https://eda.ru/recepty/zavtraki/bananovie-pankejki-35975 https://eda.ru/img/eda/c180x180/s1.eda.ru/StaticContent/Photos/120131085657/171214172603/p_O.jpg\n",
      "25076 https://eda.ru/recepty/supy/tomatnij-sup-iz-moreproduktov-25076 https://eda.ru/img/eda/c180x180/s1.eda.ru/StaticContent/Photos/120214131925/120214132229/p_O.jpg\n",
      "17602 https://eda.ru/recepty/zavtraki/frittata-s-brokkoli-sladkim-percem-17602 https://eda.ru/img/eda/c180x180/s1.eda.ru/StaticContent/Photos/130829212936/130904175947/p_O.jpg\n",
      "23485 https://eda.ru/recepty/vypechka-deserty/tort-smetannik-23485 https://eda.ru/img/eda/c180x180/s1.eda.ru/StaticContent/Photos/130330144331/190611113644/p_O.jpg\n",
      "15880 https://eda.ru/recepty/supy/sup-vishisuaz-15880 https://eda.ru/img/eda/c180x180/s1.eda.ru/StaticContent/Photos/130829212936/130904195234/p_O.jpg\n",
      "15584 https://eda.ru/recepty/supy/tomatnij-magribskij-sup-15584 https://eda.ru/img/eda/c180x180/s1.eda.ru/StaticContent/Photos/130829212936/130904194341/p_O.jpg\n",
      "30239 https://eda.ru/recepty/zakuski/guakamole-30239 https://eda.ru/img/eda/c180x180/s1.eda.ru/StaticContent/Photos/120214155832/181030122250/p_O.jpg\n",
      "46974 https://eda.ru/recepty/vypechka-deserty/medovik-46974 https://eda.ru/img/eda/c180x180/s1.eda.ru/StaticContent/Photos/141020235636/141030152937/p_O.jpg\n",
      "18145 https://eda.ru/recepty/vypechka-deserty/shokoladnie-maffini-s-kakao-18145 https://eda.ru/img/eda/c180x180/s1.eda.ru/StaticContent/Photos/120214141717/160625072835/p_O.jpg\n",
      "20471 https://eda.ru/recepty/salaty/olive-po-sovetski-20471 https://eda.ru/img/eda/c180x180/s1.eda.ru/StaticContent/Photos/170218193516/200702124622/p_O.jpg\n",
      "21975 https://eda.ru/recepty/zavtraki/zavtrak-dlja-lenivih-21975 https://eda.ru/img/eda/c180x180/s1.eda.ru/StaticContent/Photos/e/92/e92c282529d24be6a8313ed3cd54462f.jpg\n",
      "17587 https://eda.ru/recepty/osnovnye-blyuda/graten-dofinua-17587 https://eda.ru/img/eda/c180x180/s1.eda.ru/StaticContent/Photos/151002075307/151009125656/p_O.jpg\n",
      "17580 https://eda.ru/recepty/supy/lukovij-sup-17580 https://eda.ru/img/eda/c180x180/s1.eda.ru/StaticContent/Photos/150615095301/150617154451/p_O.jpg\n",
      "15671 https://eda.ru/recepty/zakuski/kabachki-s-pomidorami-chesnokom-15671 https://eda.ru/img/eda/c180x180/s1.eda.ru/StaticContent/Photos/130829212936/130904191641/p_O.jpg\n",
      "14456 https://eda.ru/recepty/osnovnye-blyuda/kurica-v-kislo-sladkom-souse-po-kitajski-14456 https://eda.ru/img/eda/c180x180/s1.eda.ru/StaticContent/Photos/170122183544/170209213750/p_O.jpg\n",
      "36099 https://eda.ru/recepty/supy/soljanka-36099 https://eda.ru/img/eda/c180x180/s1.eda.ru/StaticContent/Photos/120213181135/130318133553/p_O.jpg\n",
      "22649 https://eda.ru/recepty/salaty/nut-s-baklazhanom-22649 https://eda.ru/img/eda/c180x180/s1.eda.ru/StaticContent/Photos/120131084420/171007201419/p_O.jpg\n",
      "27007 https://eda.ru/recepty/supy/chechevichnij-sup-s-mjatoj-27007 https://eda.ru/img/eda/c180x180/s1.eda.ru/StaticContent/Photos/120130134327/131004134850/p_O.jpg\n",
      "35171 https://eda.ru/recepty/pasta-picca/lazanja-s-mjasnim-farshem-i-parmezanom-35171 https://eda.ru/img/eda/c180x180/s1.eda.ru/StaticContent/Photos/120131083458/170804155848/p_O.jpg\n",
      "21742 https://eda.ru/recepty/salaty/salat-s-krevetkami-kunzhutom-21742 https://eda.ru/img/eda/c180x180/s1.eda.ru/StaticContent/Photos/131031145327/140806174529/p_O.jpg\n",
      "15281 https://eda.ru/recepty/vypechka-deserty/pechene-pesochnoe-15281 https://eda.ru/img/eda/c180x180/s1.eda.ru/StaticContent/Photos/170305005240/201103115019/p_O.jpg\n",
      "27368 https://eda.ru/recepty/vypechka-deserty/tvorozhnie-ponchiki-v-saharnoj-pudre-27368 https://eda.ru/img/eda/c180x180/s1.eda.ru/StaticContent/Photos/160327193714/160405213756/p_O.jpg\n",
      "34999 https://eda.ru/recepty/vypechka-deserty/ovsjanoe-pechene-iz-starbucks-34999 https://eda.ru/img/eda/c180x180/s1.eda.ru/StaticContent/Photos/140512112357/161115201046/p_O.jpg\n",
      "32016 https://eda.ru/recepty/vypechka-deserty/shokoladnye-keksy-s-zhidkoy-saharnoy-nachinkoy-32016 https://eda.ru/img/eda/c180x180/s1.eda.ru/StaticContent/Photos/120131082342/121115155730/p_O.jpg\n",
      "23962 https://eda.ru/recepty/osnovnye-blyuda/kartofel-zapechennij-v-mundire-23962 https://eda.ru/img/eda/c180x180/s1.eda.ru/StaticContent/Photos/120131082748/170604150624/p_O.jpg\n",
      "30893 https://eda.ru/recepty/salaty/nastojaschij-grecheskij-salat-30893 https://eda.ru/img/eda/c180x180/s1.eda.ru/StaticContent/Photos/130725133817/190726123035/p_O.jpg\n",
      "22835 https://eda.ru/recepty/pasta-picca/tonkoe-testo-dlja-picci-22835 https://eda.ru/img/eda/c180x180/s1.eda.ru/StaticContent/Photos/130619134157/170126123944/p_O.jpg\n",
      "31055 https://eda.ru/recepty/salaty/salat-s-obzharennimi-tomatami-31055 https://eda.ru/img/eda/c180x180/s1.eda.ru/StaticContent/Photos/130629211231/130712114123/p_O.jpg\n",
      "29241 https://eda.ru/recepty/vypechka-deserty/tradicionnij-tort-napoleon-29241 https://eda.ru/img/eda/c180x180/s1.eda.ru/StaticContent/Photos/120131083524/120214154136/p_O.jpg\n"
     ]
    }
   ],
   "source": [
    "linkers = CrawlerEda().get_links(5)\n",
    "print(len(linkers))\n",
    "for i in linkers:\n",
    "    print(i.id, i.link, i.photo)"
   ],
   "metadata": {
    "collapsed": false,
    "ExecuteTime": {
     "end_time": "2023-06-29T20:34:43.965594800Z",
     "start_time": "2023-06-29T20:34:17.977181Z"
    }
   }
  },
  {
   "cell_type": "code",
   "execution_count": 177,
   "outputs": [],
   "source": [
    "DBHelper(\"recipe.db\").simple_create_table(\"link\", \"id\", [\"link\", \"photo\"])"
   ],
   "metadata": {
    "collapsed": false,
    "ExecuteTime": {
     "end_time": "2023-06-29T21:13:27.378406200Z",
     "start_time": "2023-06-29T21:13:27.370422700Z"
    }
   }
  },
  {
   "cell_type": "code",
   "execution_count": 166,
   "outputs": [
    {
     "data": {
      "text/plain": "[]"
     },
     "execution_count": 166,
     "metadata": {},
     "output_type": "execute_result"
    }
   ],
   "source": [
    "DBHelper(\"recipe.db\").print_info(\"link\")"
   ],
   "metadata": {
    "collapsed": false,
    "ExecuteTime": {
     "end_time": "2023-06-29T21:00:37.885892600Z",
     "start_time": "2023-06-29T21:00:37.834872200Z"
    }
   }
  },
  {
   "cell_type": "code",
   "execution_count": null,
   "outputs": [],
   "source": [
    "linkers = CrawlerEda().get_links(5)\n",
    "print(len(linkers))\n",
    "for i in linkers:\n",
    "    DBHelper().insert(\"link\", [i.id, i.link, i.photo])"
   ],
   "metadata": {
    "collapsed": false
   }
  }
 ],
 "metadata": {
  "kernelspec": {
   "display_name": "Python 3",
   "language": "python",
   "name": "python3"
  },
  "language_info": {
   "codemirror_mode": {
    "name": "ipython",
    "version": 2
   },
   "file_extension": ".py",
   "mimetype": "text/x-python",
   "name": "python",
   "nbconvert_exporter": "python",
   "pygments_lexer": "ipython2",
   "version": "2.7.6"
  }
 },
 "nbformat": 4,
 "nbformat_minor": 0
}
