{
 "cells": [
  {
   "cell_type": "code",
   "execution_count": 39,
   "metadata": {
    "collapsed": true,
    "ExecuteTime": {
     "end_time": "2023-07-09T17:59:20.809528700Z",
     "start_time": "2023-07-09T17:59:20.796503Z"
    }
   },
   "outputs": [
    {
     "name": "stderr",
     "output_type": "stream",
     "text": [
      "[nltk_data] Downloading package punkt to C:\\Users\\zxc\n",
      "[nltk_data]     ghoul\\AppData\\Roaming\\nltk_data...\n",
      "[nltk_data]   Package punkt is already up-to-date!\n"
     ]
    }
   ],
   "source": [
    "import pandas as pd\n",
    "import sqlite3\n",
    "from sklearn.model_selection import train_test_split\n",
    "import nltk\n",
    "import string\n",
    "from sklearn.ensemble import RandomForestClassifier\n",
    "from sklearn.multiclass import OneVsRestClassifier\n",
    "from nltk.corpus import stopwords\n",
    "from nltk.tokenize import word_tokenize\n",
    "from nltk.stem import SnowballStemmer\n",
    "nltk.download('punkt')\n",
    "from sklearn.pipeline import Pipeline\n",
    "from sklearn.feature_extraction.text import TfidfVectorizer\n",
    "from sklearn.metrics import precision_score, recall_score, precision_recall_curve, accuracy_score,hamming_loss\n",
    "import numpy as np\n",
    "from sklearn.preprocessing import Normalizer\n",
    "from sklearn.base import BaseEstimator, TransformerMixin, ClassifierMixin\n",
    "import joblib"
   ]
  },
  {
   "cell_type": "code",
   "execution_count": 4,
   "outputs": [],
   "source": [
    "db_name = 'recipe.db'\n",
    "conn = sqlite3.connect(db_name)\n",
    "\n",
    "table_name = 'recipe'\n",
    "\n",
    "#забираем доступные категории\n",
    "categories_sql = f\"select c.id, c.name_cat from category c \" \\\n",
    "                 f\"join recipe_categories rc on \" \\\n",
    "                 f\"c.id = rc.cat_id \" \\\n",
    "                 f\"GROUP by c.id \" \\\n",
    "                 f\"HAVING count(*) > 100 \" \\\n",
    "                 f\"ORDER BY c.id\"\n",
    "\n",
    "loaded_categories = pd.read_sql(categories_sql, conn)\n",
    "\n",
    "ids_cat = []\n",
    "for i in range(len(loaded_categories)):\n",
    "    ids_cat.append(str(loaded_categories.id[i]))\n",
    "\n",
    "#забираем способ приготовления рецепта с категориями из доступных с id категорий\n",
    "sql = f\"SELECT r.manual, (SELECT group_concat(rc.cat_id , ', ') \" \\\n",
    "      f\"from recipe_categories rc \" \\\n",
    "      f\"WHERE rc.recipe_id = r.id AND \" \\\n",
    "      f\"rc.cat_id in ({', '.join(ids_cat)})) \" \\\n",
    "      f\"AS categories from recipe r\"\n",
    "\n",
    "loaded_data = pd.read_sql(sql, conn)\n",
    "\n",
    "#pandas data frame\n",
    "conn.close()"
   ],
   "metadata": {
    "collapsed": false,
    "ExecuteTime": {
     "end_time": "2023-07-09T17:15:37.073446300Z",
     "start_time": "2023-07-09T17:15:27.120251100Z"
    }
   }
  },
  {
   "cell_type": "code",
   "execution_count": 5,
   "outputs": [
    {
     "name": "stdout",
     "output_type": "stream",
     "text": [
      "['1', '2', '4', '5', '7', '8', '14', '16', '17', '20', '25', '27', '30', '33', '37', '43', '51', '62', '67', '68', '71', '90', '99', '103', '105', '139', '140', '150', '158', '257']\n"
     ]
    }
   ],
   "source": [
    "ids_cat = []\n",
    "for i in range(len(loaded_categories)):\n",
    "    ids_cat.append(str(loaded_categories.id[i]))\n",
    "\n",
    "print(ids_cat)"
   ],
   "metadata": {
    "collapsed": false,
    "ExecuteTime": {
     "end_time": "2023-07-09T17:15:37.089150300Z",
     "start_time": "2023-07-09T17:15:37.075444300Z"
    }
   }
  },
  {
   "cell_type": "code",
   "execution_count": 6,
   "outputs": [],
   "source": [
    "for i in range(len(ids_cat)):\n",
    "    val = []\n",
    "    for j in range(len(loaded_data)):\n",
    "        spl = str(loaded_data.categories[j]).split(', ')\n",
    "        val.append(int(str(ids_cat[i]) in spl))\n",
    "    loaded_data.insert(loc=len(loaded_data.columns) , column=ids_cat[i], value=val)"
   ],
   "metadata": {
    "collapsed": false,
    "ExecuteTime": {
     "end_time": "2023-07-09T17:15:38.528446800Z",
     "start_time": "2023-07-09T17:15:37.102663700Z"
    }
   }
  },
  {
   "cell_type": "code",
   "execution_count": 7,
   "outputs": [],
   "source": [
    "#делим dataset на тренировочный и тестовый\n",
    "x_train,x_test,y_train,y_test = train_test_split(loaded_data[\"manual\"], loaded_data[ids_cat],test_size=0.3,random_state=42)"
   ],
   "metadata": {
    "collapsed": false,
    "ExecuteTime": {
     "end_time": "2023-07-09T17:15:38.543865500Z",
     "start_time": "2023-07-09T17:15:38.532524200Z"
    }
   }
  },
  {
   "cell_type": "code",
   "execution_count": 15,
   "outputs": [],
   "source": [
    "snowball = SnowballStemmer(language=\"russian\")\n",
    "russian_stop_words = stopwords.words(\"russian\")\n",
    "\n",
    "def tokenize_sentence(sentence: str, remove_stop_words: bool = True):\n",
    "    tokens = word_tokenize(sentence, language=\"russian\")\n",
    "    tokens = [i for i in tokens if i not in string.punctuation]\n",
    "    if remove_stop_words:\n",
    "        tokens = [i for i in tokens if i not in russian_stop_words]\n",
    "    tokens = [snowball.stem(i) for i in tokens]\n",
    "    return tokens"
   ],
   "metadata": {
    "collapsed": false,
    "ExecuteTime": {
     "end_time": "2023-07-09T17:36:48.594517100Z",
     "start_time": "2023-07-09T17:36:48.561416400Z"
    }
   }
  },
  {
   "cell_type": "code",
   "execution_count": 29,
   "outputs": [],
   "source": [
    "class CustomThreshold(BaseEstimator, ClassifierMixin):\n",
    "    \"\"\" Custom threshold wrapper for binary classification\"\"\"\n",
    "    def __init__(self, base, threshold=0.5):\n",
    "        self.base = base\n",
    "        self.threshold = threshold\n",
    "    def fit(self, *args, **kwargs):\n",
    "        self.base.fit(*args, **kwargs)\n",
    "        return self\n",
    "    def predict(self, X):\n",
    "        probabilities = self.base.predict_proba(X)\n",
    "        predictions = np.zeros_like(probabilities)\n",
    "        for i in range(len(loaded_categories)):\n",
    "            predictions[:, i] = (probabilities[:, i] > self.threshold).astype(int)\n",
    "        return predictions"
   ],
   "metadata": {
    "collapsed": false,
    "ExecuteTime": {
     "end_time": "2023-07-09T17:45:51.432075200Z",
     "start_time": "2023-07-09T17:45:51.420500600Z"
    }
   }
  },
  {
   "cell_type": "code",
   "execution_count": 34,
   "outputs": [],
   "source": [
    "model_pipeline = Pipeline([\n",
    "    (\"vectorizer\",  TfidfVectorizer(tokenizer=lambda x: tokenize_sentence(x, remove_stop_words=True), max_features=768)),\n",
    "    (\"normalizer\", Normalizer()),\n",
    "    (\"model\",  OneVsRestClassifier(RandomForestClassifier()))\n",
    "]\n",
    ")"
   ],
   "metadata": {
    "collapsed": false,
    "ExecuteTime": {
     "end_time": "2023-07-09T17:47:23.618714900Z",
     "start_time": "2023-07-09T17:47:23.595566500Z"
    }
   }
  },
  {
   "cell_type": "code",
   "execution_count": 36,
   "outputs": [
    {
     "name": "stderr",
     "output_type": "stream",
     "text": [
      "C:\\Users\\zxc ghoul\\AppData\\Local\\Programs\\Python\\Python39\\lib\\site-packages\\sklearn\\feature_extraction\\text.py:528: UserWarning: The parameter 'token_pattern' will not be used since 'tokenizer' is not None'\n",
      "  warnings.warn(\n"
     ]
    },
    {
     "data": {
      "text/plain": "CustomThreshold(base=Pipeline(steps=[('vectorizer',\n                                      TfidfVectorizer(max_features=768,\n                                                      tokenizer=<function <lambda> at 0x000001CE8B2F2EE0>)),\n                                     ('normalizer', Normalizer()),\n                                     ('model',\n                                      OneVsRestClassifier(estimator=RandomForestClassifier()))]),\n                threshold=0.45)",
      "text/html": "<style>#sk-container-id-4 {color: black;background-color: white;}#sk-container-id-4 pre{padding: 0;}#sk-container-id-4 div.sk-toggleable {background-color: white;}#sk-container-id-4 label.sk-toggleable__label {cursor: pointer;display: block;width: 100%;margin-bottom: 0;padding: 0.3em;box-sizing: border-box;text-align: center;}#sk-container-id-4 label.sk-toggleable__label-arrow:before {content: \"▸\";float: left;margin-right: 0.25em;color: #696969;}#sk-container-id-4 label.sk-toggleable__label-arrow:hover:before {color: black;}#sk-container-id-4 div.sk-estimator:hover label.sk-toggleable__label-arrow:before {color: black;}#sk-container-id-4 div.sk-toggleable__content {max-height: 0;max-width: 0;overflow: hidden;text-align: left;background-color: #f0f8ff;}#sk-container-id-4 div.sk-toggleable__content pre {margin: 0.2em;color: black;border-radius: 0.25em;background-color: #f0f8ff;}#sk-container-id-4 input.sk-toggleable__control:checked~div.sk-toggleable__content {max-height: 200px;max-width: 100%;overflow: auto;}#sk-container-id-4 input.sk-toggleable__control:checked~label.sk-toggleable__label-arrow:before {content: \"▾\";}#sk-container-id-4 div.sk-estimator input.sk-toggleable__control:checked~label.sk-toggleable__label {background-color: #d4ebff;}#sk-container-id-4 div.sk-label input.sk-toggleable__control:checked~label.sk-toggleable__label {background-color: #d4ebff;}#sk-container-id-4 input.sk-hidden--visually {border: 0;clip: rect(1px 1px 1px 1px);clip: rect(1px, 1px, 1px, 1px);height: 1px;margin: -1px;overflow: hidden;padding: 0;position: absolute;width: 1px;}#sk-container-id-4 div.sk-estimator {font-family: monospace;background-color: #f0f8ff;border: 1px dotted black;border-radius: 0.25em;box-sizing: border-box;margin-bottom: 0.5em;}#sk-container-id-4 div.sk-estimator:hover {background-color: #d4ebff;}#sk-container-id-4 div.sk-parallel-item::after {content: \"\";width: 100%;border-bottom: 1px solid gray;flex-grow: 1;}#sk-container-id-4 div.sk-label:hover label.sk-toggleable__label {background-color: #d4ebff;}#sk-container-id-4 div.sk-serial::before {content: \"\";position: absolute;border-left: 1px solid gray;box-sizing: border-box;top: 0;bottom: 0;left: 50%;z-index: 0;}#sk-container-id-4 div.sk-serial {display: flex;flex-direction: column;align-items: center;background-color: white;padding-right: 0.2em;padding-left: 0.2em;position: relative;}#sk-container-id-4 div.sk-item {position: relative;z-index: 1;}#sk-container-id-4 div.sk-parallel {display: flex;align-items: stretch;justify-content: center;background-color: white;position: relative;}#sk-container-id-4 div.sk-item::before, #sk-container-id-4 div.sk-parallel-item::before {content: \"\";position: absolute;border-left: 1px solid gray;box-sizing: border-box;top: 0;bottom: 0;left: 50%;z-index: -1;}#sk-container-id-4 div.sk-parallel-item {display: flex;flex-direction: column;z-index: 1;position: relative;background-color: white;}#sk-container-id-4 div.sk-parallel-item:first-child::after {align-self: flex-end;width: 50%;}#sk-container-id-4 div.sk-parallel-item:last-child::after {align-self: flex-start;width: 50%;}#sk-container-id-4 div.sk-parallel-item:only-child::after {width: 0;}#sk-container-id-4 div.sk-dashed-wrapped {border: 1px dashed gray;margin: 0 0.4em 0.5em 0.4em;box-sizing: border-box;padding-bottom: 0.4em;background-color: white;}#sk-container-id-4 div.sk-label label {font-family: monospace;font-weight: bold;display: inline-block;line-height: 1.2em;}#sk-container-id-4 div.sk-label-container {text-align: center;}#sk-container-id-4 div.sk-container {/* jupyter's `normalize.less` sets `[hidden] { display: none; }` but bootstrap.min.css set `[hidden] { display: none !important; }` so we also need the `!important` here to be able to override the default hidden behavior on the sphinx rendered scikit-learn.org. See: https://github.com/scikit-learn/scikit-learn/issues/21755 */display: inline-block !important;position: relative;}#sk-container-id-4 div.sk-text-repr-fallback {display: none;}</style><div id=\"sk-container-id-4\" class=\"sk-top-container\"><div class=\"sk-text-repr-fallback\"><pre>CustomThreshold(base=Pipeline(steps=[(&#x27;vectorizer&#x27;,\n                                      TfidfVectorizer(max_features=768,\n                                                      tokenizer=&lt;function &lt;lambda&gt; at 0x000001CE8B2F2EE0&gt;)),\n                                     (&#x27;normalizer&#x27;, Normalizer()),\n                                     (&#x27;model&#x27;,\n                                      OneVsRestClassifier(estimator=RandomForestClassifier()))]),\n                threshold=0.45)</pre><b>In a Jupyter environment, please rerun this cell to show the HTML representation or trust the notebook. <br />On GitHub, the HTML representation is unable to render, please try loading this page with nbviewer.org.</b></div><div class=\"sk-container\" hidden><div class=\"sk-item sk-dashed-wrapped\"><div class=\"sk-label-container\"><div class=\"sk-label sk-toggleable\"><input class=\"sk-toggleable__control sk-hidden--visually\" id=\"sk-estimator-id-20\" type=\"checkbox\" ><label for=\"sk-estimator-id-20\" class=\"sk-toggleable__label sk-toggleable__label-arrow\">CustomThreshold</label><div class=\"sk-toggleable__content\"><pre>CustomThreshold(base=Pipeline(steps=[(&#x27;vectorizer&#x27;,\n                                      TfidfVectorizer(max_features=768,\n                                                      tokenizer=&lt;function &lt;lambda&gt; at 0x000001CE8B2F2EE0&gt;)),\n                                     (&#x27;normalizer&#x27;, Normalizer()),\n                                     (&#x27;model&#x27;,\n                                      OneVsRestClassifier(estimator=RandomForestClassifier()))]),\n                threshold=0.45)</pre></div></div></div><div class=\"sk-parallel\"><div class=\"sk-parallel-item\"><div class=\"sk-item\"><div class=\"sk-label-container\"><div class=\"sk-label sk-toggleable\"><input class=\"sk-toggleable__control sk-hidden--visually\" id=\"sk-estimator-id-21\" type=\"checkbox\" ><label for=\"sk-estimator-id-21\" class=\"sk-toggleable__label sk-toggleable__label-arrow\">base: Pipeline</label><div class=\"sk-toggleable__content\"><pre>Pipeline(steps=[(&#x27;vectorizer&#x27;,\n                 TfidfVectorizer(max_features=768,\n                                 tokenizer=&lt;function &lt;lambda&gt; at 0x000001CE8B2F2EE0&gt;)),\n                (&#x27;normalizer&#x27;, Normalizer()),\n                (&#x27;model&#x27;,\n                 OneVsRestClassifier(estimator=RandomForestClassifier()))])</pre></div></div></div><div class=\"sk-serial\"><div class=\"sk-item\"><div class=\"sk-serial\"><div class=\"sk-item\"><div class=\"sk-estimator sk-toggleable\"><input class=\"sk-toggleable__control sk-hidden--visually\" id=\"sk-estimator-id-22\" type=\"checkbox\" ><label for=\"sk-estimator-id-22\" class=\"sk-toggleable__label sk-toggleable__label-arrow\">TfidfVectorizer</label><div class=\"sk-toggleable__content\"><pre>TfidfVectorizer(max_features=768,\n                tokenizer=&lt;function &lt;lambda&gt; at 0x000001CE8B2F2EE0&gt;)</pre></div></div></div><div class=\"sk-item\"><div class=\"sk-estimator sk-toggleable\"><input class=\"sk-toggleable__control sk-hidden--visually\" id=\"sk-estimator-id-23\" type=\"checkbox\" ><label for=\"sk-estimator-id-23\" class=\"sk-toggleable__label sk-toggleable__label-arrow\">Normalizer</label><div class=\"sk-toggleable__content\"><pre>Normalizer()</pre></div></div></div><div class=\"sk-item sk-dashed-wrapped\"><div class=\"sk-label-container\"><div class=\"sk-label sk-toggleable\"><input class=\"sk-toggleable__control sk-hidden--visually\" id=\"sk-estimator-id-24\" type=\"checkbox\" ><label for=\"sk-estimator-id-24\" class=\"sk-toggleable__label sk-toggleable__label-arrow\">model: OneVsRestClassifier</label><div class=\"sk-toggleable__content\"><pre>OneVsRestClassifier(estimator=RandomForestClassifier())</pre></div></div></div><div class=\"sk-parallel\"><div class=\"sk-parallel-item\"><div class=\"sk-item\"><div class=\"sk-label-container\"><div class=\"sk-label sk-toggleable\"><input class=\"sk-toggleable__control sk-hidden--visually\" id=\"sk-estimator-id-25\" type=\"checkbox\" ><label for=\"sk-estimator-id-25\" class=\"sk-toggleable__label sk-toggleable__label-arrow\">estimator: RandomForestClassifier</label><div class=\"sk-toggleable__content\"><pre>RandomForestClassifier()</pre></div></div></div><div class=\"sk-serial\"><div class=\"sk-item\"><div class=\"sk-estimator sk-toggleable\"><input class=\"sk-toggleable__control sk-hidden--visually\" id=\"sk-estimator-id-26\" type=\"checkbox\" ><label for=\"sk-estimator-id-26\" class=\"sk-toggleable__label sk-toggleable__label-arrow\">RandomForestClassifier</label><div class=\"sk-toggleable__content\"><pre>RandomForestClassifier()</pre></div></div></div></div></div></div></div></div></div></div></div></div></div></div></div></div></div>"
     },
     "execution_count": 36,
     "metadata": {},
     "output_type": "execute_result"
    }
   ],
   "source": [
    "clf = CustomThreshold(model_pipeline, 0.45)\n",
    "clf.fit(x_train, y_train)"
   ],
   "metadata": {
    "collapsed": false,
    "ExecuteTime": {
     "end_time": "2023-07-09T17:57:14.945059100Z",
     "start_time": "2023-07-09T17:55:09.751463500Z"
    }
   }
  },
  {
   "cell_type": "code",
   "execution_count": 37,
   "outputs": [
    {
     "data": {
      "text/plain": "0.12005717008099095"
     },
     "execution_count": 37,
     "metadata": {},
     "output_type": "execute_result"
    }
   ],
   "source": [
    "accuracy_score(y_test,clf.predict(x_test))"
   ],
   "metadata": {
    "collapsed": false,
    "ExecuteTime": {
     "end_time": "2023-07-09T17:57:47.228062600Z",
     "start_time": "2023-07-09T17:57:38.287497Z"
    }
   }
  },
  {
   "cell_type": "code",
   "execution_count": 38,
   "outputs": [
    {
     "name": "stderr",
     "output_type": "stream",
     "text": [
      "C:\\Users\\zxc ghoul\\AppData\\Local\\Programs\\Python\\Python39\\lib\\site-packages\\sklearn\\metrics\\_classification.py:1344: UndefinedMetricWarning: Precision is ill-defined and being set to 0.0 in labels with no predicted samples. Use `zero_division` parameter to control this behavior.\n",
      "  _warn_prf(average, modifier, msg_start, len(result))\n"
     ]
    },
    {
     "data": {
      "text/plain": "0.6798496725963014"
     },
     "execution_count": 38,
     "metadata": {},
     "output_type": "execute_result"
    }
   ],
   "source": [
    "precision_score(average='weighted', y_true=y_test, y_pred=clf.predict(x_test))"
   ],
   "metadata": {
    "collapsed": false,
    "ExecuteTime": {
     "end_time": "2023-07-09T17:58:00.139150700Z",
     "start_time": "2023-07-09T17:57:51.660879100Z"
    }
   }
  },
  {
   "cell_type": "code",
   "execution_count": 42,
   "outputs": [
    {
     "ename": "PicklingError",
     "evalue": "Can't pickle <function <lambda> at 0x000001CE8B2F2EE0>: it's not found as __main__.<lambda>",
     "output_type": "error",
     "traceback": [
      "\u001B[1;31m---------------------------------------------------------------------------\u001B[0m",
      "\u001B[1;31mPicklingError\u001B[0m                             Traceback (most recent call last)",
      "Cell \u001B[1;32mIn[42], line 1\u001B[0m\n\u001B[1;32m----> 1\u001B[0m \u001B[43mjoblib\u001B[49m\u001B[38;5;241;43m.\u001B[39;49m\u001B[43mdump\u001B[49m\u001B[43m(\u001B[49m\u001B[43mclf\u001B[49m\u001B[43m,\u001B[49m\u001B[43m \u001B[49m\u001B[38;5;124;43m\"\u001B[39;49m\u001B[38;5;124;43m./clf.joblib\u001B[39;49m\u001B[38;5;124;43m\"\u001B[39;49m\u001B[43m)\u001B[49m\n",
      "File \u001B[1;32m~\\AppData\\Local\\Programs\\Python\\Python39\\lib\\site-packages\\joblib\\numpy_pickle.py:553\u001B[0m, in \u001B[0;36mdump\u001B[1;34m(value, filename, compress, protocol, cache_size)\u001B[0m\n\u001B[0;32m    551\u001B[0m \u001B[38;5;28;01melif\u001B[39;00m is_filename:\n\u001B[0;32m    552\u001B[0m     \u001B[38;5;28;01mwith\u001B[39;00m \u001B[38;5;28mopen\u001B[39m(filename, \u001B[38;5;124m'\u001B[39m\u001B[38;5;124mwb\u001B[39m\u001B[38;5;124m'\u001B[39m) \u001B[38;5;28;01mas\u001B[39;00m f:\n\u001B[1;32m--> 553\u001B[0m         \u001B[43mNumpyPickler\u001B[49m\u001B[43m(\u001B[49m\u001B[43mf\u001B[49m\u001B[43m,\u001B[49m\u001B[43m \u001B[49m\u001B[43mprotocol\u001B[49m\u001B[38;5;241;43m=\u001B[39;49m\u001B[43mprotocol\u001B[49m\u001B[43m)\u001B[49m\u001B[38;5;241;43m.\u001B[39;49m\u001B[43mdump\u001B[49m\u001B[43m(\u001B[49m\u001B[43mvalue\u001B[49m\u001B[43m)\u001B[49m\n\u001B[0;32m    554\u001B[0m \u001B[38;5;28;01melse\u001B[39;00m:\n\u001B[0;32m    555\u001B[0m     NumpyPickler(filename, protocol\u001B[38;5;241m=\u001B[39mprotocol)\u001B[38;5;241m.\u001B[39mdump(value)\n",
      "File \u001B[1;32m~\\AppData\\Local\\Programs\\Python\\Python39\\lib\\pickle.py:487\u001B[0m, in \u001B[0;36m_Pickler.dump\u001B[1;34m(self, obj)\u001B[0m\n\u001B[0;32m    485\u001B[0m \u001B[38;5;28;01mif\u001B[39;00m \u001B[38;5;28mself\u001B[39m\u001B[38;5;241m.\u001B[39mproto \u001B[38;5;241m>\u001B[39m\u001B[38;5;241m=\u001B[39m \u001B[38;5;241m4\u001B[39m:\n\u001B[0;32m    486\u001B[0m     \u001B[38;5;28mself\u001B[39m\u001B[38;5;241m.\u001B[39mframer\u001B[38;5;241m.\u001B[39mstart_framing()\n\u001B[1;32m--> 487\u001B[0m \u001B[38;5;28;43mself\u001B[39;49m\u001B[38;5;241;43m.\u001B[39;49m\u001B[43msave\u001B[49m\u001B[43m(\u001B[49m\u001B[43mobj\u001B[49m\u001B[43m)\u001B[49m\n\u001B[0;32m    488\u001B[0m \u001B[38;5;28mself\u001B[39m\u001B[38;5;241m.\u001B[39mwrite(STOP)\n\u001B[0;32m    489\u001B[0m \u001B[38;5;28mself\u001B[39m\u001B[38;5;241m.\u001B[39mframer\u001B[38;5;241m.\u001B[39mend_framing()\n",
      "File \u001B[1;32m~\\AppData\\Local\\Programs\\Python\\Python39\\lib\\site-packages\\joblib\\numpy_pickle.py:355\u001B[0m, in \u001B[0;36mNumpyPickler.save\u001B[1;34m(self, obj)\u001B[0m\n\u001B[0;32m    352\u001B[0m     wrapper\u001B[38;5;241m.\u001B[39mwrite_array(obj, \u001B[38;5;28mself\u001B[39m)\n\u001B[0;32m    353\u001B[0m     \u001B[38;5;28;01mreturn\u001B[39;00m\n\u001B[1;32m--> 355\u001B[0m \u001B[38;5;28;01mreturn\u001B[39;00m \u001B[43mPickler\u001B[49m\u001B[38;5;241;43m.\u001B[39;49m\u001B[43msave\u001B[49m\u001B[43m(\u001B[49m\u001B[38;5;28;43mself\u001B[39;49m\u001B[43m,\u001B[49m\u001B[43m \u001B[49m\u001B[43mobj\u001B[49m\u001B[43m)\u001B[49m\n",
      "File \u001B[1;32m~\\AppData\\Local\\Programs\\Python\\Python39\\lib\\pickle.py:603\u001B[0m, in \u001B[0;36m_Pickler.save\u001B[1;34m(self, obj, save_persistent_id)\u001B[0m\n\u001B[0;32m    599\u001B[0m     \u001B[38;5;28;01mraise\u001B[39;00m PicklingError(\u001B[38;5;124m\"\u001B[39m\u001B[38;5;124mTuple returned by \u001B[39m\u001B[38;5;132;01m%s\u001B[39;00m\u001B[38;5;124m must have \u001B[39m\u001B[38;5;124m\"\u001B[39m\n\u001B[0;32m    600\u001B[0m                         \u001B[38;5;124m\"\u001B[39m\u001B[38;5;124mtwo to six elements\u001B[39m\u001B[38;5;124m\"\u001B[39m \u001B[38;5;241m%\u001B[39m reduce)\n\u001B[0;32m    602\u001B[0m \u001B[38;5;66;03m# Save the reduce() output and finally memoize the object\u001B[39;00m\n\u001B[1;32m--> 603\u001B[0m \u001B[38;5;28;43mself\u001B[39;49m\u001B[38;5;241;43m.\u001B[39;49m\u001B[43msave_reduce\u001B[49m\u001B[43m(\u001B[49m\u001B[43mobj\u001B[49m\u001B[38;5;241;43m=\u001B[39;49m\u001B[43mobj\u001B[49m\u001B[43m,\u001B[49m\u001B[43m \u001B[49m\u001B[38;5;241;43m*\u001B[39;49m\u001B[43mrv\u001B[49m\u001B[43m)\u001B[49m\n",
      "File \u001B[1;32m~\\AppData\\Local\\Programs\\Python\\Python39\\lib\\pickle.py:717\u001B[0m, in \u001B[0;36m_Pickler.save_reduce\u001B[1;34m(self, func, args, state, listitems, dictitems, state_setter, obj)\u001B[0m\n\u001B[0;32m    715\u001B[0m \u001B[38;5;28;01mif\u001B[39;00m state \u001B[38;5;129;01mis\u001B[39;00m \u001B[38;5;129;01mnot\u001B[39;00m \u001B[38;5;28;01mNone\u001B[39;00m:\n\u001B[0;32m    716\u001B[0m     \u001B[38;5;28;01mif\u001B[39;00m state_setter \u001B[38;5;129;01mis\u001B[39;00m \u001B[38;5;28;01mNone\u001B[39;00m:\n\u001B[1;32m--> 717\u001B[0m         \u001B[43msave\u001B[49m\u001B[43m(\u001B[49m\u001B[43mstate\u001B[49m\u001B[43m)\u001B[49m\n\u001B[0;32m    718\u001B[0m         write(BUILD)\n\u001B[0;32m    719\u001B[0m     \u001B[38;5;28;01melse\u001B[39;00m:\n\u001B[0;32m    720\u001B[0m         \u001B[38;5;66;03m# If a state_setter is specified, call it instead of load_build\u001B[39;00m\n\u001B[0;32m    721\u001B[0m         \u001B[38;5;66;03m# to update obj's with its previous state.\u001B[39;00m\n\u001B[0;32m    722\u001B[0m         \u001B[38;5;66;03m# First, push state_setter and its tuple of expected arguments\u001B[39;00m\n\u001B[0;32m    723\u001B[0m         \u001B[38;5;66;03m# (obj, state) onto the stack.\u001B[39;00m\n",
      "File \u001B[1;32m~\\AppData\\Local\\Programs\\Python\\Python39\\lib\\site-packages\\joblib\\numpy_pickle.py:355\u001B[0m, in \u001B[0;36mNumpyPickler.save\u001B[1;34m(self, obj)\u001B[0m\n\u001B[0;32m    352\u001B[0m     wrapper\u001B[38;5;241m.\u001B[39mwrite_array(obj, \u001B[38;5;28mself\u001B[39m)\n\u001B[0;32m    353\u001B[0m     \u001B[38;5;28;01mreturn\u001B[39;00m\n\u001B[1;32m--> 355\u001B[0m \u001B[38;5;28;01mreturn\u001B[39;00m \u001B[43mPickler\u001B[49m\u001B[38;5;241;43m.\u001B[39;49m\u001B[43msave\u001B[49m\u001B[43m(\u001B[49m\u001B[38;5;28;43mself\u001B[39;49m\u001B[43m,\u001B[49m\u001B[43m \u001B[49m\u001B[43mobj\u001B[49m\u001B[43m)\u001B[49m\n",
      "File \u001B[1;32m~\\AppData\\Local\\Programs\\Python\\Python39\\lib\\pickle.py:560\u001B[0m, in \u001B[0;36m_Pickler.save\u001B[1;34m(self, obj, save_persistent_id)\u001B[0m\n\u001B[0;32m    558\u001B[0m f \u001B[38;5;241m=\u001B[39m \u001B[38;5;28mself\u001B[39m\u001B[38;5;241m.\u001B[39mdispatch\u001B[38;5;241m.\u001B[39mget(t)\n\u001B[0;32m    559\u001B[0m \u001B[38;5;28;01mif\u001B[39;00m f \u001B[38;5;129;01mis\u001B[39;00m \u001B[38;5;129;01mnot\u001B[39;00m \u001B[38;5;28;01mNone\u001B[39;00m:\n\u001B[1;32m--> 560\u001B[0m     \u001B[43mf\u001B[49m\u001B[43m(\u001B[49m\u001B[38;5;28;43mself\u001B[39;49m\u001B[43m,\u001B[49m\u001B[43m \u001B[49m\u001B[43mobj\u001B[49m\u001B[43m)\u001B[49m  \u001B[38;5;66;03m# Call unbound method with explicit self\u001B[39;00m\n\u001B[0;32m    561\u001B[0m     \u001B[38;5;28;01mreturn\u001B[39;00m\n\u001B[0;32m    563\u001B[0m \u001B[38;5;66;03m# Check private dispatch table if any, or else\u001B[39;00m\n\u001B[0;32m    564\u001B[0m \u001B[38;5;66;03m# copyreg.dispatch_table\u001B[39;00m\n",
      "File \u001B[1;32m~\\AppData\\Local\\Programs\\Python\\Python39\\lib\\pickle.py:971\u001B[0m, in \u001B[0;36m_Pickler.save_dict\u001B[1;34m(self, obj)\u001B[0m\n\u001B[0;32m    968\u001B[0m     \u001B[38;5;28mself\u001B[39m\u001B[38;5;241m.\u001B[39mwrite(MARK \u001B[38;5;241m+\u001B[39m DICT)\n\u001B[0;32m    970\u001B[0m \u001B[38;5;28mself\u001B[39m\u001B[38;5;241m.\u001B[39mmemoize(obj)\n\u001B[1;32m--> 971\u001B[0m \u001B[38;5;28;43mself\u001B[39;49m\u001B[38;5;241;43m.\u001B[39;49m\u001B[43m_batch_setitems\u001B[49m\u001B[43m(\u001B[49m\u001B[43mobj\u001B[49m\u001B[38;5;241;43m.\u001B[39;49m\u001B[43mitems\u001B[49m\u001B[43m(\u001B[49m\u001B[43m)\u001B[49m\u001B[43m)\u001B[49m\n",
      "File \u001B[1;32m~\\AppData\\Local\\Programs\\Python\\Python39\\lib\\pickle.py:997\u001B[0m, in \u001B[0;36m_Pickler._batch_setitems\u001B[1;34m(self, items)\u001B[0m\n\u001B[0;32m    995\u001B[0m     \u001B[38;5;28;01mfor\u001B[39;00m k, v \u001B[38;5;129;01min\u001B[39;00m tmp:\n\u001B[0;32m    996\u001B[0m         save(k)\n\u001B[1;32m--> 997\u001B[0m         \u001B[43msave\u001B[49m\u001B[43m(\u001B[49m\u001B[43mv\u001B[49m\u001B[43m)\u001B[49m\n\u001B[0;32m    998\u001B[0m     write(SETITEMS)\n\u001B[0;32m    999\u001B[0m \u001B[38;5;28;01melif\u001B[39;00m n:\n",
      "File \u001B[1;32m~\\AppData\\Local\\Programs\\Python\\Python39\\lib\\site-packages\\joblib\\numpy_pickle.py:355\u001B[0m, in \u001B[0;36mNumpyPickler.save\u001B[1;34m(self, obj)\u001B[0m\n\u001B[0;32m    352\u001B[0m     wrapper\u001B[38;5;241m.\u001B[39mwrite_array(obj, \u001B[38;5;28mself\u001B[39m)\n\u001B[0;32m    353\u001B[0m     \u001B[38;5;28;01mreturn\u001B[39;00m\n\u001B[1;32m--> 355\u001B[0m \u001B[38;5;28;01mreturn\u001B[39;00m \u001B[43mPickler\u001B[49m\u001B[38;5;241;43m.\u001B[39;49m\u001B[43msave\u001B[49m\u001B[43m(\u001B[49m\u001B[38;5;28;43mself\u001B[39;49m\u001B[43m,\u001B[49m\u001B[43m \u001B[49m\u001B[43mobj\u001B[49m\u001B[43m)\u001B[49m\n",
      "File \u001B[1;32m~\\AppData\\Local\\Programs\\Python\\Python39\\lib\\pickle.py:603\u001B[0m, in \u001B[0;36m_Pickler.save\u001B[1;34m(self, obj, save_persistent_id)\u001B[0m\n\u001B[0;32m    599\u001B[0m     \u001B[38;5;28;01mraise\u001B[39;00m PicklingError(\u001B[38;5;124m\"\u001B[39m\u001B[38;5;124mTuple returned by \u001B[39m\u001B[38;5;132;01m%s\u001B[39;00m\u001B[38;5;124m must have \u001B[39m\u001B[38;5;124m\"\u001B[39m\n\u001B[0;32m    600\u001B[0m                         \u001B[38;5;124m\"\u001B[39m\u001B[38;5;124mtwo to six elements\u001B[39m\u001B[38;5;124m\"\u001B[39m \u001B[38;5;241m%\u001B[39m reduce)\n\u001B[0;32m    602\u001B[0m \u001B[38;5;66;03m# Save the reduce() output and finally memoize the object\u001B[39;00m\n\u001B[1;32m--> 603\u001B[0m \u001B[38;5;28;43mself\u001B[39;49m\u001B[38;5;241;43m.\u001B[39;49m\u001B[43msave_reduce\u001B[49m\u001B[43m(\u001B[49m\u001B[43mobj\u001B[49m\u001B[38;5;241;43m=\u001B[39;49m\u001B[43mobj\u001B[49m\u001B[43m,\u001B[49m\u001B[43m \u001B[49m\u001B[38;5;241;43m*\u001B[39;49m\u001B[43mrv\u001B[49m\u001B[43m)\u001B[49m\n",
      "File \u001B[1;32m~\\AppData\\Local\\Programs\\Python\\Python39\\lib\\pickle.py:717\u001B[0m, in \u001B[0;36m_Pickler.save_reduce\u001B[1;34m(self, func, args, state, listitems, dictitems, state_setter, obj)\u001B[0m\n\u001B[0;32m    715\u001B[0m \u001B[38;5;28;01mif\u001B[39;00m state \u001B[38;5;129;01mis\u001B[39;00m \u001B[38;5;129;01mnot\u001B[39;00m \u001B[38;5;28;01mNone\u001B[39;00m:\n\u001B[0;32m    716\u001B[0m     \u001B[38;5;28;01mif\u001B[39;00m state_setter \u001B[38;5;129;01mis\u001B[39;00m \u001B[38;5;28;01mNone\u001B[39;00m:\n\u001B[1;32m--> 717\u001B[0m         \u001B[43msave\u001B[49m\u001B[43m(\u001B[49m\u001B[43mstate\u001B[49m\u001B[43m)\u001B[49m\n\u001B[0;32m    718\u001B[0m         write(BUILD)\n\u001B[0;32m    719\u001B[0m     \u001B[38;5;28;01melse\u001B[39;00m:\n\u001B[0;32m    720\u001B[0m         \u001B[38;5;66;03m# If a state_setter is specified, call it instead of load_build\u001B[39;00m\n\u001B[0;32m    721\u001B[0m         \u001B[38;5;66;03m# to update obj's with its previous state.\u001B[39;00m\n\u001B[0;32m    722\u001B[0m         \u001B[38;5;66;03m# First, push state_setter and its tuple of expected arguments\u001B[39;00m\n\u001B[0;32m    723\u001B[0m         \u001B[38;5;66;03m# (obj, state) onto the stack.\u001B[39;00m\n",
      "File \u001B[1;32m~\\AppData\\Local\\Programs\\Python\\Python39\\lib\\site-packages\\joblib\\numpy_pickle.py:355\u001B[0m, in \u001B[0;36mNumpyPickler.save\u001B[1;34m(self, obj)\u001B[0m\n\u001B[0;32m    352\u001B[0m     wrapper\u001B[38;5;241m.\u001B[39mwrite_array(obj, \u001B[38;5;28mself\u001B[39m)\n\u001B[0;32m    353\u001B[0m     \u001B[38;5;28;01mreturn\u001B[39;00m\n\u001B[1;32m--> 355\u001B[0m \u001B[38;5;28;01mreturn\u001B[39;00m \u001B[43mPickler\u001B[49m\u001B[38;5;241;43m.\u001B[39;49m\u001B[43msave\u001B[49m\u001B[43m(\u001B[49m\u001B[38;5;28;43mself\u001B[39;49m\u001B[43m,\u001B[49m\u001B[43m \u001B[49m\u001B[43mobj\u001B[49m\u001B[43m)\u001B[49m\n",
      "File \u001B[1;32m~\\AppData\\Local\\Programs\\Python\\Python39\\lib\\pickle.py:560\u001B[0m, in \u001B[0;36m_Pickler.save\u001B[1;34m(self, obj, save_persistent_id)\u001B[0m\n\u001B[0;32m    558\u001B[0m f \u001B[38;5;241m=\u001B[39m \u001B[38;5;28mself\u001B[39m\u001B[38;5;241m.\u001B[39mdispatch\u001B[38;5;241m.\u001B[39mget(t)\n\u001B[0;32m    559\u001B[0m \u001B[38;5;28;01mif\u001B[39;00m f \u001B[38;5;129;01mis\u001B[39;00m \u001B[38;5;129;01mnot\u001B[39;00m \u001B[38;5;28;01mNone\u001B[39;00m:\n\u001B[1;32m--> 560\u001B[0m     \u001B[43mf\u001B[49m\u001B[43m(\u001B[49m\u001B[38;5;28;43mself\u001B[39;49m\u001B[43m,\u001B[49m\u001B[43m \u001B[49m\u001B[43mobj\u001B[49m\u001B[43m)\u001B[49m  \u001B[38;5;66;03m# Call unbound method with explicit self\u001B[39;00m\n\u001B[0;32m    561\u001B[0m     \u001B[38;5;28;01mreturn\u001B[39;00m\n\u001B[0;32m    563\u001B[0m \u001B[38;5;66;03m# Check private dispatch table if any, or else\u001B[39;00m\n\u001B[0;32m    564\u001B[0m \u001B[38;5;66;03m# copyreg.dispatch_table\u001B[39;00m\n",
      "File \u001B[1;32m~\\AppData\\Local\\Programs\\Python\\Python39\\lib\\pickle.py:971\u001B[0m, in \u001B[0;36m_Pickler.save_dict\u001B[1;34m(self, obj)\u001B[0m\n\u001B[0;32m    968\u001B[0m     \u001B[38;5;28mself\u001B[39m\u001B[38;5;241m.\u001B[39mwrite(MARK \u001B[38;5;241m+\u001B[39m DICT)\n\u001B[0;32m    970\u001B[0m \u001B[38;5;28mself\u001B[39m\u001B[38;5;241m.\u001B[39mmemoize(obj)\n\u001B[1;32m--> 971\u001B[0m \u001B[38;5;28;43mself\u001B[39;49m\u001B[38;5;241;43m.\u001B[39;49m\u001B[43m_batch_setitems\u001B[49m\u001B[43m(\u001B[49m\u001B[43mobj\u001B[49m\u001B[38;5;241;43m.\u001B[39;49m\u001B[43mitems\u001B[49m\u001B[43m(\u001B[49m\u001B[43m)\u001B[49m\u001B[43m)\u001B[49m\n",
      "File \u001B[1;32m~\\AppData\\Local\\Programs\\Python\\Python39\\lib\\pickle.py:997\u001B[0m, in \u001B[0;36m_Pickler._batch_setitems\u001B[1;34m(self, items)\u001B[0m\n\u001B[0;32m    995\u001B[0m     \u001B[38;5;28;01mfor\u001B[39;00m k, v \u001B[38;5;129;01min\u001B[39;00m tmp:\n\u001B[0;32m    996\u001B[0m         save(k)\n\u001B[1;32m--> 997\u001B[0m         \u001B[43msave\u001B[49m\u001B[43m(\u001B[49m\u001B[43mv\u001B[49m\u001B[43m)\u001B[49m\n\u001B[0;32m    998\u001B[0m     write(SETITEMS)\n\u001B[0;32m    999\u001B[0m \u001B[38;5;28;01melif\u001B[39;00m n:\n",
      "File \u001B[1;32m~\\AppData\\Local\\Programs\\Python\\Python39\\lib\\site-packages\\joblib\\numpy_pickle.py:355\u001B[0m, in \u001B[0;36mNumpyPickler.save\u001B[1;34m(self, obj)\u001B[0m\n\u001B[0;32m    352\u001B[0m     wrapper\u001B[38;5;241m.\u001B[39mwrite_array(obj, \u001B[38;5;28mself\u001B[39m)\n\u001B[0;32m    353\u001B[0m     \u001B[38;5;28;01mreturn\u001B[39;00m\n\u001B[1;32m--> 355\u001B[0m \u001B[38;5;28;01mreturn\u001B[39;00m \u001B[43mPickler\u001B[49m\u001B[38;5;241;43m.\u001B[39;49m\u001B[43msave\u001B[49m\u001B[43m(\u001B[49m\u001B[38;5;28;43mself\u001B[39;49m\u001B[43m,\u001B[49m\u001B[43m \u001B[49m\u001B[43mobj\u001B[49m\u001B[43m)\u001B[49m\n",
      "File \u001B[1;32m~\\AppData\\Local\\Programs\\Python\\Python39\\lib\\pickle.py:560\u001B[0m, in \u001B[0;36m_Pickler.save\u001B[1;34m(self, obj, save_persistent_id)\u001B[0m\n\u001B[0;32m    558\u001B[0m f \u001B[38;5;241m=\u001B[39m \u001B[38;5;28mself\u001B[39m\u001B[38;5;241m.\u001B[39mdispatch\u001B[38;5;241m.\u001B[39mget(t)\n\u001B[0;32m    559\u001B[0m \u001B[38;5;28;01mif\u001B[39;00m f \u001B[38;5;129;01mis\u001B[39;00m \u001B[38;5;129;01mnot\u001B[39;00m \u001B[38;5;28;01mNone\u001B[39;00m:\n\u001B[1;32m--> 560\u001B[0m     \u001B[43mf\u001B[49m\u001B[43m(\u001B[49m\u001B[38;5;28;43mself\u001B[39;49m\u001B[43m,\u001B[49m\u001B[43m \u001B[49m\u001B[43mobj\u001B[49m\u001B[43m)\u001B[49m  \u001B[38;5;66;03m# Call unbound method with explicit self\u001B[39;00m\n\u001B[0;32m    561\u001B[0m     \u001B[38;5;28;01mreturn\u001B[39;00m\n\u001B[0;32m    563\u001B[0m \u001B[38;5;66;03m# Check private dispatch table if any, or else\u001B[39;00m\n\u001B[0;32m    564\u001B[0m \u001B[38;5;66;03m# copyreg.dispatch_table\u001B[39;00m\n",
      "File \u001B[1;32m~\\AppData\\Local\\Programs\\Python\\Python39\\lib\\pickle.py:931\u001B[0m, in \u001B[0;36m_Pickler.save_list\u001B[1;34m(self, obj)\u001B[0m\n\u001B[0;32m    928\u001B[0m     \u001B[38;5;28mself\u001B[39m\u001B[38;5;241m.\u001B[39mwrite(MARK \u001B[38;5;241m+\u001B[39m LIST)\n\u001B[0;32m    930\u001B[0m \u001B[38;5;28mself\u001B[39m\u001B[38;5;241m.\u001B[39mmemoize(obj)\n\u001B[1;32m--> 931\u001B[0m \u001B[38;5;28;43mself\u001B[39;49m\u001B[38;5;241;43m.\u001B[39;49m\u001B[43m_batch_appends\u001B[49m\u001B[43m(\u001B[49m\u001B[43mobj\u001B[49m\u001B[43m)\u001B[49m\n",
      "File \u001B[1;32m~\\AppData\\Local\\Programs\\Python\\Python39\\lib\\pickle.py:955\u001B[0m, in \u001B[0;36m_Pickler._batch_appends\u001B[1;34m(self, items)\u001B[0m\n\u001B[0;32m    953\u001B[0m     write(MARK)\n\u001B[0;32m    954\u001B[0m     \u001B[38;5;28;01mfor\u001B[39;00m x \u001B[38;5;129;01min\u001B[39;00m tmp:\n\u001B[1;32m--> 955\u001B[0m         \u001B[43msave\u001B[49m\u001B[43m(\u001B[49m\u001B[43mx\u001B[49m\u001B[43m)\u001B[49m\n\u001B[0;32m    956\u001B[0m     write(APPENDS)\n\u001B[0;32m    957\u001B[0m \u001B[38;5;28;01melif\u001B[39;00m n:\n",
      "File \u001B[1;32m~\\AppData\\Local\\Programs\\Python\\Python39\\lib\\site-packages\\joblib\\numpy_pickle.py:355\u001B[0m, in \u001B[0;36mNumpyPickler.save\u001B[1;34m(self, obj)\u001B[0m\n\u001B[0;32m    352\u001B[0m     wrapper\u001B[38;5;241m.\u001B[39mwrite_array(obj, \u001B[38;5;28mself\u001B[39m)\n\u001B[0;32m    353\u001B[0m     \u001B[38;5;28;01mreturn\u001B[39;00m\n\u001B[1;32m--> 355\u001B[0m \u001B[38;5;28;01mreturn\u001B[39;00m \u001B[43mPickler\u001B[49m\u001B[38;5;241;43m.\u001B[39;49m\u001B[43msave\u001B[49m\u001B[43m(\u001B[49m\u001B[38;5;28;43mself\u001B[39;49m\u001B[43m,\u001B[49m\u001B[43m \u001B[49m\u001B[43mobj\u001B[49m\u001B[43m)\u001B[49m\n",
      "File \u001B[1;32m~\\AppData\\Local\\Programs\\Python\\Python39\\lib\\pickle.py:560\u001B[0m, in \u001B[0;36m_Pickler.save\u001B[1;34m(self, obj, save_persistent_id)\u001B[0m\n\u001B[0;32m    558\u001B[0m f \u001B[38;5;241m=\u001B[39m \u001B[38;5;28mself\u001B[39m\u001B[38;5;241m.\u001B[39mdispatch\u001B[38;5;241m.\u001B[39mget(t)\n\u001B[0;32m    559\u001B[0m \u001B[38;5;28;01mif\u001B[39;00m f \u001B[38;5;129;01mis\u001B[39;00m \u001B[38;5;129;01mnot\u001B[39;00m \u001B[38;5;28;01mNone\u001B[39;00m:\n\u001B[1;32m--> 560\u001B[0m     \u001B[43mf\u001B[49m\u001B[43m(\u001B[49m\u001B[38;5;28;43mself\u001B[39;49m\u001B[43m,\u001B[49m\u001B[43m \u001B[49m\u001B[43mobj\u001B[49m\u001B[43m)\u001B[49m  \u001B[38;5;66;03m# Call unbound method with explicit self\u001B[39;00m\n\u001B[0;32m    561\u001B[0m     \u001B[38;5;28;01mreturn\u001B[39;00m\n\u001B[0;32m    563\u001B[0m \u001B[38;5;66;03m# Check private dispatch table if any, or else\u001B[39;00m\n\u001B[0;32m    564\u001B[0m \u001B[38;5;66;03m# copyreg.dispatch_table\u001B[39;00m\n",
      "File \u001B[1;32m~\\AppData\\Local\\Programs\\Python\\Python39\\lib\\pickle.py:886\u001B[0m, in \u001B[0;36m_Pickler.save_tuple\u001B[1;34m(self, obj)\u001B[0m\n\u001B[0;32m    884\u001B[0m \u001B[38;5;28;01mif\u001B[39;00m n \u001B[38;5;241m<\u001B[39m\u001B[38;5;241m=\u001B[39m \u001B[38;5;241m3\u001B[39m \u001B[38;5;129;01mand\u001B[39;00m \u001B[38;5;28mself\u001B[39m\u001B[38;5;241m.\u001B[39mproto \u001B[38;5;241m>\u001B[39m\u001B[38;5;241m=\u001B[39m \u001B[38;5;241m2\u001B[39m:\n\u001B[0;32m    885\u001B[0m     \u001B[38;5;28;01mfor\u001B[39;00m element \u001B[38;5;129;01min\u001B[39;00m obj:\n\u001B[1;32m--> 886\u001B[0m         \u001B[43msave\u001B[49m\u001B[43m(\u001B[49m\u001B[43melement\u001B[49m\u001B[43m)\u001B[49m\n\u001B[0;32m    887\u001B[0m     \u001B[38;5;66;03m# Subtle.  Same as in the big comment below.\u001B[39;00m\n\u001B[0;32m    888\u001B[0m     \u001B[38;5;28;01mif\u001B[39;00m \u001B[38;5;28mid\u001B[39m(obj) \u001B[38;5;129;01min\u001B[39;00m memo:\n",
      "File \u001B[1;32m~\\AppData\\Local\\Programs\\Python\\Python39\\lib\\site-packages\\joblib\\numpy_pickle.py:355\u001B[0m, in \u001B[0;36mNumpyPickler.save\u001B[1;34m(self, obj)\u001B[0m\n\u001B[0;32m    352\u001B[0m     wrapper\u001B[38;5;241m.\u001B[39mwrite_array(obj, \u001B[38;5;28mself\u001B[39m)\n\u001B[0;32m    353\u001B[0m     \u001B[38;5;28;01mreturn\u001B[39;00m\n\u001B[1;32m--> 355\u001B[0m \u001B[38;5;28;01mreturn\u001B[39;00m \u001B[43mPickler\u001B[49m\u001B[38;5;241;43m.\u001B[39;49m\u001B[43msave\u001B[49m\u001B[43m(\u001B[49m\u001B[38;5;28;43mself\u001B[39;49m\u001B[43m,\u001B[49m\u001B[43m \u001B[49m\u001B[43mobj\u001B[49m\u001B[43m)\u001B[49m\n",
      "File \u001B[1;32m~\\AppData\\Local\\Programs\\Python\\Python39\\lib\\pickle.py:603\u001B[0m, in \u001B[0;36m_Pickler.save\u001B[1;34m(self, obj, save_persistent_id)\u001B[0m\n\u001B[0;32m    599\u001B[0m     \u001B[38;5;28;01mraise\u001B[39;00m PicklingError(\u001B[38;5;124m\"\u001B[39m\u001B[38;5;124mTuple returned by \u001B[39m\u001B[38;5;132;01m%s\u001B[39;00m\u001B[38;5;124m must have \u001B[39m\u001B[38;5;124m\"\u001B[39m\n\u001B[0;32m    600\u001B[0m                         \u001B[38;5;124m\"\u001B[39m\u001B[38;5;124mtwo to six elements\u001B[39m\u001B[38;5;124m\"\u001B[39m \u001B[38;5;241m%\u001B[39m reduce)\n\u001B[0;32m    602\u001B[0m \u001B[38;5;66;03m# Save the reduce() output and finally memoize the object\u001B[39;00m\n\u001B[1;32m--> 603\u001B[0m \u001B[38;5;28;43mself\u001B[39;49m\u001B[38;5;241;43m.\u001B[39;49m\u001B[43msave_reduce\u001B[49m\u001B[43m(\u001B[49m\u001B[43mobj\u001B[49m\u001B[38;5;241;43m=\u001B[39;49m\u001B[43mobj\u001B[49m\u001B[43m,\u001B[49m\u001B[43m \u001B[49m\u001B[38;5;241;43m*\u001B[39;49m\u001B[43mrv\u001B[49m\u001B[43m)\u001B[49m\n",
      "File \u001B[1;32m~\\AppData\\Local\\Programs\\Python\\Python39\\lib\\pickle.py:717\u001B[0m, in \u001B[0;36m_Pickler.save_reduce\u001B[1;34m(self, func, args, state, listitems, dictitems, state_setter, obj)\u001B[0m\n\u001B[0;32m    715\u001B[0m \u001B[38;5;28;01mif\u001B[39;00m state \u001B[38;5;129;01mis\u001B[39;00m \u001B[38;5;129;01mnot\u001B[39;00m \u001B[38;5;28;01mNone\u001B[39;00m:\n\u001B[0;32m    716\u001B[0m     \u001B[38;5;28;01mif\u001B[39;00m state_setter \u001B[38;5;129;01mis\u001B[39;00m \u001B[38;5;28;01mNone\u001B[39;00m:\n\u001B[1;32m--> 717\u001B[0m         \u001B[43msave\u001B[49m\u001B[43m(\u001B[49m\u001B[43mstate\u001B[49m\u001B[43m)\u001B[49m\n\u001B[0;32m    718\u001B[0m         write(BUILD)\n\u001B[0;32m    719\u001B[0m     \u001B[38;5;28;01melse\u001B[39;00m:\n\u001B[0;32m    720\u001B[0m         \u001B[38;5;66;03m# If a state_setter is specified, call it instead of load_build\u001B[39;00m\n\u001B[0;32m    721\u001B[0m         \u001B[38;5;66;03m# to update obj's with its previous state.\u001B[39;00m\n\u001B[0;32m    722\u001B[0m         \u001B[38;5;66;03m# First, push state_setter and its tuple of expected arguments\u001B[39;00m\n\u001B[0;32m    723\u001B[0m         \u001B[38;5;66;03m# (obj, state) onto the stack.\u001B[39;00m\n",
      "File \u001B[1;32m~\\AppData\\Local\\Programs\\Python\\Python39\\lib\\site-packages\\joblib\\numpy_pickle.py:355\u001B[0m, in \u001B[0;36mNumpyPickler.save\u001B[1;34m(self, obj)\u001B[0m\n\u001B[0;32m    352\u001B[0m     wrapper\u001B[38;5;241m.\u001B[39mwrite_array(obj, \u001B[38;5;28mself\u001B[39m)\n\u001B[0;32m    353\u001B[0m     \u001B[38;5;28;01mreturn\u001B[39;00m\n\u001B[1;32m--> 355\u001B[0m \u001B[38;5;28;01mreturn\u001B[39;00m \u001B[43mPickler\u001B[49m\u001B[38;5;241;43m.\u001B[39;49m\u001B[43msave\u001B[49m\u001B[43m(\u001B[49m\u001B[38;5;28;43mself\u001B[39;49m\u001B[43m,\u001B[49m\u001B[43m \u001B[49m\u001B[43mobj\u001B[49m\u001B[43m)\u001B[49m\n",
      "File \u001B[1;32m~\\AppData\\Local\\Programs\\Python\\Python39\\lib\\pickle.py:560\u001B[0m, in \u001B[0;36m_Pickler.save\u001B[1;34m(self, obj, save_persistent_id)\u001B[0m\n\u001B[0;32m    558\u001B[0m f \u001B[38;5;241m=\u001B[39m \u001B[38;5;28mself\u001B[39m\u001B[38;5;241m.\u001B[39mdispatch\u001B[38;5;241m.\u001B[39mget(t)\n\u001B[0;32m    559\u001B[0m \u001B[38;5;28;01mif\u001B[39;00m f \u001B[38;5;129;01mis\u001B[39;00m \u001B[38;5;129;01mnot\u001B[39;00m \u001B[38;5;28;01mNone\u001B[39;00m:\n\u001B[1;32m--> 560\u001B[0m     \u001B[43mf\u001B[49m\u001B[43m(\u001B[49m\u001B[38;5;28;43mself\u001B[39;49m\u001B[43m,\u001B[49m\u001B[43m \u001B[49m\u001B[43mobj\u001B[49m\u001B[43m)\u001B[49m  \u001B[38;5;66;03m# Call unbound method with explicit self\u001B[39;00m\n\u001B[0;32m    561\u001B[0m     \u001B[38;5;28;01mreturn\u001B[39;00m\n\u001B[0;32m    563\u001B[0m \u001B[38;5;66;03m# Check private dispatch table if any, or else\u001B[39;00m\n\u001B[0;32m    564\u001B[0m \u001B[38;5;66;03m# copyreg.dispatch_table\u001B[39;00m\n",
      "File \u001B[1;32m~\\AppData\\Local\\Programs\\Python\\Python39\\lib\\pickle.py:971\u001B[0m, in \u001B[0;36m_Pickler.save_dict\u001B[1;34m(self, obj)\u001B[0m\n\u001B[0;32m    968\u001B[0m     \u001B[38;5;28mself\u001B[39m\u001B[38;5;241m.\u001B[39mwrite(MARK \u001B[38;5;241m+\u001B[39m DICT)\n\u001B[0;32m    970\u001B[0m \u001B[38;5;28mself\u001B[39m\u001B[38;5;241m.\u001B[39mmemoize(obj)\n\u001B[1;32m--> 971\u001B[0m \u001B[38;5;28;43mself\u001B[39;49m\u001B[38;5;241;43m.\u001B[39;49m\u001B[43m_batch_setitems\u001B[49m\u001B[43m(\u001B[49m\u001B[43mobj\u001B[49m\u001B[38;5;241;43m.\u001B[39;49m\u001B[43mitems\u001B[49m\u001B[43m(\u001B[49m\u001B[43m)\u001B[49m\u001B[43m)\u001B[49m\n",
      "File \u001B[1;32m~\\AppData\\Local\\Programs\\Python\\Python39\\lib\\pickle.py:997\u001B[0m, in \u001B[0;36m_Pickler._batch_setitems\u001B[1;34m(self, items)\u001B[0m\n\u001B[0;32m    995\u001B[0m     \u001B[38;5;28;01mfor\u001B[39;00m k, v \u001B[38;5;129;01min\u001B[39;00m tmp:\n\u001B[0;32m    996\u001B[0m         save(k)\n\u001B[1;32m--> 997\u001B[0m         \u001B[43msave\u001B[49m\u001B[43m(\u001B[49m\u001B[43mv\u001B[49m\u001B[43m)\u001B[49m\n\u001B[0;32m    998\u001B[0m     write(SETITEMS)\n\u001B[0;32m    999\u001B[0m \u001B[38;5;28;01melif\u001B[39;00m n:\n",
      "File \u001B[1;32m~\\AppData\\Local\\Programs\\Python\\Python39\\lib\\site-packages\\joblib\\numpy_pickle.py:355\u001B[0m, in \u001B[0;36mNumpyPickler.save\u001B[1;34m(self, obj)\u001B[0m\n\u001B[0;32m    352\u001B[0m     wrapper\u001B[38;5;241m.\u001B[39mwrite_array(obj, \u001B[38;5;28mself\u001B[39m)\n\u001B[0;32m    353\u001B[0m     \u001B[38;5;28;01mreturn\u001B[39;00m\n\u001B[1;32m--> 355\u001B[0m \u001B[38;5;28;01mreturn\u001B[39;00m \u001B[43mPickler\u001B[49m\u001B[38;5;241;43m.\u001B[39;49m\u001B[43msave\u001B[49m\u001B[43m(\u001B[49m\u001B[38;5;28;43mself\u001B[39;49m\u001B[43m,\u001B[49m\u001B[43m \u001B[49m\u001B[43mobj\u001B[49m\u001B[43m)\u001B[49m\n",
      "File \u001B[1;32m~\\AppData\\Local\\Programs\\Python\\Python39\\lib\\pickle.py:560\u001B[0m, in \u001B[0;36m_Pickler.save\u001B[1;34m(self, obj, save_persistent_id)\u001B[0m\n\u001B[0;32m    558\u001B[0m f \u001B[38;5;241m=\u001B[39m \u001B[38;5;28mself\u001B[39m\u001B[38;5;241m.\u001B[39mdispatch\u001B[38;5;241m.\u001B[39mget(t)\n\u001B[0;32m    559\u001B[0m \u001B[38;5;28;01mif\u001B[39;00m f \u001B[38;5;129;01mis\u001B[39;00m \u001B[38;5;129;01mnot\u001B[39;00m \u001B[38;5;28;01mNone\u001B[39;00m:\n\u001B[1;32m--> 560\u001B[0m     \u001B[43mf\u001B[49m\u001B[43m(\u001B[49m\u001B[38;5;28;43mself\u001B[39;49m\u001B[43m,\u001B[49m\u001B[43m \u001B[49m\u001B[43mobj\u001B[49m\u001B[43m)\u001B[49m  \u001B[38;5;66;03m# Call unbound method with explicit self\u001B[39;00m\n\u001B[0;32m    561\u001B[0m     \u001B[38;5;28;01mreturn\u001B[39;00m\n\u001B[0;32m    563\u001B[0m \u001B[38;5;66;03m# Check private dispatch table if any, or else\u001B[39;00m\n\u001B[0;32m    564\u001B[0m \u001B[38;5;66;03m# copyreg.dispatch_table\u001B[39;00m\n",
      "File \u001B[1;32m~\\AppData\\Local\\Programs\\Python\\Python39\\lib\\pickle.py:1070\u001B[0m, in \u001B[0;36m_Pickler.save_global\u001B[1;34m(self, obj, name)\u001B[0m\n\u001B[0;32m   1068\u001B[0m     obj2, parent \u001B[38;5;241m=\u001B[39m _getattribute(module, name)\n\u001B[0;32m   1069\u001B[0m \u001B[38;5;28;01mexcept\u001B[39;00m (\u001B[38;5;167;01mImportError\u001B[39;00m, \u001B[38;5;167;01mKeyError\u001B[39;00m, \u001B[38;5;167;01mAttributeError\u001B[39;00m):\n\u001B[1;32m-> 1070\u001B[0m     \u001B[38;5;28;01mraise\u001B[39;00m PicklingError(\n\u001B[0;32m   1071\u001B[0m         \u001B[38;5;124m\"\u001B[39m\u001B[38;5;124mCan\u001B[39m\u001B[38;5;124m'\u001B[39m\u001B[38;5;124mt pickle \u001B[39m\u001B[38;5;132;01m%r\u001B[39;00m\u001B[38;5;124m: it\u001B[39m\u001B[38;5;124m'\u001B[39m\u001B[38;5;124ms not found as \u001B[39m\u001B[38;5;132;01m%s\u001B[39;00m\u001B[38;5;124m.\u001B[39m\u001B[38;5;132;01m%s\u001B[39;00m\u001B[38;5;124m\"\u001B[39m \u001B[38;5;241m%\u001B[39m\n\u001B[0;32m   1072\u001B[0m         (obj, module_name, name)) \u001B[38;5;28;01mfrom\u001B[39;00m \u001B[38;5;28;01mNone\u001B[39;00m\n\u001B[0;32m   1073\u001B[0m \u001B[38;5;28;01melse\u001B[39;00m:\n\u001B[0;32m   1074\u001B[0m     \u001B[38;5;28;01mif\u001B[39;00m obj2 \u001B[38;5;129;01mis\u001B[39;00m \u001B[38;5;129;01mnot\u001B[39;00m obj:\n",
      "\u001B[1;31mPicklingError\u001B[0m: Can't pickle <function <lambda> at 0x000001CE8B2F2EE0>: it's not found as __main__.<lambda>"
     ]
    }
   ],
   "source": [
    "joblib.dump(clf, \"./clf.joblib\")"
   ],
   "metadata": {
    "collapsed": false,
    "ExecuteTime": {
     "end_time": "2023-07-09T18:00:20.128923Z",
     "start_time": "2023-07-09T18:00:18.816023900Z"
    }
   }
  }
 ],
 "metadata": {
  "kernelspec": {
   "display_name": "Python 3",
   "language": "python",
   "name": "python3"
  },
  "language_info": {
   "codemirror_mode": {
    "name": "ipython",
    "version": 2
   },
   "file_extension": ".py",
   "mimetype": "text/x-python",
   "name": "python",
   "nbconvert_exporter": "python",
   "pygments_lexer": "ipython2",
   "version": "2.7.6"
  }
 },
 "nbformat": 4,
 "nbformat_minor": 0
}
